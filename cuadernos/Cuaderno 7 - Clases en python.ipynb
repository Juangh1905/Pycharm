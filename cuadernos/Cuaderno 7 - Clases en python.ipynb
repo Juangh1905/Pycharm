{
 "cells": [
  {
   "cell_type": "markdown",
   "id": "8731c6e74ba293b8",
   "metadata": {},
   "source": [
    "# Creación de clases y objetos en python\n",
    "\n",
    "### 🧩 1. ¿Qué es una clase y qué es un objeto?\n",
    "\n",
    "En **programación orientada a objetos (POO)**, una **clase** es una plantilla o molde que define cómo serán los objetos que se creen a partir de ella.\n",
    "Una **clase** describe **qué atributos (datos)** y **qué métodos (comportamientos)** tendrán sus objetos.\n",
    "\n",
    "Un **objeto** es una **instancia concreta** de una clase: algo que realmente existe en el programa y que tiene valores propios para sus atributos.\n",
    "\n",
    "Podemos pensarlo así:\n",
    "- La clase es la **receta**.\n",
    "- El objeto es el **platillo** hecho a partir de esa receta.\n",
    "\n",
    "Por ejemplo, si tenemos una clase `Persona`, esta define lo que **toda persona** debe tener (nombre, edad, etc.).\n",
    "Cada objeto (por ejemplo, `juan` o `ana`) tendrá sus propios valores para esos atributos.\n"
   ]
  },
  {
   "cell_type": "code",
   "execution_count": 1,
   "id": "23ebc0cb2020090",
   "metadata": {},
   "outputs": [
    {
     "name": "stdout",
     "output_type": "stream",
     "text": [
      "<class '__main__.Persona'>\n"
     ]
    }
   ],
   "source": [
    "class Persona:\n",
    "    pass\n",
    "\n",
    "p1 = Persona()\n",
    "print(type(p1))"
   ]
  },
  {
   "cell_type": "markdown",
   "id": "50cc7ba6d376251d",
   "metadata": {},
   "source": [
    "### 🧱 2. Atributos de instancia y el método `__init__`\n",
    "\n",
    "Las clases pueden tener **atributos**, que son variables asociadas a cada objeto.\n",
    "Cada **instancia** (objeto creado a partir de una clase) tiene sus propios valores para esos atributos.\n",
    "\n",
    "El método especial `__init__` se llama **automáticamente** cuando se crea un nuevo objeto.\n",
    "Sirve para **inicializar los atributos** del objeto, es decir, para darle valores iniciales.\n",
    "\n",
    "Dentro de la clase, usamos la palabra clave `self` para referirnos al **propio objeto**.\n",
    "`self` permite acceder a los atributos y métodos desde dentro de la clase.\n",
    "\n",
    "Por ejemplo:\n",
    "\n",
    "\n"
   ]
  },
  {
   "cell_type": "code",
   "execution_count": null,
   "id": "b58f7aa1ee0fb91a",
   "metadata": {},
   "outputs": [],
   "source": [
    "class Persona:\n",
    "    def __init__(self, nombre, edad):\n",
    "        self.nombre = nombre    # atributo de instancia\n",
    "        self.edad = edad        # atributo de instancia\n",
    "\n",
    "# Crear un objeto (instancia)\n",
    "p1 = Persona(\"Ana\", 30)\n",
    "\n",
    "print(p1.nombre)  # Ana\n",
    "print(p1.edad)    # 30"
   ]
  },
  {
   "cell_type": "markdown",
   "id": "e674c3a88c8d4c7f",
   "metadata": {},
   "source": [
    "### ⚙️ 3. Métodos de instancia\n",
    "\n",
    "Además de atributos, las clases pueden tener **métodos**, que son **funciones definidas dentro de la clase**.\n",
    "Los métodos describen el **comportamiento** de los objetos: acciones que pueden realizar o que se pueden ejecutar sobre ellos.\n",
    "\n",
    "Al igual que en el constructor, todos los métodos deben recibir como primer parámetro a `self`,\n",
    "que representa al propio objeto desde el cual se llama al método.\n",
    "\n",
    "Por ejemplo:\n",
    "\n",
    "```python\n",
    "class Persona:\n",
    "    def __init__(self, nombre, edad):\n",
    "        self.nombre = nombre\n",
    "        self.edad = edad\n",
    "\n",
    "    def saludar(self):\n",
    "        return f\"Hola, soy {self.nombre} y tengo {self.edad} años.\""
   ]
  },
  {
   "cell_type": "code",
   "execution_count": 3,
   "id": "c325a8d089d076f6",
   "metadata": {},
   "outputs": [],
   "source": [
    "class Persona:\n",
    "    def __init__(self, nombre, edad):\n",
    "        self.nombre = nombre\n",
    "        self.edad = edad\n",
    "\n",
    "    def saludar(self):\n",
    "        return f\"Hola, soy {self.nombre} y tengo {self.edad} años.\""
   ]
  },
  {
   "cell_type": "code",
   "execution_count": 4,
   "id": "40e85f929efe0ba0",
   "metadata": {
    "scrolled": true
   },
   "outputs": [
    {
     "name": "stdout",
     "output_type": "stream",
     "text": [
      "Hola, soy Carlos y tengo 25 años.\n"
     ]
    }
   ],
   "source": [
    "#para usar un método en concreto, se usa el objeto\n",
    "p1 = Persona(\"Carlos\", 25)\n",
    "print(p1.saludar())\n"
   ]
  },
  {
   "cell_type": "markdown",
   "id": "ffd39cfd6ab410a0",
   "metadata": {},
   "source": [
    "#### ⚙️ El parámetro `self`\n",
    "\n",
    "El parámetro `self` representa **al propio objeto** que llama al método.\n",
    "Python lo pasa **automáticamente** cuando se ejecuta un método de instancia,\n",
    "y se usa para acceder a los **atributos** y **otros métodos** del mismo objeto.\n",
    "\n",
    "Ejemplo:\n",
    "\n",
    "\n"
   ]
  },
  {
   "cell_type": "markdown",
   "id": "1c4010c72cc3567f",
   "metadata": {},
   "source": [
    "# EJERCICIO!\n",
    "Agrega a la clase Persona un método llamado cumplir_años() que:\n",
    "\n",
    "Aumente la edad en 1 año.\n",
    "\n",
    "Muestre un mensaje indicando la nueva edad."
   ]
  },
  {
   "cell_type": "code",
   "execution_count": 5,
   "id": "1adea659f716569f",
   "metadata": {},
   "outputs": [
    {
     "name": "stdout",
     "output_type": "stream",
     "text": [
      "Ana ahora tiene 31 años.\n",
      "Ana ahora tiene 33 años.\n"
     ]
    }
   ],
   "source": [
    "\n",
    "class Persona:\n",
    "    def __init__(self, nombre, edad):\n",
    "        self.nombre = nombre\n",
    "        self.edad = edad\n",
    "\n",
    "    def cumplir_años(self, años=1):\n",
    "        self.edad += años\n",
    "        print(f\"{self.nombre} ahora tiene {self.edad} años.\")\n",
    "\n",
    "p1 = Persona(\"Ana\", 30)\n",
    "p1.cumplir_años()      # 'self' apunta a p1\n",
    "p1.cumplir_años(2)     # 'self' apunta a p1, ver el siguiente comentario\n",
    "\n",
    "# en realidad, la llamada es como si hicieramos\n",
    "# Persona.cumplir_años(p1,2)\n"
   ]
  },
  {
   "cell_type": "markdown",
   "id": "afc5faad388fab3b",
   "metadata": {},
   "source": [
    "### 🪞 4. Representación de objetos: `__str__` y `__repr__`\n",
    "\n",
    "Cuando imprimimos un objeto en Python (por ejemplo, con `print(objeto)`),\n",
    "por defecto se muestra algo como `<__main__.Persona object at 0x7f...>`,\n",
    "lo cual no es muy informativo.\n",
    "\n",
    "Para mostrar una representación más legible, podemos **personalizar cómo se muestra el objeto** usando los métodos especiales:\n",
    "\n",
    "- `__str__(self)` → define **cómo se mostrará el objeto** cuando usamos `print()`.\n",
    "- `__repr__(self)` → define una **representación más técnica o detallada**, útil para depuración.\n",
    "\n",
    "Ejemplo:\n",
    "\n"
   ]
  },
  {
   "cell_type": "code",
   "execution_count": 7,
   "id": "37fd0a3659c3bacd",
   "metadata": {},
   "outputs": [
    {
     "name": "stdout",
     "output_type": "stream",
     "text": [
      "Lucía (28 años)\n",
      "Persona(nombre='Lucía', edad=28)\n"
     ]
    }
   ],
   "source": [
    "class Persona:\n",
    "    def __init__(self, nombre, edad):\n",
    "        self.nombre = nombre\n",
    "        self.edad = edad\n",
    "\n",
    "    \n",
    "\n",
    "    def __str__(self):\n",
    "        return f\"{self.nombre} ({self.edad} años)\"\n",
    "\n",
    "    def __repr__(self):\n",
    "        return f\"Persona(nombre='{self.nombre}', edad={self.edad})\"\n",
    "\n",
    "p1 = Persona(\"Lucía\", 28)\n",
    "\n",
    "print(p1)        # Usa __str__\n",
    "print(repr(p1))  # Usa __repr__\n"
   ]
  },
  {
   "cell_type": "markdown",
   "id": "80ef185f66054ff1",
   "metadata": {},
   "source": [
    "### 🧮 5. Atributos y métodos de clase\n",
    "\n",
    "Hasta ahora, todos los atributos que hemos visto son **atributos de instancia**,\n",
    "es decir, pertenecen a cada objeto individualmente.\n",
    "Pero también podemos definir **atributos de clase**, que son **compartidos por todas las instancias** de una clase.\n",
    "\n",
    "Un **atributo de clase** se define directamente dentro del cuerpo de la clase,\n",
    "fuera de cualquier método.\n",
    "Se accede a él a través del nombre de la clase o de cualquier objeto.\n",
    "\n",
    "Ejemplo:\n"
   ]
  },
  {
   "cell_type": "code",
   "execution_count": null,
   "id": "d32aba81e4afd8ac",
   "metadata": {},
   "outputs": [],
   "source": [
    "class Persona:\n",
    "    especie = \"Humano\"  # atributo de clase (compartido por todos)\n",
    "\n",
    "    def __init__(self, nombre):\n",
    "        self.nombre = nombre  # atributo de instancia (propio de cada objeto)\n"
   ]
  },
  {
   "cell_type": "code",
   "execution_count": null,
   "id": "9cc5486da0bab8c",
   "metadata": {},
   "outputs": [],
   "source": [
    "p1 = Persona(\"Ana\")\n",
    "p2 = Persona(\"Luis\")\n",
    "\n",
    "print(p1.nombre, p1.especie)  # Ana Humano\n",
    "print(p2.nombre, p2.especie)  # Luis Humano\n",
    "\n",
    "# También se puede acceder desde la clase\n",
    "print(Persona.especie)\n"
   ]
  },
  {
   "cell_type": "markdown",
   "id": "83b98fa81fc9930d",
   "metadata": {},
   "source": [
    "Si cambiamos el atributo de clase desde la clase misma,\n",
    "el cambio afectará a todas las instancias que no tengan un atributo con el mismo nombre a nivel de objeto.\n",
    "\n",
    "También existen métodos de clase, que se definen con el decorador @classmethod.\n",
    "Estos métodos reciben como primer parámetro cls (la clase) en lugar de self (el objeto)."
   ]
  },
  {
   "cell_type": "code",
   "execution_count": null,
   "id": "2309a5858dc04deb",
   "metadata": {},
   "outputs": [],
   "source": [
    "class Persona:\n",
    "    especie = \"Humano\"\n",
    "    contador = 0\n",
    "\n",
    "    def __init__(self, nombre):\n",
    "        self.nombre = nombre\n",
    "        Persona.contador += 1\n",
    "\n",
    "    @classmethod\n",
    "    def total_personas(cls):\n",
    "        return f\"Se han creado {cls.contador} personas.\""
   ]
  },
  {
   "cell_type": "markdown",
   "id": "d68656f59a287ca2",
   "metadata": {},
   "source": [
    "### 🔐 6. Encapsulación (atributos privados y propiedades)\n",
    "\n",
    "En la programación orientada a objetos, la **encapsulación** consiste en **proteger los datos internos** de un objeto para que no sean modificados directamente desde fuera de la clase.\n",
    "\n",
    "En Python no existe una privacidad absoluta, pero hay **convenciones** para indicar el nivel de acceso:\n",
    "\n",
    "- `_atributo` → indica que **no debería** modificarse directamente (convención de “uso interno”).\n",
    "- `__atributo` → activa un **mecanismo de nombre interno** que dificulta el acceso directo (name mangling).\n",
    "\n",
    "Ejemplo:\n",
    "\n"
   ]
  },
  {
   "cell_type": "code",
   "execution_count": null,
   "id": "495b3585a972086",
   "metadata": {},
   "outputs": [],
   "source": [
    "class CuentaBancaria:\n",
    "    def __init__(self, saldo):\n",
    "        self._saldo = saldo  # atributo \"protegido\"\n",
    "\n",
    "    def depositar(self, cantidad):\n",
    "        if cantidad > 0:\n",
    "            self._saldo += cantidad\n",
    "\n",
    "    def mostrar_saldo(self):\n",
    "        return f\"Saldo actual: ${self._saldo}\""
   ]
  },
  {
   "cell_type": "markdown",
   "id": "2a885ead8c7cf998",
   "metadata": {},
   "source": [
    "Python ofrece los decoradores @property y @<propiedad>.setter,\n",
    "que permiten usar métodos como si fueran atributos, de forma controlada."
   ]
  },
  {
   "cell_type": "code",
   "execution_count": null,
   "id": "5f80ea6ed4c85942",
   "metadata": {},
   "outputs": [],
   "source": [
    "class CuentaBancaria:\n",
    "    def __init__(self, saldo):\n",
    "        self._saldo = saldo\n",
    "\n",
    "    @property\n",
    "    def saldo(self):\n",
    "        return self._saldo\n",
    "\n",
    "    @saldo.setter\n",
    "    def saldo(self, cantidad):\n",
    "        if cantidad >= 0:\n",
    "            self._saldo = cantidad\n",
    "        else:\n",
    "            print(\"El saldo no puede ser negativo.\")\n"
   ]
  },
  {
   "cell_type": "code",
   "execution_count": null,
   "id": "21f206a498d8db25",
   "metadata": {},
   "outputs": [],
   "source": [
    "c = CuentaBancaria(1000)\n",
    "print(c.saldo)   # accede al getter\n",
    "c.saldo = 1500   # usa el setter\n",
    "print(c.saldo)\n",
    "\n"
   ]
  },
  {
   "cell_type": "markdown",
   "id": "5a838d8f5a98d185",
   "metadata": {},
   "source": [
    "### 🧬 7. Herencia\n",
    "\n",
    "La **herencia** permite **crear nuevas clases basadas en otras** ya existentes.\n",
    "De esta forma, una clase “hija” puede **reutilizar** los atributos y métodos de una clase “padre”,\n",
    "y además **añadir o modificar** comportamientos.\n",
    "\n",
    "Esto evita repetir código y ayuda a organizar mejor los programas."
   ]
  },
  {
   "cell_type": "code",
   "execution_count": null,
   "id": "c389b2fb41d49ba2",
   "metadata": {},
   "outputs": [],
   "source": [
    "class ClasePadre:\n",
    "    # código base\n",
    "    pass\n",
    "\n",
    "class ClaseHija(ClasePadre):\n",
    "    # código extendido o modificado\n",
    "    pass"
   ]
  },
  {
   "cell_type": "code",
   "execution_count": null,
   "id": "1f99c3d3a4d5a9cf",
   "metadata": {},
   "outputs": [],
   "source": [
    "#ejemplo\n",
    "class Animal:\n",
    "    def __init__(self, nombre):\n",
    "        self.nombre = nombre\n",
    "\n",
    "    def hablar(self):\n",
    "        return \"Sonido genérico\"\n",
    "\n",
    "class Perro(Animal):\n",
    "    def hablar(self):\n",
    "        return \"¡Guau!\"\n",
    "\n",
    "class Gato(Animal):\n",
    "    def hablar(self):\n",
    "        return \"¡Miau!\"\n"
   ]
  },
  {
   "cell_type": "code",
   "execution_count": null,
   "id": "2517d96ae1cb512c",
   "metadata": {},
   "outputs": [],
   "source": [
    "a1 = Perro(\"Firulais\")\n",
    "a2 = Gato(\"Michi\")\n",
    "\n",
    "print(a1.nombre, \"dice:\", a1.hablar())\n",
    "print(a2.nombre, \"dice:\", a2.hablar())\n",
    "\n"
   ]
  },
  {
   "cell_type": "markdown",
   "id": "bdf1748670b57e78",
   "metadata": {},
   "source": [
    "¿Qué pasa si la clase hija necesita su propio constructor?\n",
    "\n",
    "Podemos sobrescribir __init__, pero si también queremos mantener lo que hace el constructor de la clase padre, usamos super():"
   ]
  },
  {
   "cell_type": "code",
   "execution_count": null,
   "id": "70d402e7e009ff9d",
   "metadata": {},
   "outputs": [],
   "source": [
    "class Perro(Animal):\n",
    "    def __init__(self, nombre, raza):\n",
    "        super().__init__(nombre)  # Llama al constructor de Animal\n",
    "        self.raza = raza\n"
   ]
  },
  {
   "cell_type": "markdown",
   "id": "ee84aa05eb738a33",
   "metadata": {},
   "source": [
    "### 🌀 8. Polimorfismo y sobreescritura de métodos\n",
    "\n",
    "El **polimorfismo** es la capacidad de que **diferentes clases** respondan de forma distinta\n",
    "a un **mismo método o mensaje**.\n",
    "\n",
    "En otras palabras, varias clases pueden tener **métodos con el mismo nombre**,\n",
    "pero cada una los implementa **a su manera**.\n",
    "\n",
    "Esto permite escribir código más flexible y reutilizable,\n",
    "ya que podemos tratar distintos objetos **de manera uniforme**,\n",
    "aunque su comportamiento sea distinto.\n",
    "\n",
    "#### Ejemplo:\n"
   ]
  },
  {
   "cell_type": "code",
   "execution_count": null,
   "id": "63eb5acfae029156",
   "metadata": {},
   "outputs": [],
   "source": [
    "\n",
    "class Animal:\n",
    "    def hablar(self):\n",
    "        return \"Sonido genérico\"\n",
    "\n",
    "class Perro(Animal):\n",
    "    def hablar(self):\n",
    "        return \"Guau!\"\n",
    "\n",
    "class Gato(Animal):\n",
    "    def hablar(self):\n",
    "        return \"Miau!\"\n",
    "\n",
    "class Vaca(Animal):\n",
    "    def hablar(self):\n",
    "        return \"Muuu!\"\n"
   ]
  },
  {
   "cell_type": "code",
   "execution_count": null,
   "id": "ca59fe5d35e3b26d",
   "metadata": {},
   "outputs": [],
   "source": [
    "animales = [Perro(), Gato(), Vaca()]\n",
    "\n",
    "for animal in animales:\n",
    "    print(animal.hablar())\n"
   ]
  },
  {
   "cell_type": "markdown",
   "id": "ae19b3bf316d1ee",
   "metadata": {},
   "source": [
    "Aunque todos los objetos responden al método hablar(),\n",
    "cada uno lo hace de acuerdo a su propia implementación.\n",
    "\n",
    "Este es un ejemplo clásico de polimorfismo mediante sobreescritura de métodos\n",
    "(en inglés, method overriding)."
   ]
  },
  {
   "cell_type": "markdown",
   "id": "900e995903756279",
   "metadata": {},
   "source": [
    "### ⚡ 9. Métodos especiales (Dunder Methods)\n",
    "\n",
    "Los **métodos especiales** (también llamados *dunder methods*, por *double underscore*)\n",
    "son métodos predefinidos en Python que comienzan y terminan con `__`.\n",
    "Permiten modificar el comportamiento de los objetos en operaciones comunes\n",
    "como impresión, comparación, suma, longitud, etc.\n",
    "\n",
    "Ya conoces algunos como:\n",
    "- `__init__` → constructor del objeto\n",
    "- `__str__` → representación en texto (usado por `print()`)\n",
    "- `__repr__` → representación técnica del objeto\n",
    "\n",
    "Pero existen muchos más que nos permiten **hacer que los objetos se comporten como tipos integrados**.\n",
    "\n",
    "#### Ejemplo: comparaciones y suma entre objetos\n"
   ]
  },
  {
   "cell_type": "code",
   "execution_count": null,
   "id": "51614deaa281a1d2",
   "metadata": {},
   "outputs": [],
   "source": [
    "\n",
    "class Rectangulo:\n",
    "    def __init__(self, base, altura):\n",
    "        self.base = base\n",
    "        self.altura = altura\n",
    "\n",
    "    def area(self):\n",
    "        return self.base * self.altura\n",
    "\n",
    "    def __str__(self):\n",
    "        return f\"Rectángulo de {self.base}x{self.altura}\"\n",
    "\n",
    "    def __eq__(self, otro):\n",
    "        return self.area() == otro.area()\n",
    "\n",
    "    def __lt__(self, otro):\n",
    "        return self.area() < otro.area()\n",
    "\n",
    "    def __add__(self, otro):\n",
    "        # devuelve un nuevo rectángulo cuya área es la suma de ambas\n",
    "        nueva_area = self.area() + otro.area()\n",
    "        return f\"Área combinada: {nueva_area}\"\n"
   ]
  },
  {
   "cell_type": "code",
   "execution_count": null,
   "id": "908410e613af8bee",
   "metadata": {},
   "outputs": [],
   "source": [
    "r1 = Rectangulo(4, 5)\n",
    "r2 = Rectangulo(2, 10)\n",
    "r3 = Rectangulo(3, 3)\n",
    "\n",
    "print(r1)           # Rectángulo de 4x5\n",
    "print(r1 == r2)     # True (áreas iguales: 20)\n",
    "print(r3 < r1)      # True (9 < 20)\n",
    "print(r1 + r3)      # Área combinada: 29\n"
   ]
  },
  {
   "cell_type": "markdown",
   "id": "556b39c99a1da77a",
   "metadata": {},
   "source": [
    "\n",
    "Estos métodos hacen que los objetos sean más expresivos y fáciles de usar.\n",
    "\n",
    "Algunos dunder methods comunes:\n",
    "\n",
    "| Método                               | Descripción                                        |\n",
    "| ------------------------------------ | -------------------------------------------------- |\n",
    "| `__init__`                           | Constructor del objeto                             |\n",
    "| `__str__`                            | Representación en texto amigable                   |\n",
    "| `__repr__`                           | Representación técnica para depuración             |\n",
    "| `__len__`                            | Define el comportamiento de `len(objeto)`          |\n",
    "| `__eq__`, `__lt__`, `__gt__`         | Comparaciones (==, <, >, etc.)                     |\n",
    "| `__add__`, `__sub__`, `__mul__`, ... | Operaciones aritméticas                            |\n",
    "| `__getitem__`, `__setitem__`         | Acceso tipo lista o diccionario                    |\n",
    "| `__call__`                           | Permite llamar al objeto como si fuera una función |\n"
   ]
  },
  {
   "cell_type": "code",
   "execution_count": null,
   "id": "ea8099d581fc3622",
   "metadata": {},
   "outputs": [],
   "source": []
  }
 ],
 "metadata": {
  "kernelspec": {
   "display_name": "Python [conda env:base] *",
   "language": "python",
   "name": "conda-base-py"
  },
  "language_info": {
   "codemirror_mode": {
    "name": "ipython",
    "version": 3
   },
   "file_extension": ".py",
   "mimetype": "text/x-python",
   "name": "python",
   "nbconvert_exporter": "python",
   "pygments_lexer": "ipython3",
   "version": "3.13.5"
  }
 },
 "nbformat": 4,
 "nbformat_minor": 5
}
