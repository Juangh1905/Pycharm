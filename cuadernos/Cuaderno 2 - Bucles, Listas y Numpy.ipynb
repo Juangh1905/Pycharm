{
 "cells": [
  {
   "cell_type": "markdown",
   "id": "248322fc",
   "metadata": {},
   "source": [
    "# Bucles: Operadores de iteración\n",
    "\n",
    "## en programación estructurada while, for \n",
    "\n",
    "La idea de los bucles es ejecutar N veces un bloque de código, N está controlado por una expresión booleana\n",
    "\n"
   ]
  },
  {
   "cell_type": "markdown",
   "id": "97ee094d",
   "metadata": {},
   "source": [
    "```python\n",
    "# primer tipo de bucle while\n",
    "while expresion_booleana:\n",
    "    instruccion1\n",
    "    instruccion2\n",
    "    instruccion3\n",
    "    \n",
    "instruccion_que_no_pertenece al bucle\n",
    "```\n",
    "\n",
    "mientras la condición sea cierta, seguimos realizando las líneas del interior del bucle. Una vez la condición deja de ser verdadera, salimos del bucle.\n",
    "\n",
    "**¡Cuidado!** Hay que tener en cuenta que alguna de las instrucciones que se encuentran dentro del bucle `while` tiene que modificar a la variable de la condición. De lo contrario, si la variable de la condición nunca es modificada, la condición nunca llegará a ser falsa y el bucle no acabaría nunca, con lo que pasaría a convertirse en lo que se denomina bucle infinito."
   ]
  },
  {
   "cell_type": "code",
   "execution_count": 1,
   "id": "0af33175",
   "metadata": {},
   "outputs": [
    {
     "name": "stdout",
     "output_type": "stream",
     "text": [
      "valor: 1\n",
      "valor: 2\n",
      "valor: 3\n",
      "valor: 4\n",
      "valor: 5\n",
      "valor: 6\n",
      "valor: 7\n",
      "valor: 8\n",
      "valor: 9\n",
      "valor: 10\n"
     ]
    }
   ],
   "source": [
    "# ejemplo1: imprimir 10 números\n",
    "contador=1\n",
    "while contador<=10:\n",
    "    print(\"valor: \"+str(contador))\n",
    "    contador=contador+1\n",
    "    "
   ]
  },
  {
   "cell_type": "code",
   "execution_count": null,
   "id": "5a5a1b7c",
   "metadata": {},
   "outputs": [],
   "source": [
    "#ejemplo 2: imprimir las edades desde la tuya hasta 100\n",
    "edad=int(input(\"Dime tu edad: \"))\n",
    "while edad <=100:\n",
    "    print(\"edad: \"+str(edad))\n",
    "    edad+=1 \n",
    "    "
   ]
  },
  {
   "cell_type": "code",
   "execution_count": null,
   "id": "7f35bb9e",
   "metadata": {},
   "outputs": [],
   "source": [
    "# Cuidado con los bucles infinito: while condición_booleana siempre es true\n",
    "edad=1\n",
    "while edad >0:\n",
    "    print(\"edad \"+str(edad))\n",
    "    edad+=1\n"
   ]
  },
  {
   "cell_type": "markdown",
   "id": "584a6eb6",
   "metadata": {},
   "source": [
    "Se interrumpir la ejecución de un bucle con la sentencia \"break\"\n",
    "\n",
    "```python\n",
    "\n",
    "# NO ME GUSTA!!! -> ojo a las chapuzas\n",
    "\n",
    "while condicion:\n",
    "    instruccion1\n",
    "    instruccion2\n",
    "    if pasa_algo:\n",
    "        break\n",
    "    instruccion3\n",
    "    instruccion4\n",
    "        \n",
    "```\n"
   ]
  },
  {
   "cell_type": "code",
   "execution_count": null,
   "id": "d68d227a",
   "metadata": {},
   "outputs": [],
   "source": [
    "# ejemplo 3: la sucesión de fibonnaci \n",
    "# Sacar 20 términos de la sucesion de fibonnaci\n",
    "\n",
    "# 1,1,2,3,5,8,13,21,34,55,89...\n",
    "\n",
    "#primer término\n",
    "fibo_anterior=1\n",
    "print(\"El término {} ocupa la posición {}\".format(fibo_anterior,1))\n",
    "\n",
    "#segundo término \n",
    "fibo_actual=1\n",
    "print(\"El término {} ocupa la posición {}\".format(fibo_actual,2))\n",
    "\n",
    "#a partir del tercer término\n",
    "indice=3\n",
    "while indice<=20:\n",
    "    temporal=fibo_actual\n",
    "    fibo_actual+=fibo_anterior\n",
    "    fibo_anterior=temporal\n",
    "    \n",
    "    print(\"El término {} ocupa la posición {}\".format(fibo_actual,indice))\n",
    "    indice+=1\n",
    "    \n",
    "\n"
   ]
  },
  {
   "cell_type": "markdown",
   "id": "1961284a",
   "metadata": {},
   "source": [
    "## en python existe la sintaxis while-else\n",
    "\n",
    "Puedes escribir un bucle while y ejecutar una condición cuando la expresión booleana que controla el bucle, ya no se cumpla:\n",
    "\n"
   ]
  },
  {
   "cell_type": "code",
   "execution_count": 2,
   "id": "63acd71a",
   "metadata": {},
   "outputs": [
    {
     "name": "stdout",
     "output_type": "stream",
     "text": [
      "10\n",
      "9\n",
      "8\n",
      "7\n",
      "6\n",
      "5\n",
      "4\n",
      "3\n",
      "2\n",
      "1\n",
      "despegamos!!!\n"
     ]
    }
   ],
   "source": [
    "#ejemplo 4\n",
    "#cuenta atrás\n",
    "\n",
    "contador=10\n",
    "while contador > 0:\n",
    "    print(contador)\n",
    "    contador=contador-1\n",
    "else:\n",
    "    print(\"despegamos!!!\")"
   ]
  },
  {
   "cell_type": "markdown",
   "id": "bb9bb57c",
   "metadata": {},
   "source": [
    "# bucle for\n",
    "\n",
    "La idea del bucle `for` es: para todos los elementos de la clave, seguimos realizando las líneas del bucle. Una vez nos quedemos sin elementos, salimos del bucle.\n",
    "\n",
    "Su estructura es la siguiente\n",
    "\n",
    "```python\n",
    "for clave:\n",
    "    instruccion1\n",
    "    instruccion2\n",
    "    ...\n",
    "    instruccionN\n",
    "    \n",
    "```\n",
    "\n",
    "\n",
    "Se ejecuta un número **determinado** de veces el bloque de instrucciones\n"
   ]
  },
  {
   "cell_type": "code",
   "execution_count": 1,
   "id": "85f16177",
   "metadata": {},
   "outputs": [
    {
     "name": "stdout",
     "output_type": "stream",
     "text": [
      "E\n",
      "s\n",
      "t\n",
      "o\n",
      " \n",
      "e\n",
      "s\n",
      " \n",
      "u\n",
      "n\n",
      "a\n",
      " \n",
      "c\n",
      "a\n",
      "d\n",
      "e\n",
      "n\n",
      "a\n",
      " \n",
      "d\n",
      "e\n",
      " \n",
      "c\n",
      "a\n",
      "r\n",
      "a\n",
      "c\n",
      "t\n",
      "e\n",
      "r\n",
      "e\n",
      "s\n"
     ]
    }
   ],
   "source": [
    "#puedo recorrer los caracteres de un string, con un bucle for\n",
    "s=\"Esto es una cadena de caracteres\"\n",
    "\n",
    "\n",
    "for caracter in s:\n",
    "    print(caracter)"
   ]
  },
  {
   "cell_type": "markdown",
   "id": "04f8abae",
   "metadata": {},
   "source": [
    "### Función `range()`\n",
    "\n",
    "La función `range()` tiene 3 posibles argumentos: \n",
    " \n",
    " - `start` \n",
    " - `stop` \n",
    " - `step`\n",
    "\n",
    "Veremos el uso de la función `range()` con un ejemplo. Devuelve un _iterador_ de la clase _range_\n",
    "\n",
    "**Observación.** Cosas a tener en cuenta cuando usamos la función `range()`:\n",
    "\n",
    "- El elemento indicado en el argumento `stop` nunca se incluye.\n",
    "- Si no indicamos ningún elemento en el argumento `start`, por defecto éste vale 0.\n",
    "- El valor por defecto del argumento `step` es 1.\n"
   ]
  },
  {
   "cell_type": "code",
   "execution_count": null,
   "id": "d69f6236",
   "metadata": {},
   "outputs": [],
   "source": [
    "# sentencia imprescindible en el bucle : range\n",
    "lista=list(range(20))\n",
    "lista"
   ]
  },
  {
   "cell_type": "code",
   "execution_count": null,
   "id": "4291b3b5",
   "metadata": {},
   "outputs": [],
   "source": [
    "#range(x) <-> un iterable de 0 hasta x (X excluido de la iteración)\n",
    "for i in range(20):\n",
    "    print(\"iteración\",i)"
   ]
  },
  {
   "cell_type": "code",
   "execution_count": null,
   "id": "0c506874",
   "metadata": {},
   "outputs": [],
   "source": [
    "#con for puedo iterar por objetos iterables \n",
    "for i in [ 10,20,30,\"a\",[100,1000,100000] ]:\n",
    "    print(i)\n",
    "    \n"
   ]
  },
  {
   "cell_type": "code",
   "execution_count": null,
   "id": "5fc8cd18",
   "metadata": {},
   "outputs": [],
   "source": [
    "# ejecutar 10 veces print(\"Hola\")  -> _ lo que hace es descartar la asignación a una variable de la iteración N\n",
    "for _ in range(10):\n",
    "    print(\"Hola\")"
   ]
  },
  {
   "cell_type": "code",
   "execution_count": null,
   "id": "6d72d1a5",
   "metadata": {},
   "outputs": [],
   "source": [
    "s=\"cadena\"\n",
    "\n",
    "#s[inicio:fin:salto]\n",
    "\n",
    "#range pasa lo mismo range(inicio,fin,salto)\n",
    "\n",
    "#sacar los 20 números pares que hay entre el 100 y el 200\n",
    "\n",
    "for i in range(100,200,2):   #[100,200)  , incluye el 100 y no el 200\n",
    "    print(i)\n",
    "\n"
   ]
  },
  {
   "cell_type": "markdown",
   "id": "57c5a1c4",
   "metadata": {},
   "source": [
    "### Comando `continue`\n",
    "\n",
    "El comando `continue` es similar a `break`, pero en vez de salir del bucle, lo que hace es interrumpir la iteración en la que se encuentra y empezar la siguiente iteración.\n",
    "\n",
    "OJO! tampoco me gusta. \n"
   ]
  },
  {
   "cell_type": "code",
   "execution_count": null,
   "id": "26791046",
   "metadata": {},
   "outputs": [],
   "source": [
    "#ejemplo: imprimir los números del 1 al 100 sin los pares y sin los múltiplos de 5\n",
    "for i in range(101):\n",
    "  if i % 2 == 0 or i % 5 == 0:\n",
    "    continue\n",
    "  print(i)"
   ]
  },
  {
   "cell_type": "markdown",
   "id": "0727fa37",
   "metadata": {},
   "source": [
    "## Los bucles se pueden anidar\n",
    "\n",
    "```python\n",
    "while condicion:\n",
    "    instruccion1\n",
    "    while condicion2:\n",
    "        instruccion2_1\n",
    "        instruccion2_2\n",
    "        instruccion2_N\n",
    "    ...\n",
    "    instruccionN\n",
    "   ```"
   ]
  },
  {
   "cell_type": "code",
   "execution_count": null,
   "id": "af2709e5",
   "metadata": {},
   "outputs": [],
   "source": [
    "# sacar las tablas de multiplicar del 1 al 10\n",
    "for numero in range (1,11):\n",
    "    for numero2 in range (1,11):\n",
    "        print(\"{} x {} = {}\".format(numero,numero2,numero*numero2))\n",
    "    print(\"\")\n",
    "\n"
   ]
  },
  {
   "cell_type": "markdown",
   "id": "c535bec4",
   "metadata": {},
   "source": [
    "# Las estructuras de datos de tipo Lista\n",
    "\n",
    "Hasta ahora hemos visto son sólamentes los tipos nativos (enteros, flotantes, complejos y las cadenas). Ahora ver un tipo compuesto:\n",
    "Lista: Una secuencia **ordenada** de objetos. Tienen dos características más:\n",
    "- Son heterogéneas (no tienen por qué ser todos los elementos del mismo tipo -> cada elemento puede ser de diferente tipo)\n",
    "- mutable (Los elementos de la lista se pueden modificar)\n",
    "\n",
    "El operador que representa una lista de elementos es el operador `[]`"
   ]
  },
  {
   "cell_type": "code",
   "execution_count": null,
   "id": "1fa44758",
   "metadata": {},
   "outputs": [],
   "source": [
    "# Instanciación una lista\n",
    "\n",
    "#vacia\n",
    "lista_vacia=[]\n",
    "len(lista_vacia)\n"
   ]
  },
  {
   "cell_type": "code",
   "execution_count": 2,
   "id": "a563131a",
   "metadata": {},
   "outputs": [
    {
     "data": {
      "text/plain": [
       "[1, 2, 3, 4, 5, 6]"
      ]
     },
     "execution_count": 2,
     "metadata": {},
     "output_type": "execute_result"
    }
   ],
   "source": [
    "#inicialización en la creación\n",
    "\n",
    "lista=[1,2,3,4,5,6]\n",
    "\n",
    "lista"
   ]
  },
  {
   "cell_type": "code",
   "execution_count": 3,
   "id": "85c1569d",
   "metadata": {},
   "outputs": [
    {
     "data": {
      "text/plain": [
       "[1, 2, 'Otro valor', 4, 5, 6]"
      ]
     },
     "execution_count": 3,
     "metadata": {},
     "output_type": "execute_result"
    }
   ],
   "source": [
    "#las listas son mutables (acceso por índice)\n",
    "\n",
    "lista[2]='Otro valor'\n",
    "lista\n"
   ]
  },
  {
   "cell_type": "code",
   "execution_count": 4,
   "id": "4b6c1ede",
   "metadata": {},
   "outputs": [
    {
     "data": {
      "text/plain": [
       "[10, 13, 16, 19]"
      ]
     },
     "execution_count": 4,
     "metadata": {},
     "output_type": "execute_result"
    }
   ],
   "source": [
    "#puedo usar un objeto iterable para su inicialización, por ejemplo range(x,y,z)\n",
    "lista1=list(range(10,20,3))\n",
    "lista1\n"
   ]
  },
  {
   "cell_type": "code",
   "execution_count": 5,
   "id": "afbf4e10",
   "metadata": {},
   "outputs": [
    {
     "name": "stdout",
     "output_type": "stream",
     "text": [
      "[10, 12, 14, 16, 18]\n",
      "['E', 's', 't', 'o', ' ', 'e', 's', ' ', 'u', 'n', 'a', ' ', 'c', 'a', 'd', 'e', 'n', 'a', ' ', 'd', 'e', ' ', 'c', 'a', 'r', 'a', 'c', 't', 'e', 'r', 'e', 's']\n"
     ]
    }
   ],
   "source": [
    "# puedo usar un bucle for en una línea\n",
    "\n",
    "lista2= [ i for i in range(10,20,2) ]\n",
    "print(lista2)\n",
    "\n",
    "\n",
    "# por ejemplo: inicializar una lista con los caracteres de un string\n",
    "lista_caracteres=[ caracter for caracter in \"Esto es una cadena de caracteres\"]\n",
    "print(lista_caracteres)\n"
   ]
  },
  {
   "cell_type": "code",
   "execution_count": null,
   "id": "ee2ed00f",
   "metadata": {},
   "outputs": [],
   "source": [
    "# las cadenas de caracteres NO SON MUTABLES\n",
    "s=\"cadena de caracteeres\"\n",
    "s[2]=\"x\"\n"
   ]
  },
  {
   "cell_type": "code",
   "execution_count": null,
   "id": "0e692bba",
   "metadata": {},
   "outputs": [],
   "source": [
    "# longitud de una lista\n",
    "len(lista_caracteres)\n",
    "\n"
   ]
  },
  {
   "cell_type": "code",
   "execution_count": 6,
   "id": "360e16cc",
   "metadata": {},
   "outputs": [
    {
     "data": {
      "text/plain": [
       "['María', 'Pedro', 'Andrés', 'Marta']"
      ]
     },
     "execution_count": 6,
     "metadata": {},
     "output_type": "execute_result"
    }
   ],
   "source": [
    "# Cada elemento de la lista tiene su propio índice, y se puede modificar un valor de la lista\n",
    "lista_alumnos=[ \"María\", \"Pedro\", \"Andrés\", \"Adrián\"]\n",
    "lista_alumnos[3]=\"Marta\"\n",
    "lista_alumnos\n"
   ]
  },
  {
   "cell_type": "code",
   "execution_count": null,
   "id": "9514f51f",
   "metadata": {},
   "outputs": [],
   "source": [
    "#slicing de listas permite obtener \"sublistas\" y operar con ellas. [inicio:fin:salto] -> negativos\n",
    "# p.ej: obtener los dos primeros alumnos de lista_alumnos\n",
    "\n",
    "print(lista_alumnos[0:2])\n",
    "\n",
    "# o \n",
    "print(lista_alumnos[:2])\n",
    "\n",
    "#o\n",
    "print(lista_alumnos[:-2])\n",
    "\n"
   ]
  },
  {
   "cell_type": "code",
   "execution_count": null,
   "id": "667893d3",
   "metadata": {},
   "outputs": [],
   "source": [
    "#OJO: El slicing genera una nueva lista a partir de una existente\n",
    "lista1=list(range(100,2000,10))\n",
    "lista2=lista1[20:40:3]\n",
    "lista2\n"
   ]
  },
  {
   "cell_type": "code",
   "execution_count": null,
   "id": "e016f591",
   "metadata": {},
   "outputs": [],
   "source": [
    "#operaciones sencillas\n",
    "\n",
    "#append -> añade los elementos al final\n",
    "lista_alumnos.append(\"Mario\")\n",
    "lista_alumnos\n"
   ]
  },
  {
   "cell_type": "code",
   "execution_count": null,
   "id": "c6787e2b",
   "metadata": {},
   "outputs": [],
   "source": [
    "# insert -> inserta un elemento en un índice determinado\n",
    "lista_alumnos.insert(2,'Javier')\n",
    "lista_alumnos\n",
    "\n",
    "#OJO: para utilizar insert-> se desplazan los siguientes elementos en memoria"
   ]
  },
  {
   "cell_type": "markdown",
   "id": "4c0b0406",
   "metadata": {},
   "source": [
    "## bucles con listas\n",
    "\n",
    "Podemos usar cualquier tipo de bucle para recorrer una lista: \n",
    "while -> [índice]\n",
    "\n",
    "```python\n",
    "indice=0\n",
    "while indice < len(lista):\n",
    "    procesar(lista[indice])\n",
    "    indice+=1\n",
    "```\n",
    "\n",
    "\n",
    "Lo normal, es utilizar un bucle for:\n",
    "```python\n",
    "for i in lista:\n",
    "    procesar(i)\n",
    "```\n",
    "\n",
    "\n"
   ]
  },
  {
   "cell_type": "code",
   "execution_count": 7,
   "id": "bcfff316",
   "metadata": {},
   "outputs": [
    {
     "data": {
      "text/plain": [
       "['María Jimenez Pérez',\n",
       " 'Pedro Jimenez Pérez',\n",
       " 'Andrés Jimenez Pérez',\n",
       " 'Marta Jimenez Pérez']"
      ]
     },
     "execution_count": 7,
     "metadata": {},
     "output_type": "execute_result"
    }
   ],
   "source": [
    "# ejercicio:\n",
    "# lista_alumnos, recorráis la lista con un bucle while, añadiendole un apellido que es 'Jimenez'\n",
    "\n",
    "indice=0\n",
    "while indice < len(lista_alumnos):\n",
    "    lista_alumnos[indice]=lista_alumnos[indice]+ \" Jimenez\"\n",
    "    indice+=1\n",
    "\n",
    "\n",
    "# for: \n",
    "for i in range(0,len(lista_alumnos)):\n",
    "    lista_alumnos[i]=lista_alumnos[i]+ \" Pérez\"\n",
    "lista_alumnos\n"
   ]
  },
  {
   "cell_type": "code",
   "execution_count": null,
   "id": "41caf539",
   "metadata": {},
   "outputs": [],
   "source": [
    "# puedo recorrer la lista (sin modificarla) con un bucle for muy sencillo\n",
    "\n",
    "for elemento in lista_alumnos:\n",
    "    print(elemento)\n"
   ]
  },
  {
   "cell_type": "markdown",
   "id": "8be68a5c",
   "metadata": {},
   "source": [
    "## otras operaciones\n",
    "\n",
    "Puedo realizar concatenación con el operador `+` y puedo \"repetir\" los elementos de una lista con el operador `*`\n"
   ]
  },
  {
   "cell_type": "code",
   "execution_count": 8,
   "id": "7f492327",
   "metadata": {},
   "outputs": [
    {
     "data": {
      "text/plain": [
       "['María Jimenez Pérez',\n",
       " 'Pedro Jimenez Pérez',\n",
       " 'Andrés Jimenez Pérez',\n",
       " 'Marta Jimenez Pérez',\n",
       " 'Juan',\n",
       " 'Mario',\n",
       " 'Pepe']"
      ]
     },
     "execution_count": 8,
     "metadata": {},
     "output_type": "execute_result"
    }
   ],
   "source": [
    "lista_alumnos2= [ \"Juan\", \"Mario\",\"Pepe\"]\n",
    "\n",
    "\n",
    "lista_alumnos+lista_alumnos2   # genera una nueva lista, con la \"suma\" de los elementos de las dos listas"
   ]
  },
  {
   "cell_type": "code",
   "execution_count": 10,
   "id": "78489ace",
   "metadata": {},
   "outputs": [
    {
     "data": {
      "text/plain": [
       "1500"
      ]
     },
     "execution_count": 10,
     "metadata": {},
     "output_type": "execute_result"
    }
   ],
   "source": [
    "# multiplicación o mejor llamada \"repetición de listas \" se utiliza el operador *\n",
    "lista=[ i for i in range(1000,1500)]\n",
    "len(lista*3)\n"
   ]
  },
  {
   "cell_type": "code",
   "execution_count": 11,
   "id": "f9d25d11",
   "metadata": {},
   "outputs": [
    {
     "name": "stdout",
     "output_type": "stream",
     "text": [
      "La lista SI está vacia\n"
     ]
    }
   ],
   "source": [
    "# Saber si una lista está vacia o no\n",
    "# -> len(lista) == 0 # lista está vacia\n",
    "\n",
    "lista_vacia=[]\n",
    "\n",
    "if lista_vacia:\n",
    "    print(\"La lista no esta vacia\")\n",
    "else:\n",
    "    print(\"La lista SI está vacia\")\n",
    "    "
   ]
  },
  {
   "cell_type": "code",
   "execution_count": null,
   "id": "ad9c4a42",
   "metadata": {},
   "outputs": [],
   "source": [
    "# count() -> cuenta el número de apariciones de un elemento en una lista\n",
    "lista=[2,3,4,3,3,-1,9,3,8]\n",
    "\n",
    "lista.count(3)\n"
   ]
  },
  {
   "cell_type": "code",
   "execution_count": 12,
   "id": "49ae7ce9",
   "metadata": {},
   "outputs": [
    {
     "name": "stdout",
     "output_type": "stream",
     "text": [
      "El elemento 2 aparece 2\n",
      "El elemento 3 aparece 4\n",
      "El elemento 4 aparece 1\n",
      "El elemento -1 aparece 2\n",
      "El elemento 9 aparece 1\n",
      "El elemento 8 aparece 1\n"
     ]
    }
   ],
   "source": [
    "# Dada una lista, hacer un programa que nos diga, \n",
    "#cuántas veces se repite cada elemento de la lista\n",
    "\n",
    "lista=[2,3,4,3,2,3,-1,9,-1,3,8]\n",
    "\n",
    "existen=[]\n",
    "for i in range(0,len(lista)):\n",
    "    aux=lista[i]\n",
    "    if aux not in existen:\n",
    "        print(\"El elemento \"+str(aux)+\" aparece \"+str(lista.count(aux)))\n",
    "        existen.append(aux)\n",
    "        "
   ]
  },
  {
   "cell_type": "markdown",
   "id": "29bddc88",
   "metadata": {},
   "source": [
    "## Más métodos para la gestión de listas\n",
    "\n",
    "Vamos a hablar de los siguientes:\n",
    "- .count(elemento) sirve para contar el número de apariciones de elemento en la lista\n",
    "- .extend(elemento) sirve para añadir elementos a la lista\n",
    "- .index(elemento) sirve para buscar una ocurrencia de elemento dentro la lista: (primer índice)\n",
    "- .pop() nos devuelve el último elemento de la lista y lo elimina.\n",
    "- .remove(elemento) recibe como argumento un elemento y borra su primera aparición en la lista\n",
    "- .reverse() devolver la lista en orden inverso\n",
    "- .sort() ordena el contenido de la lista\n"
   ]
  },
  {
   "cell_type": "code",
   "execution_count": null,
   "id": "658399ef",
   "metadata": {},
   "outputs": [],
   "source": [
    "# Ejemplo de ampliación de una lista\n",
    "lista_alumnos=[\"David\",\"Mario\",\"Paco\",\"Lucia\"]\n",
    "print(lista_alumnos)\n",
    "\n",
    "#método 1 para añadir elementos a la lista\n",
    "lista_nueva=lista_alumnos + [\"Pedro\",\"Pepe\"]\n",
    "print(lista_nueva)\n",
    "\n",
    "#extend nos permite modificar el contenido de una lista existente\n",
    "lista_nueva.extend([\"María\",\"Sonia\"])\n",
    "print(lista_nueva)\n",
    "\n"
   ]
  },
  {
   "cell_type": "markdown",
   "id": "95ad68ab",
   "metadata": {},
   "source": [
    "### Ejemplo del método index:\n",
    "\n",
    "Index es un método con tres parámetros: list.index(x[, start[, end]])\n",
    "\n",
    "x, es el elemento a buscar.\n",
    "start,end es el rango de posiciones de la lista donde se inicia la búsqueda:\n",
    "   start(comienzo) y end(fin)\n",
    "   \n",
    "\n"
   ]
  },
  {
   "cell_type": "code",
   "execution_count": null,
   "id": "14e901e8",
   "metadata": {},
   "outputs": [],
   "source": [
    "lista_numeros=[10,2,10,20,10,10,100]\n",
    "\n",
    "#primera llamada a index -> devuelve la posición del primer elemento\n",
    "#print(lista_numeros.index(10))\n",
    "\n",
    "#segunda llamada \n",
    "#print(lista_numeros.index(10,1))\n",
    "\n",
    "#N llamadas \n",
    "#print(lista_numeros.index(10,3,len(lista_numeros)))\n",
    "\n",
    "\n",
    "#Con el método index, crear un bucle para sacar todas las ocurrencias del número 10\n",
    "#la lista anterior -> las ocurrencias las metéis en una nueva lista\n",
    "#lista_numeros=[10,2,10,20,10,10,100,......]\n",
    "lista_numeros=[20,20,20,10,10,20,1,2,2,3,3,4,4,5,5,6,6,7,7,8,9,9,0,0,20]\n",
    "ocurrencias=[]\n",
    "numero_a_buscar=20\n",
    "encontrado=True   # saber si tengo que salir del bucle o no\n",
    "i=0\n",
    "while encontrado:\n",
    "    try:\n",
    "        i=lista_numeros.index(numero_a_buscar,i,len(lista_numeros))\n",
    "        print(i)\n",
    "        ocurrencias.append(i)\n",
    "        i+=1\n",
    "    except ValueError:\n",
    "        encontrado=False\n",
    "        \n",
    "print(\"Las ocurrencias del número {} en {} son {}\".format(   \n",
    "              numero_a_buscar,lista_numeros,ocurrencias))  "
   ]
  },
  {
   "cell_type": "markdown",
   "id": "c307508a",
   "metadata": {},
   "source": [
    "## Relación de las listas con los arrays y los objetos multimensionales\n",
    "\n",
    "Un elemento de una lista es lo que llamamos un \"ESCALAR\". Objeto que no tiene dimensión: \n",
    "- Por ejemplo, 7 -> Dimensión 0 -> Escalar, un tipo elemental de datos NO tiene dimensión \n",
    "\n",
    "- Dimensión 1: Vectores (Arrays unidimensionales) Las listas que hemos visto hasta ahora\n",
    "```python\n",
    "lista = [escalar1, escalar2,....,escalarN] \n",
    "```\n",
    "\n",
    "- Dimensión 2: Matrices \n",
    "```python\n",
    "#forma 1\n",
    "elem1= [1,2,3]\n",
    "elem2= [3,4,5]\n",
    "elem3= [6,7,8]\n",
    "\n",
    "matriz= [ elem1, elem2, elem3 ]\n",
    "\n",
    "#forma 2\n",
    "matriz2 = [[1,2,3],[4,5,6],[7,8,9]]   #objeto array bidimensional (2D)\n",
    "```\n",
    "\n",
    "\n",
    "\n"
   ]
  },
  {
   "cell_type": "code",
   "execution_count": null,
   "id": "89d77b49",
   "metadata": {},
   "outputs": [],
   "source": [
    "matriz2 = [[1,2,3],[4,5,6],[7,8,9]]\n",
    "\n",
    "# propiedades de esa matriz\n",
    "print(matriz2)\n",
    "\n",
    "\n",
    "#normalmente en matemáticas\n",
    "#  [[1, 2, 3],   -> fila 1 \n",
    "#   [4, 5, 6],   -> fila 2\n",
    "#   [7, 8, 9]]   -> fila 3\n",
    "#  c1, c2, c3\n",
    "\n",
    "#cada elemento de la matriz tiene fila y columna\n",
    "print(matriz2[0])  #dame el elemento 0 del vector matriz\n",
    "\n",
    "print(matriz2[0][1])  #fila 0, columna 1\n",
    "\n"
   ]
  },
  {
   "cell_type": "code",
   "execution_count": null,
   "id": "48fe07cc",
   "metadata": {},
   "outputs": [],
   "source": [
    "#cómo recorrer una matriz\n",
    "\n",
    "numero_filas=len(matriz2)\n",
    "numero_columnas=len(matriz2[0])\n",
    "\n",
    "for i in range(numero_filas):\n",
    "    for j in range(numero_columnas):\n",
    "        print(matriz2[i][j],end=\" \")\n",
    "    print(\"\")\n",
    "    \n",
    "        \n",
    "        "
   ]
  },
  {
   "cell_type": "code",
   "execution_count": null,
   "id": "3b2a4ce4",
   "metadata": {},
   "outputs": [],
   "source": [
    "# OJO: El ejemplo anterior no funcionaría para esta matriz \n",
    "# (en la segunda dimensión no todos los objetos tienen la misma longitud)\n",
    "matriz2 = [[1,2,3],[4,5,6,8,8,8,8],[7,8,9]]\n",
    "matriz2"
   ]
  },
  {
   "cell_type": "code",
   "execution_count": null,
   "id": "55f3bfa6",
   "metadata": {},
   "outputs": [],
   "source": [
    "# Aprovechar que el bucle genera objetos iterables para dar contenido \n",
    "# a una lista\n",
    "vector = [i for i in range(0,20000,2)]\n",
    "len(vector)\n",
    "\n",
    "# inicialización de matrices con el bucle for\n",
    "# formato de uso x = [expresion for componentes]\n",
    "# matriz de 20x20 inicializada a 0s\n",
    "matriz= [ [0 for _ in range(0,20)] for _ in range(0,20)]\n",
    "\n",
    "\n",
    "numero_filas=len(matriz)\n",
    "numero_columnas=len(matriz[0])\n",
    "\n",
    "for i in range(numero_filas):\n",
    "    for j in range(numero_columnas):\n",
    "        print(matriz[i][j],end=\" \")\n",
    "    print(\"\")"
   ]
  },
  {
   "cell_type": "markdown",
   "id": "d416ebee",
   "metadata": {},
   "source": [
    "### Inicialización en una línea de listas\n",
    "\n",
    "Se puede utilizar un for en línea para generar n vectores de m filas de la siguiente forma:\n",
    "matriz= [ [ EXPR  for c in range(n) ] for f in range(m) ] \n",
    "\n",
    "EXPR es el elemento que va a ocupar la posición matriz[fila][columna]"
   ]
  },
  {
   "cell_type": "code",
   "execution_count": null,
   "id": "0217a3e5",
   "metadata": {},
   "outputs": [],
   "source": [
    "#inicializar una matriz de 20x20 con números consecutivos\n",
    "matriz= [ [j*20+i for i in range(0,20)] for j in range(0,20)]\n",
    "\n",
    "numero_filas=len(matriz)\n",
    "numero_columnas=len(matriz[0])\n",
    "\n",
    "for i in range(numero_filas):\n",
    "    for j in range(numero_columnas):\n",
    "        print(\"{:02}\".format(matriz[i][j]),end=\" \")\n",
    "    print(\"\")\n",
    "\n"
   ]
  },
  {
   "cell_type": "code",
   "execution_count": null,
   "id": "b68f7c3d",
   "metadata": {
    "scrolled": true
   },
   "outputs": [],
   "source": [
    "#inicializar una matriz de 10x10 donde cada casilla tiene valor fc donde f es su fila y c su columna\n",
    "matriz= [ [i+j*10 for i in range(0,10)] for j in range(0,10)]\n",
    "matriz"
   ]
  },
  {
   "cell_type": "code",
   "execution_count": null,
   "id": "ccd34302",
   "metadata": {},
   "outputs": [],
   "source": [
    "matriz1 = [[2,3,4],[7,1,9],[2,3,0]]\n",
    "# una matrizt con la traspuesta de matriz1\n",
    "# una línea ->  traspuesta M = M -> f,c -> c,f\n",
    "\n",
    "matrizt =  [  [matriz1[f][c] for f in range(len(matriz1[0])) ]  for c in range (len(matriz1))   ]\n",
    "matrizt"
   ]
  },
  {
   "cell_type": "code",
   "execution_count": null,
   "id": "281adf6e",
   "metadata": {},
   "outputs": [],
   "source": [
    "# crear una matriz de NxN identidad -> son aquellas que en su diagonal principal tienen un 1, fuera 0\n",
    "n=20\n",
    "\n",
    "#-> 1 línea\n",
    "matriz_identidad= [ [ 1 if c==f else 0  for c in range(n) ]  for f in range(n) ] \n",
    "matriz_identidad"
   ]
  },
  {
   "attachments": {
    "image.png": {
     "image/png": "[encoded data removed]"
    }
   },
   "cell_type": "markdown",
   "id": "35d6279b",
   "metadata": {},
   "source": [
    "## Operaciones con matrices \n",
    "\n",
    "Tremendamente importantes en IA. -> Filtros (convoluciones) \n",
    " \n",
    " Suma de matrices :\n",
    " ![image.png](attachment:image.png)\n",
    " \n",
    " Para poder sumar dos matrices, tienen que tener el mismo número de filas y el mismo número de columnas\n",
    " "
   ]
  },
  {
   "cell_type": "code",
   "execution_count": null,
   "id": "f566f2cb",
   "metadata": {},
   "outputs": [],
   "source": [
    "# algoritmo para generar una nueva matriz 'resultado' a partir de dos matrices, A y B\n",
    "matriz1= [[2,2,2],[3,1,0],[4,1,-1]]\n",
    "matriz2= [[1,2,0],[0,2,2],[5,1,0]]\n",
    "\n",
    "# en una línea \n",
    "n=len(matriz1)\n",
    "m=len(matriz1[0])\n",
    "if len(matriz2)==n and len(matriz2[0])==m:  #matriz1 y matriz2 tienen las mismas filas y las mismas cols\n",
    "    resultado = [ [ matriz1[f][c] +matriz2[f][c] for c in range(n) ] for f in range(m) ]\n",
    "    print(resultado)\n",
    "else:\n",
    "    print(\"No se pueden sumar matrices de distinto tamaño\")\n",
    "                           \n"
   ]
  },
  {
   "cell_type": "code",
   "execution_count": null,
   "id": "d28bf328",
   "metadata": {},
   "outputs": [],
   "source": [
    "# alternativa\n",
    "#resultado? matriz3= [[3,4,2],[3,3,2],[9,2,-1]]\n",
    "\n",
    "resultado = []\n",
    "for i in range(len(matriz1)):\n",
    "    resultado.append([])\n",
    "    for j in range(len(matriz1[0])):\n",
    "        resultado[i].append(matriz1[i][j]+matriz2[i][j])\n",
    "        \n",
    "print(resultado)"
   ]
  },
  {
   "attachments": {
    "image-2.png": {
     "image/png": "[encoded data removed]"
    },
    "image.png": {
     "image/png": "[encoded data removed]"
    }
   },
   "cell_type": "markdown",
   "id": "24ca9cb3",
   "metadata": {},
   "source": [
    "### Multiplicación de matrices\n",
    "\n",
    "![image.png](attachment:image.png)\n",
    "\n",
    "Necesitamos dos bucles para recorrer la matriz resultado con i filas y j columnas, para hacer la multiplicación\n",
    "necesitamos un tercer índice r\n",
    "![image-2.png](attachment:image-2.png)\n",
    "\n"
   ]
  },
  {
   "cell_type": "code",
   "execution_count": null,
   "id": "ad8dbc05",
   "metadata": {},
   "outputs": [],
   "source": [
    "matriz1= [[2,3,1],\n",
    "          [4,0,1]]\n",
    "\n",
    "matriz2=[[1,0],\n",
    "         [2,1],\n",
    "         [3,2]]\n",
    "\n",
    "n=len(matriz1)  #número de filas de la matriz 1\n",
    "m=len(matriz1[0])\n",
    "p=len(matriz2[0]) #número de columnas de la matriz 2\n",
    "\n",
    "#inicialización \n",
    "if m == len(matriz2):  #puedo hacer la multiplicación: resultado será de nxp -> 2x2\n",
    "    resultado = [ [ 0 for j in range(p) ] for i in range(n)]\n",
    "\n",
    "# i,j son cada casilla del resultado\n",
    "for i in range(len(resultado)):\n",
    "    for j in range(len(resultado[0])): \n",
    "        for k in range(len(matriz1[0])):\n",
    "            resultado[i][j]+=matriz1[i][k]*matriz2[k][j]\n",
    "            \n",
    "resultado"
   ]
  },
  {
   "cell_type": "markdown",
   "id": "fcea48fd",
   "metadata": {},
   "source": [
    "# La librería numpy\n",
    "\n",
    "`numpy` es un módulo para trabajar con arrays, que son un tipo de lista, lo que mucho más rápidos de procesar.\n",
    "\n",
    "El objeto array de `numpy` recibe el nombre de `ndarray`. Este tipo de dato es muy usado en el mundo de la ciencia de datos, donde la velocidad y los recursos son de gran importancia.\n",
    "\n",
    "para importar la librería numpy:\n",
    "\n",
    "`import numpy as np`\n",
    "\n",
    "\n"
   ]
  },
  {
   "cell_type": "code",
   "execution_count": null,
   "id": "9db76847",
   "metadata": {},
   "outputs": [],
   "source": [
    "import numpy as np\n",
    "lista=np.array([1,2,3,4,5,6])\n",
    "lista"
   ]
  },
  {
   "cell_type": "code",
   "execution_count": null,
   "id": "8641e568",
   "metadata": {},
   "outputs": [],
   "source": [
    "# Crear una matriz de numpy\n",
    "# Dos opciones: \n",
    "# 1ª Crear una lista bidimensional en python utilizando el constructor np.array\n",
    "# 2ª Crear una matriz de numpy matrix\n",
    "lista_python=[[1,2,3],[4,5,6],[7,8,9]]\n",
    "matriz1= np.array(lista_python)\n",
    "matriz1"
   ]
  },
  {
   "cell_type": "code",
   "execution_count": null,
   "id": "8ce79496",
   "metadata": {},
   "outputs": [],
   "source": [
    "#utilizando el método matrix\n",
    "matriz2=np.matrix(lista_python)\n",
    "matriz2"
   ]
  },
  {
   "cell_type": "markdown",
   "id": "f02f175d",
   "metadata": {},
   "source": [
    "### Dimensión y forma\n",
    "\n",
    "Los arrays multidimensionales tienen dos parámetros esenciales: La dimensión. El número de listas anidadas dentro de la estructura de datos. La forma, es otro concepto que veremos más adelante: Cuántas unidades tiene cada dimensión.\n",
    "\n",
    "La dimensión -> está asociada a la profundidad del objeto\n",
    "\n",
    "\n"
   ]
  },
  {
   "cell_type": "code",
   "execution_count": null,
   "id": "358ba7b1",
   "metadata": {},
   "outputs": [],
   "source": [
    "matriz2.ndim\n",
    "\n"
   ]
  },
  {
   "cell_type": "code",
   "execution_count": null,
   "id": "500273b5",
   "metadata": {},
   "outputs": [],
   "source": [
    "objeto_tridi= np.array([[[3,4],[4,5]],[[3,6],[7,8]]])\n",
    "objeto_tridi, objeto_tridi.ndim"
   ]
  },
  {
   "cell_type": "markdown",
   "id": "a9333211",
   "metadata": {},
   "source": [
    "### Cuidado: Cada elemento de cada dimensión debe tener exactamente el mismo tamaño\n",
    "\n",
    "En las versiones actuales de python, si creamos un array n-dimensional, entonces todos los arrays de dimension m, siendo m<n, deben tener el mismo número de elementos.\n"
   ]
  },
  {
   "cell_type": "code",
   "execution_count": null,
   "id": "c3164a77",
   "metadata": {},
   "outputs": [],
   "source": [
    "lista_python= [ [2,3,4], [1,2,3,4], [2,3]]\n",
    "array_np=np.array(lista_python)\n"
   ]
  },
  {
   "cell_type": "code",
   "execution_count": null,
   "id": "1ed07141",
   "metadata": {},
   "outputs": [],
   "source": [
    "# ejemplo: Sería valido este objeto en numpy\n",
    "\n",
    "x=np.array([\n",
    "              [[0,0,0],[0,0,1],[0,0,2],[0,0,3]],\n",
    "              [[1,0,0],[1,0,1],[1,0,2],[1,0,3]],\n",
    "              [[2,0,0],[2,0,1],[2,0,2],[2,0,3]]\n",
    "           ])\n",
    "x.ndim\n",
    "\n"
   ]
  },
  {
   "cell_type": "code",
   "execution_count": null,
   "id": "b584e952",
   "metadata": {},
   "outputs": [],
   "source": [
    "# Ejemplos de arrays n-dimensionales\n",
    "x0=np.array(3)   # escalar -> elemento sencillo\n",
    "x1=np.array([2,4,5]) #ndim=1\n",
    "x2=np.array([[1,2],[3,4]]) #ndim=2\n",
    "x3=np.array([\n",
    "              [[0,0,0],[0,0,1],[0,0,2],[0,0,3]],\n",
    "              [[1,0,0],[1,0,1],[1,0,2],[1,0,3]],\n",
    "              [[2,0,0],[2,0,1],[2,0,2],[2,0,3]]\n",
    "           ]) # ndim=3, forma (3,4,3)\n",
    "x4=np.array([[[[1]]]])  #ndim=4\n",
    "print(x0.ndim,x1.ndim,x2.ndim,x3.ndim,x4.ndim)\n",
    "\n",
    "## dadme un objeto de 32 dimensiones\n",
    "x32=np.array([2,3,4,5,6,7,8],ndmin=32)\n",
    "print(x32,x32.shape,x32.ndim)\n",
    "            "
   ]
  },
  {
   "cell_type": "markdown",
   "id": "a09064e5",
   "metadata": {},
   "source": [
    "### Forma de un array n-dimensional\n",
    "Forma o shape de un array es el número de elementos de cada dimensión:\n",
    "Por ejemplo, si tengo un array bidimensional la forma o shape tendrá 2 componentes, el número y el número de columnas. Y si tengo un array tridimensional la forma tendrá 3 componentes, etc...\n",
    "\n",
    "La **tupla** resultante del atributo shape se interpreta como sigue:\n",
    "- Cada elemento de la tupla nos indica el número mínimo de elementos que tiene cada dimensión: OJO: por construcción todos las dimensiones, van a tener un número igual de elementos\n",
    "- El primer índice se corresponde con la mayor dimensión \n",
    "- El último índice se corresponde con la más interna "
   ]
  },
  {
   "cell_type": "code",
   "execution_count": null,
   "id": "755edbd4",
   "metadata": {},
   "outputs": [],
   "source": [
    "x1.shape,x2.shape,x3.shape,x4.shape"
   ]
  },
  {
   "cell_type": "code",
   "execution_count": null,
   "id": "07d434d7",
   "metadata": {},
   "outputs": [],
   "source": [
    "x2=np.array([[1,2],[3,4]]) #ndim=2  \n",
    "# quiero transformarlo en un vector lineas  [1,2,3,4]\n",
    "\n",
    "x_reshaped=x2.reshape((4,))\n",
    "x2.shape,x_reshaped.shape, x2.ndim, x_reshaped.ndim"
   ]
  },
  {
   "cell_type": "code",
   "execution_count": null,
   "id": "8877301b",
   "metadata": {},
   "outputs": [],
   "source": [
    "# ¿Cuál es la forma (shape) de un escalar y de un vector\n",
    "x0=np.array(3)   # escalar -> elemento sencillo\n",
    "x1=np.array([2,4,5]) #ndim=1\n",
    "\n",
    "x0.shape,x1.shape\n"
   ]
  },
  {
   "cell_type": "code",
   "execution_count": null,
   "id": "5e6e3e95",
   "metadata": {},
   "outputs": [],
   "source": [
    "# reglas para reshape: -> El objeto original y el objeto \"reformateado\" \n",
    "                         #tienen que tener el mismo número de elementos\n",
    "\n",
    "# crear un array de 100 elementos, múltiplos de 3\n",
    "vector=np.array([i*3 for i in range(100)])\n",
    "\n",
    "#quiero un objeto tridimensional, que tenga de altura 10 filas, de anchura 2 columnas. \n",
    "# ¿De cuántos elementos tiene que ser la tercera dimensión?\n",
    "vector_r=vector.reshape(10,2,5)\n",
    "vector_r.shape\n",
    "\n",
    "# -> Los parámetros de reshape multiplicados tienen que coincidir con len(vector)\n",
    "otro_vector_r=vector[0:40].reshape(10,2,2)\n",
    "otro_vector_r.shape, otro_vector_r\n"
   ]
  },
  {
   "cell_type": "markdown",
   "id": "b06891e4",
   "metadata": {},
   "source": [
    "## crear listas de numpy con números aleatorios\n",
    "\n",
    "Puedo utilizar, entre otras, las siguientes funciones de numpy:\n",
    "- rand(d0, d1, …, dn)\tRandom values in a given shape.\n",
    "- randint(inicio, final, tamaño) Aleatorios entre un rango \n",
    "- otras: [funciones para números aleatorios](https://numpy.org/doc/1.16/reference/routines.random.html)"
   ]
  },
  {
   "cell_type": "code",
   "execution_count": null,
   "id": "c480b1aa",
   "metadata": {},
   "outputs": [],
   "source": [
    "lista_aleatoria=np.random.rand(3,3,2,5)\n",
    "lista_aleatoria"
   ]
  },
  {
   "cell_type": "code",
   "execution_count": null,
   "id": "cdbb4ec1",
   "metadata": {},
   "outputs": [],
   "source": [
    "# dame números aleatorios siguiendo una distribución estadística \"normal\"\n",
    "lista_aleatoria=np.random.normal(50,10,1000)\n",
    "lista_aleatoria2=np.random.normal(50,1,1000)\n",
    "\n",
    "#pedir todos los números que bajan de 47\n",
    "for i in lista_aleatoria:\n",
    "    if i < 47:\n",
    "        print(i)"
   ]
  },
  {
   "cell_type": "code",
   "execution_count": null,
   "id": "e31f1917",
   "metadata": {},
   "outputs": [],
   "source": [
    "#podemos ver la distribución estadística de los números aleatorios con un histograma:\n",
    "import matplotlib.pyplot as plt\n",
    "\n",
    "plt.hist(lista_aleatoria)\n",
    "plt.xlim(0,100)\n",
    "plt.show()"
   ]
  },
  {
   "cell_type": "code",
   "execution_count": null,
   "id": "1e7d97a0",
   "metadata": {},
   "outputs": [],
   "source": [
    "import matplotlib.pyplot as plt\n",
    "plt.xlim(0,100)\n",
    "plt.hist(lista_aleatoria2)\n",
    "plt.show()"
   ]
  },
  {
   "cell_type": "code",
   "execution_count": null,
   "id": "00c57730",
   "metadata": {},
   "outputs": [],
   "source": [
    "lista_aleatoria3=np.random.chisquare(6,(100,))\n",
    "import matplotlib.pyplot as plt\n",
    "plt.xlim(0,100)\n",
    "plt.hist(lista_aleatoria3)\n",
    "plt.show()"
   ]
  },
  {
   "cell_type": "code",
   "execution_count": null,
   "id": "c0c9f137",
   "metadata": {},
   "outputs": [],
   "source": [
    "# otras formas de generar arrays en numpy\n",
    "# el método arange retorna valores igualmente espacios entre el rango(inicio, fin, paso)\n",
    "\n",
    "vector=np.arange(0,20000,0.1)\n",
    "vector"
   ]
  },
  {
   "cell_type": "code",
   "execution_count": null,
   "id": "82067b6e",
   "metadata": {},
   "outputs": [],
   "source": [
    "# vamos a hacer un reshape en 5D\n",
    "# -1 es una dimensión **desconocida**\n",
    "v=vector.reshape(2,2,2,2,-1)\n",
    "print(v.shape)\n",
    "# vamos un reshape en 3D\n",
    "# -1 es una dimensión **desconocida** \n",
    "v2=vector.reshape(2,4,-1)\n",
    "print(v2.shape)\n",
    "\n",
    "\n"
   ]
  },
  {
   "cell_type": "code",
   "execution_count": null,
   "id": "f75b7756",
   "metadata": {},
   "outputs": [],
   "source": [
    "# acceso a elementos utilizando los corchetes\n",
    "v2[0][0][1], v2[0,0,1]  # OJO A LA NOTACIÓN: Es posible usar una única pareja de corchetes con todos los índices dentro \n"
   ]
  },
  {
   "cell_type": "markdown",
   "id": "b6b5df96",
   "metadata": {},
   "source": [
    "\n",
    "### Copias y Views de arrays\n",
    "\n",
    "**Copia.** Una copia de un array crea un nuevo array exactamente igual al original.\n",
    "\n",
    "La copia no es afectada pos los cambios aplicados en el array original.\n",
    "\n",
    "**View.** Una view de un array es una referencial al array original.\n",
    "\n",
    "Los cambios aplicados al array original afectan también a la view, y viceversa."
   ]
  },
  {
   "cell_type": "code",
   "execution_count": null,
   "id": "74e45a82",
   "metadata": {},
   "outputs": [],
   "source": [
    "objeto_sencillo=np.array([[1,2,3],[4,5,6],[7,8,9]])\n",
    "\n",
    "#crear un nuevo objeto, a partir de un reshape, genera una \"vista\", es decir, los datos no cambian,\n",
    "# sólo la forma de verlos\n",
    "objeto2=objeto_sencillo.reshape(3,3,1)\n",
    "objeto2[1]=9\n",
    "\n",
    "#crear una referencia\n",
    "objeto3=objeto2\n",
    "objeto3[0]=10\n",
    "\n",
    "#crear una copia\n",
    "objeto4=objeto3.copy()\n",
    "objeto4[2]=11\n",
    "\n",
    "\n",
    "objeto2,objeto_sencillo  # son vistas del mismo objeto, con los mismos datos!! OJO"
   ]
  },
  {
   "cell_type": "code",
   "execution_count": null,
   "id": "fdf8a21b",
   "metadata": {},
   "outputs": [],
   "source": []
  },
  {
   "cell_type": "code",
   "execution_count": null,
   "id": "1d9a037b",
   "metadata": {},
   "outputs": [],
   "source": [
    "lista_python1=[1,2,3]\n",
    "lista_python2=lista_python1\n",
    "\n",
    "lista_python2[0]=10\n",
    "lista_python1,lista_python2"
   ]
  },
  {
   "cell_type": "markdown",
   "id": "1b8ae52e",
   "metadata": {},
   "source": [
    "## Operaciones con matrices y numpy:\n",
    "\n",
    "Operadores *, -, +  son operaciones \"elementwise\", se aplican elemento a elemento\n",
    "\n",
    "\n"
   ]
  },
  {
   "cell_type": "code",
   "execution_count": null,
   "id": "e66e42b5",
   "metadata": {},
   "outputs": [],
   "source": [
    "import numpy as np\n",
    "matrizA = np.matrix([[1,2,3],[1,1,1],[0,2,1]])\n",
    "matrizB = np.matrix([[2,2,2],[3,2,1],[1,4,0]])\n",
    "\n",
    "# Operador suma -> Suma tradicional\n",
    "print(matrizA)\n",
    "print(\"\")\n",
    "print(matrizB)\n",
    "print(\"\")\n",
    "print(matrizA+matrizB)\n",
    "\n",
    "#operador resta -> resta tradicion\n",
    "#operador * -> en matrices de la misma dimensión -> Multiplicación tradicional\n",
    "print(matrizA*matrizB)\n",
    "\n",
    "\n"
   ]
  },
  {
   "cell_type": "code",
   "execution_count": null,
   "id": "c641d019",
   "metadata": {},
   "outputs": [],
   "source": [
    "#puedo multiplicar matrices en general cualquier tipo de vector n-dimensional incluidos escalares\n",
    "escalar= 7\n",
    "vector=np.array([2,3,1])\n",
    "escalar*vector\n",
    "\n",
    "\n",
    "# producto escalar\n",
    "vector1=np.array([2,3,4])\n",
    "vector2=np.array([1,2,3])\n",
    "vector1*vector2   # element - wise\n",
    "np.dot(vector1,vector2)  # producto escalar. F(x) que recibe dos vectores y genera un escalar"
   ]
  },
  {
   "cell_type": "markdown",
   "id": "39326df1",
   "metadata": {},
   "source": [
    "### Diferentes tipos de multiplicación que hay entre escalares, vectores, matrices y ndimensionales\n",
    "\n",
    "Según la doc de Python hablaremos de varias funciones:\n",
    "- multiply(A,B): Producto de Hadamard -> La multiplicación de matrices \"elementWise\" no es ni * , ni dot\n",
    "- matmul(A,B): Producto de matrices, con las reglas tradiciones A (m,k) y B (k,n) -> R (m,n)\n",
    "- @ equivalente a matmul\n",
    "- dot(A,B): multiplicación de objetos.\n",
    "\n",
    "\n",
    "\n"
   ]
  },
  {
   "cell_type": "code",
   "execution_count": null,
   "id": "c9d289ab",
   "metadata": {},
   "outputs": [],
   "source": [
    "# Ejemplo: la función aplicada a matrices de 2 x 2: MULTIPLICACIÓN DE HADAMARD\n",
    "matrizA=np.array([[1,2],\n",
    "                  [3,4]])\n",
    "\n",
    "matrizB=np.array([[1,1],\n",
    "                  [0,2]])\n",
    "\n",
    "np.multiply(matrizA,matrizB)\n"
   ]
  },
  {
   "cell_type": "code",
   "execution_count": null,
   "id": "ba3da35f",
   "metadata": {},
   "outputs": [],
   "source": [
    "#¿Qué ocurre si las formas no son compatibles?\n",
    "matrizA=np.array([[1,2],\n",
    "                  [3,4]])\n",
    "\n",
    "matrizB=np.array([[1,2,3],\n",
    "                  [3,4,5],\n",
    "                  [1,2,3]])\n",
    "\n",
    "np.multiply(matrizA,matrizB)\n",
    "\n"
   ]
  },
  {
   "cell_type": "code",
   "execution_count": null,
   "id": "b8625eee",
   "metadata": {},
   "outputs": [],
   "source": [
    "# Ejemplo con matmul -> @ (son equivalentes)\n",
    "\n",
    "matrizA=np.array([[1,2,3],\n",
    "                  [3,4,5]])\n",
    "\n",
    "matrizB=np.array([[1,1,4,2],\n",
    "                  [0,2,1,2],\n",
    "                  [0,0,0,1]])\n",
    "\n",
    "#¿Formas compatibles?  matrizA (2,3) y matrizB(3,4)\n",
    "print(matrizA.shape, matrizB.shape)\n",
    "\n",
    "# resultado? forma=\n",
    "np.matmul(matrizA,matrizB), matrizA @ matrizB"
   ]
  },
  {
   "cell_type": "code",
   "execution_count": null,
   "id": "38144415",
   "metadata": {},
   "outputs": [],
   "source": [
    "# matmul con formas incompatibles\n",
    "matrizA=np.array([[1,2],\n",
    "                  [3,4]])\n",
    "\n",
    "matrizB=np.array([[1,2,3],\n",
    "                  [3,4,5],\n",
    "                  [1,2,3]])\n",
    "\n",
    "matrizA @ matrizB\n",
    "\n",
    "# matmul también hace broadcasting: SI la matriz es > 2 dimensiones, es una suma de productos entre \n",
    "# el último eje del primer array y el penúltimo eje del segundo array"
   ]
  },
  {
   "cell_type": "code",
   "execution_count": null,
   "id": "1ae19bb4",
   "metadata": {},
   "outputs": [],
   "source": [
    "m=np.matrix([[2,1],[3,4]])\n",
    "\n",
    "m.T"
   ]
  },
  {
   "cell_type": "markdown",
   "id": "90d816bc",
   "metadata": {},
   "source": [
    "## Filtrar información \n",
    "\n",
    "Se puede utilizar una condición booleana dentro de los corchetes para filtrar información\n",
    "\n",
    "\n"
   ]
  },
  {
   "cell_type": "code",
   "execution_count": null,
   "id": "b14389c9",
   "metadata": {},
   "outputs": [],
   "source": [
    "np.random.seed(42)\n",
    "vector1=np.random.randint(10,50,30)\n",
    "\n",
    "# se puede utilizar una condición booleana utilizando numpy\n",
    "print(vector1)\n",
    "\n",
    "\n",
    "vector1[vector1%2==0]+=1\n",
    "vector1"
   ]
  },
  {
   "cell_type": "code",
   "execution_count": null,
   "id": "a86499ad",
   "metadata": {},
   "outputs": [],
   "source": [
    "# Recorrer un array de numpy:\n",
    "# 1ª forma: Python Estándar\n",
    "np.random.seed(42)\n",
    "vector1=np.random.randint(10,50,30)\n",
    "print(vector1.shape)\n",
    "\n",
    "#recorrido de un vector unidimensional\n",
    "for i in vector1:\n",
    "    print(i)\n",
    "\n"
   ]
  },
  {
   "cell_type": "code",
   "execution_count": null,
   "id": "77e0e582",
   "metadata": {},
   "outputs": [],
   "source": [
    "# bidimensional?\n",
    "\n",
    "np.random.seed(42)\n",
    "vector1=np.random.randint(10,50,30)\n",
    "matriz=vector1.reshape(3,-1)\n",
    "\n",
    "\n",
    "for i in matriz:\n",
    "    for j in i:\n",
    "        print(j)\n"
   ]
  },
  {
   "cell_type": "code",
   "execution_count": null,
   "id": "793b9150",
   "metadata": {},
   "outputs": [],
   "source": [
    "# Con nditer, tenemos un iterador muy rápido que permite seleccionar X elementos de un objeto ND\n",
    "np.random.seed(42)\n",
    "vector1=np.random.randint(10,50,100)\n",
    "objeto_ND=vector1.reshape(5,5,-1)\n",
    "\n",
    "for i in np.nditer(objeto_ND):\n",
    "    print(i)\n",
    "\n",
    "    \n",
    "# nditer se comporta muy bien (compatibilidad) con el iterador devuelto por slicing"
   ]
  },
  {
   "cell_type": "code",
   "execution_count": null,
   "id": "cfeb804b",
   "metadata": {},
   "outputs": [],
   "source": [
    "np.random.seed(42)\n",
    "vector1=np.random.randint(10,50,30)\n",
    "print(vector1.shape)\n",
    "\n",
    "#recorrido de un vector unidimensional\n",
    "contador=0\n",
    "for i in vector1:\n",
    "    print(\"El elemento \",i,\" ocupa la posición \",contador)\n",
    "    contador+=1\n",
    "    "
   ]
  },
  {
   "cell_type": "code",
   "execution_count": null,
   "id": "a8f0dfd7",
   "metadata": {},
   "outputs": [],
   "source": [
    "np.random.seed(42)\n",
    "vector1=np.random.randint(10,50,30)\n",
    "print(vector1.shape)\n",
    "\n",
    "#recorrido de un vector unidimensional\n",
    "for posicion,i in np.ndenumerate(vector1):\n",
    "    print(\"El elemento \",i,\" ocupa la posición \",posicion)\n",
    "\n",
    "# la posición es una tupla que indica la posición dentro de cada dimensión"
   ]
  },
  {
   "cell_type": "code",
   "execution_count": null,
   "id": "69649cd7",
   "metadata": {},
   "outputs": [],
   "source": [
    "# EJEMPLO con 2D\n",
    "np.random.seed(42)\n",
    "vector1=np.random.randint(10,50,30)\n",
    "objeto_ND=vector1.reshape(2,3,5)\n",
    "print(objeto_ND.shape)\n",
    "\n",
    "#recorrido de un vector unidimensional\n",
    "for posicion,i in np.ndenumerate(objeto_ND):\n",
    "    print(\"El elemento \",i,\" ocupa la posición \",posicion)\n",
    "\n",
    "# la posición es una tupla que indica la posición dentro de cada dimensión"
   ]
  }
 ],
 "metadata": {
  "kernelspec": {
   "display_name": "Python [conda env:base] *",
   "language": "python",
   "name": "conda-base-py"
  },
  "language_info": {
   "codemirror_mode": {
    "name": "ipython",
    "version": 3
   },
   "file_extension": ".py",
   "mimetype": "text/x-python",
   "name": "python",
   "nbconvert_exporter": "python",
   "pygments_lexer": "ipython3",
   "version": "3.13.5"
  }
 },
 "nbformat": 4,
 "nbformat_minor": 5
}
