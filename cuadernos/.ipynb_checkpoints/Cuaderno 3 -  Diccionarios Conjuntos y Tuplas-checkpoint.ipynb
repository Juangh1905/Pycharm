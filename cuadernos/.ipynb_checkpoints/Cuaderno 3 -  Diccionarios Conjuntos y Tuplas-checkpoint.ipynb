{
 "cells": [
  {
   "cell_type": "markdown",
   "id": "06a0aaa8",
   "metadata": {},
   "source": [
    "# Diccionarios\n",
    "\n",
    "Son estructuras de datos: \n",
    "- heterogéneas: significa que pueden estar compuestas por más de un tipo de dato\n",
    "- mutables: Se puede modificar cada uno de sus elementos, también añadir, borrar, actualizar...\n",
    "- SON ORDENADOS: (a partir de la versión 3.7 de python): Conservar el orden de inserción en memoria.\n",
    "\n",
    "Un diccionario es una lista de parejas **clave: valor**, donde la clave representa un campo único (no se puede repetir) y el valor es el contenido de la memoria asociado a esa clave\n",
    "\n"
   ]
  },
  {
   "cell_type": "code",
   "id": "8f253473",
   "metadata": {},
   "source": [
    "# ejemplos de diccionarios\n",
    "diccionario1= {\"José\":24,\"María\":32,\"Pedro\":25}\n",
    "type(diccionario1), diccionario1"
   ],
   "outputs": [],
   "execution_count": null
  },
  {
   "cell_type": "code",
   "id": "c5327e01",
   "metadata": {},
   "source": [
    "# OJO: La clave es única dentro del diccionario\n",
    "diccionario1= {\"José\":24,\"María\":32,\"Pedro\":25, \"José\": 32}\n",
    "diccionario1"
   ],
   "outputs": [],
   "execution_count": null
  },
  {
   "cell_type": "code",
   "id": "e1413801",
   "metadata": {},
   "source": [
    "# Los valores de los diccionarios pueden de ser cualquier tipo\n",
    "diccionario2={\"José\":[5,7,8,9],\"Pedro\":[2,4,5,9,10],\"María\":[2,10,9,7,4]}\n",
    "diccionario2"
   ],
   "outputs": [],
   "execution_count": null
  },
  {
   "cell_type": "code",
   "id": "e79c9ae8",
   "metadata": {},
   "source": [
    "# los diccionarios pueden tener valores que a su vez sean diccionarios\n",
    "diccionario3={\"alumno1\":{\"nombre\":\"Juan\",\"apellidos\":[\"Pérez\",\"López\"],\"notas\":[5,3,2],\"familiares\":{}},\n",
    "              \"alumno2\":{\"nombre\":\"Paco\",\"apellidos\":\"Jonhson\",\"expulsiones\":3},\n",
    "              \"alumno3\":{\"nombre\":\"María\",\"apellidos\":[\"Sanchez\",\"López\"],\"matriculasH\":5},\n",
    "              \"alumno4\":[]}\n",
    "\n",
    "diccionario3"
   ],
   "outputs": [],
   "execution_count": null
  },
  {
   "cell_type": "code",
   "id": "bcfc7d2c",
   "metadata": {},
   "source": [
    "# Son mutables, con el operador [], con la clave, realizo un acceso al elemento.\n",
    "diccionario1= {\"José\":24,\"María\":32,\"Pedro\":25, \"José\": 32}\n",
    "diccionario1[\"María\"]+=1\n",
    "diccionario1"
   ],
   "outputs": [],
   "execution_count": null
  },
  {
   "cell_type": "code",
   "id": "8c66b67c",
   "metadata": {},
   "source": [
    "# El sistema de indexación permite de forma flexible acceder a cualquier elemento de la E.D.\n",
    "diccionario3[\"alumno1\"][\"apellidos\"][0]=\"Martínez\"\n",
    "diccionario3\n"
   ],
   "outputs": [],
   "execution_count": null
  },
  {
   "cell_type": "markdown",
   "id": "966aba64",
   "metadata": {},
   "source": [
    "## Métodos interesantes de los diccionarios\n",
    "\n",
    "- .keys() Devuelve una lista de claves del diccionario\n",
    "- .values() Devuelve una lista de valores del diccionario\n",
    "- .items() Devuelve una tupla con las claves y los valores del diccionario\n"
   ]
  },
  {
   "cell_type": "code",
   "id": "9a761e74",
   "metadata": {},
   "source": [
    "# ejemplo de uso de keys\n",
    "diccionario3.keys()"
   ],
   "outputs": [],
   "execution_count": null
  },
  {
   "cell_type": "code",
   "id": "d45750b6",
   "metadata": {},
   "source": [
    "# ejemplo de uso de values\n",
    "diccionario1.keys(), diccionario1.values()"
   ],
   "outputs": [],
   "execution_count": null
  },
  {
   "cell_type": "code",
   "id": "903c61f7",
   "metadata": {},
   "source": [
    "# recorrido de un diccionario\n",
    "for clave in diccionario1.keys():\n",
    "    print(clave, diccionario1[clave])"
   ],
   "outputs": [],
   "execution_count": null
  },
  {
   "cell_type": "code",
   "id": "4d5496c8",
   "metadata": {},
   "source": [
    "for valor in diccionario1.values():\n",
    "    print(valor)"
   ],
   "outputs": [],
   "execution_count": null
  },
  {
   "cell_type": "code",
   "id": "ea31fd32",
   "metadata": {},
   "source": [
    "# Ejercicio: Dado un valor, sacar cuál es su clave dentro de un diccionario\n",
    "\n",
    "valor_buscado=32\n",
    "for clave in diccionario1.keys():\n",
    "    if valor_buscado==diccionario1[clave]:\n",
    "        print(\"El valor\",valor_buscado,\"está en la clave\",clave)\n",
    "\n",
    "\n",
    "\n"
   ],
   "outputs": [],
   "execution_count": null
  },
  {
   "cell_type": "code",
   "id": "0bf88d12",
   "metadata": {},
   "source": [
    "# el método items, devuelve una lista de tuplas con la clave y el valor\n",
    "diccionario1.items()"
   ],
   "outputs": [],
   "execution_count": null
  },
  {
   "cell_type": "code",
   "id": "8652c9a4",
   "metadata": {},
   "source": [
    "# recorrer pareja clave,valor de todos los elementos del diccionario\n",
    "for clave,valor in diccionario1.items():\n",
    "    print(\"la clave\",clave,\"tiene valor\",valor)"
   ],
   "outputs": [],
   "execution_count": null
  },
  {
   "cell_type": "code",
   "id": "baf6f6cf",
   "metadata": {},
   "source": [
    "# Podemos crear diccionarios vacíos\n",
    "diccionario4={}\n",
    "diccionario4"
   ],
   "outputs": [],
   "execution_count": null
  },
  {
   "cell_type": "code",
   "id": "7cb9e8a6",
   "metadata": {},
   "source": [
    "diccionario4[\"nombre\"]=input(\"introduce tu nombre:\")\n",
    "diccionario4[\"apellidos\"]=input(\"introduce tus apellidos:\")\n",
    "diccionario4[\"edad\"]=int(input(\"introduce tu edad:\"))"
   ],
   "outputs": [],
   "execution_count": null
  },
  {
   "cell_type": "code",
   "id": "b0cd8aa9",
   "metadata": {},
   "source": [
    "diccionario4"
   ],
   "outputs": [],
   "execution_count": null
  },
  {
   "cell_type": "code",
   "id": "94a45556",
   "metadata": {},
   "source": [
    "# los diccionario pueden tener las claves numéricas o alfanuméricas\n",
    "diccionario5={1:\"pedro\",2:\"Mario\",\"aaaaaa\":\"Juan\"}\n",
    "diccionario5"
   ],
   "outputs": [],
   "execution_count": null
  },
  {
   "cell_type": "markdown",
   "id": "f81c04ab",
   "metadata": {},
   "source": [
    "## Diccionarios y listas\n",
    "\n",
    "Ya hemos visto que los diccionarios pueden contener listas, pero las listas, también pueden contener diccionarios\n"
   ]
  },
  {
   "cell_type": "code",
   "id": "05966291",
   "metadata": {},
   "source": [
    "# diccionario1\n",
    "diccionario1={\"nombre\":\"Iván\",\"apellidos\":[\"López\",\"Montalbán\"],\"usuario\":\"profesor\",\n",
    "              \"lista_alumnos\":[\"Andrés\",\"Javier\",\"Jesús\",\"...\"]}\n",
    "diccionario2={\"nombre\":\"Alicia\",\"apellidos\":[\"Ramos\",\"Martin\"],\"usuario\":\"administrador\"}\n",
    "\n",
    "lista=[diccionario1,diccionario2]\n",
    "lista"
   ],
   "outputs": [],
   "execution_count": null
  },
  {
   "cell_type": "markdown",
   "id": "6e425819",
   "metadata": {},
   "source": [
    "## Otros métodos para diccionarios\n",
    "\n",
    "- .clear : Vacia un diccionario. \n",
    "- .copy: Crea un clon de un diccionario\n",
    "- .fromkeys: Permite crear un diccionario a partir de un iterador\n",
    "- .update: Permite actualizar los valores de las claves de un diccionario, a partir de otro"
   ]
  },
  {
   "cell_type": "code",
   "id": "58318c66",
   "metadata": {},
   "source": [
    "# .clear\n",
    "print(diccionario5)\n",
    "diccionario5.clear()\n",
    "print(diccionario5)"
   ],
   "outputs": [],
   "execution_count": null
  },
  {
   "cell_type": "code",
   "id": "9360da0d",
   "metadata": {},
   "source": [
    "# copy\n",
    "# Si yo utilizo el operador = para asignar un diccionario a una variable, \n",
    "#en realidad, no creo una copio, creo una referencia\n",
    "diccionarioX=diccionario2\n",
    "diccionario2['nombre']='Marcos'\n",
    "diccionarioX, diccionario2"
   ],
   "outputs": [],
   "execution_count": null
  },
  {
   "cell_type": "code",
   "id": "453538de",
   "metadata": {},
   "source": [
    "diccionarioX['nombre']='Andres'\n",
    "diccionarioX, diccionario2"
   ],
   "outputs": [],
   "execution_count": null
  },
  {
   "cell_type": "code",
   "id": "974f283e",
   "metadata": {},
   "source": [
    "diccionario3=diccionario2.copy()\n",
    "diccionario3[\"nombre\"]=\"Diego\"\n",
    "diccionario2,diccionario3"
   ],
   "outputs": [],
   "execution_count": null
  },
  {
   "cell_type": "code",
   "id": "050e346f",
   "metadata": {},
   "source": [
    "# ejemplo de .fromkeys\n",
    "diccionario6=dict.fromkeys([\"alumno1\",\"alumno2\",\"alumno3\"],10)\n",
    "diccionario6"
   ],
   "outputs": [],
   "execution_count": null
  },
  {
   "cell_type": "code",
   "id": "5a4705b4",
   "metadata": {},
   "source": [
    "# ejemplo de update\n",
    "diccionario7=dict.fromkeys([\"alumno1\",\"alumno2\",\"alumno3\",\"alumno4\",\"alumno5\"],10)\n",
    "diccionario7[\"alumno1\"]=8\n",
    "diccionario7[\"alumno2\"]=6.5\n"
   ],
   "outputs": [],
   "execution_count": null
  },
  {
   "cell_type": "code",
   "id": "85632c52",
   "metadata": {},
   "source": [
    "diccionario6.update(diccionario7)\n",
    "diccionario6"
   ],
   "outputs": [],
   "execution_count": null
  },
  {
   "cell_type": "code",
   "id": "56e7bd19",
   "metadata": {},
   "source": [
    "# otras formas de construcción de diccionarios:\n",
    "# a partir de una lista\n",
    "diccionario8=dict([[\"alumno1\",7],[\"alumno2\",10],[\"alumno3\",4.5]])\n",
    "diccionario8"
   ],
   "outputs": [],
   "execution_count": null
  },
  {
   "cell_type": "code",
   "id": "aaf5dc5d",
   "metadata": {},
   "source": [
    "# a partir de una lista de tuplas\n",
    "diccionario8=dict([(\"alumno1\",7),(\"alumno2\",10),(\"alumno3\",4.5)])\n",
    "diccionario8"
   ],
   "outputs": [],
   "execution_count": null
  },
  {
   "cell_type": "code",
   "id": "ea7a85d0",
   "metadata": {},
   "source": [
    "# otro constructor de dict, permite crear entradas a partir de los parámetros del constructor\n",
    "diccionario9= dict(x=1,y=2,z=-3)\n",
    "diccionario9"
   ],
   "outputs": [],
   "execution_count": null
  },
  {
   "cell_type": "code",
   "id": "34d3237b",
   "metadata": {},
   "source": [
    "# construir diccionarios a partir de diccionarios\n",
    "diccionario10=dict({\"x\":10,\"y\":9})\n",
    "diccionario10"
   ],
   "outputs": [],
   "execution_count": null
  },
  {
   "cell_type": "code",
   "id": "42864943",
   "metadata": {},
   "source": [
    "#combinada\n",
    "diccionario11=dict({\"x\":10,\"y\":9},z=-3,t=4)\n",
    "diccionario11"
   ],
   "outputs": [],
   "execution_count": null
  },
  {
   "cell_type": "markdown",
   "id": "f5b051bd",
   "metadata": {},
   "source": [
    "# Objetos JSON\n",
    "\n",
    "JSON = Javascript object Notation \n",
    "JSON Object = una lista de pares clave, valor\n",
    "JSON array = listas de valores\n",
    "\n",
    "Para utilizar JSON con python hay que importar la librería json\n",
    "\n",
    "- dumps -> Vuelca el contenido de un diccionario a un objeto json\n",
    "- loads -> Crea un objeto diccionario a partir de un objeto json\n"
   ]
  },
  {
   "cell_type": "code",
   "id": "327e54c4",
   "metadata": {},
   "source": [
    "# de diccionario a JSON\n",
    "import json\n",
    "diccionario11=dict({\"x\":10,\"y\":9},z=-3,t=4)\n",
    "json1=json.dumps(diccionario11)\n",
    "type(json1),json1,type(diccionario11)\n"
   ],
   "outputs": [],
   "execution_count": null
  },
  {
   "cell_type": "code",
   "id": "f45915ce",
   "metadata": {},
   "source": [
    "# ejemplo, convertir a JSON un objeto diccionario complejo y guardar en un fichero de texto\n",
    "diccionario3={\"alumno1\":{\"nombre\":\"Juan\",\"apellidos\":[\"Pérez\",\"López\"],\"notas\":[5,3,2],\"familiares\":{}},\n",
    "              \"alumno2\":{\"nombre\":\"Paco\",\"apellidos\":\"Jonhson\",\"expulsiones\":3},\n",
    "              \"alumno3\":{\"nombre\":\"María\",\"apellidos\":[\"Sanchez\",\"López\"],\"matriculasH\":5},\n",
    "              \"alumno4\":[]}\n",
    "\n",
    "json2=json.dumps(diccionario3)\n",
    "with open(\"ejemplo.txt\",\"w\") as fichero:\n",
    "    fichero.write(json2)"
   ],
   "outputs": [],
   "execution_count": null
  },
  {
   "cell_type": "code",
   "id": "3df13916",
   "metadata": {},
   "source": [
    "# de fichero a cadena de caracteres -> a objeto diccionario\n",
    "# dos formas: \n",
    "# 1ª fichero -> cadena -> loads\n",
    "# 2ª json.load\n",
    "\n",
    "#1ª forma\n",
    "with open(\"ejemplo.txt\",\"r\") as fichero:\n",
    "    cadena=fichero.read()\n",
    "\n",
    "objeto_d=json.loads(cadena)\n",
    "type(objeto_d)\n",
    "    "
   ],
   "outputs": [],
   "execution_count": null
  },
  {
   "cell_type": "code",
   "id": "eaca9f87",
   "metadata": {},
   "source": [
    "with open(\"ejemplo.txt\",\"r\") as fichero:\n",
    "    diccionario11=json.load(fichero)\n",
    "type(diccionario11),diccionario11"
   ],
   "outputs": [],
   "execution_count": null
  },
  {
   "cell_type": "code",
   "id": "9457bb17",
   "metadata": {},
   "source": [
    "# el método pop eliminar una entrada del diccionario: \n",
    "# pop (key, [valor_por_defecto]) -> valor\n",
    "\n",
    "valor=diccionario11.pop('alumno1')\n"
   ],
   "outputs": [],
   "execution_count": null
  },
  {
   "cell_type": "code",
   "id": "c674c0a9",
   "metadata": {},
   "source": [
    "diccionario11, valor"
   ],
   "outputs": [],
   "execution_count": null
  },
  {
   "cell_type": "code",
   "id": "604c6439",
   "metadata": {},
   "source": [
    "#eliminar una clave no existente da error\n",
    "diccionario11.pop('xxxxx')"
   ],
   "outputs": [],
   "execution_count": null
  },
  {
   "cell_type": "code",
   "id": "e54350ae",
   "metadata": {},
   "source": [
    "#salvo que indiquemos un valor por defecto\n",
    "diccionario11.pop('xxxxx',10)"
   ],
   "outputs": [],
   "execution_count": null
  },
  {
   "cell_type": "markdown",
   "id": "2eec780c",
   "metadata": {},
   "source": [
    "# Conjuntos \n",
    "\n",
    "Es una estructura de datos con unas características un tanto diferentes:\n",
    "- no mutable: Los elementos del conjunto no se pueden modificar\n",
    "- no están ordenados: la posición de los elementos se puede alterar \n",
    "- heterogéneos: enteros, flotantes, cadenas de caracteres, cualquier elemento de tipo básico\n",
    "    - no puede haber elementos \"complejos\"\n",
    "\n",
    "\n",
    "\n"
   ]
  },
  {
   "cell_type": "markdown",
   "id": "c7ecb07c",
   "metadata": {},
   "source": [
    "### inciso:\n",
    "- listas -> []\n",
    "- diccionarios -> {}\n",
    "- tuplas -> ()\n",
    "- conjuntos -> {}\n",
    " \n",
    " "
   ]
  },
  {
   "cell_type": "code",
   "id": "54c3c6e5",
   "metadata": {},
   "source": [
    "# no puedo crear un conjunto vació con {}\n",
    "conjunto={}\n",
    "type(conjunto)"
   ],
   "outputs": [],
   "execution_count": null
  },
  {
   "cell_type": "code",
   "id": "b4c0a31e",
   "metadata": {},
   "source": [
    "# para crear un conjunto hay que usar set\n",
    "c1=set([1,2,4,5,6,7,2,4])\n",
    "type(c1),c1"
   ],
   "outputs": [],
   "execution_count": null
  },
  {
   "cell_type": "code",
   "id": "8830d385",
   "metadata": {},
   "source": [
    "c2=set((1,2,3,4,5,6,6,6,7,7,7,7))\n",
    "c2, type(c2)"
   ],
   "outputs": [],
   "execution_count": null
  },
  {
   "cell_type": "code",
   "id": "2e2b0706",
   "metadata": {},
   "source": [
    "c3={1,2,3,4,5,6,7,7,7,7,7,7}\n",
    "c3, type(c3)\n"
   ],
   "outputs": [],
   "execution_count": null
  },
  {
   "cell_type": "code",
   "id": "b8d59c7e",
   "metadata": {},
   "source": [
    "#operaciones típicas\n",
    "frutas={\"kiwi\",\"manzana\",\"sandia\",\"aguacate\"}\n",
    "frutas2={\"kiwi\",\"naranjas\",\"limones\"}\n",
    "\n",
    "frutas,frutas2, frutas.union(frutas2)"
   ],
   "outputs": [],
   "execution_count": null
  },
  {
   "cell_type": "code",
   "id": "a4c8fa26",
   "metadata": {},
   "source": [
    "# no puedo cosas de este estilo\n",
    "frutas[0]=\"jjjjj\" # imposible NO MUTABLE"
   ],
   "outputs": [],
   "execution_count": null
  },
  {
   "cell_type": "code",
   "id": "64297b66",
   "metadata": {},
   "source": [
    "frutas.intersection(frutas2)"
   ],
   "outputs": [],
   "execution_count": null
  },
  {
   "cell_type": "code",
   "id": "03f7d24b",
   "metadata": {},
   "source": [
    "# otro ejemplo \n",
    "\"kiwi\" in frutas\n"
   ],
   "outputs": [],
   "execution_count": null
  },
  {
   "cell_type": "code",
   "id": "e093eba9",
   "metadata": {},
   "source": [
    "\"aguacate\" in frutas2"
   ],
   "outputs": [],
   "execution_count": null
  },
  {
   "cell_type": "code",
   "id": "b3f0b381",
   "metadata": {},
   "source": [
    "# añadir elementos a un conjunto\n",
    "frutas.add(\"melocotón\")\n",
    "frutas.add(\"melocotón\")\n",
    "frutas.add(\"melocotón\")\n",
    "frutas.add(\"melocotón\")\n",
    "frutas.add(\"melocotón\")\n",
    "\n",
    "\n",
    "frutas"
   ],
   "outputs": [],
   "execution_count": null
  },
  {
   "cell_type": "code",
   "id": "c3336db8",
   "metadata": {},
   "source": [
    "# recorrido de un conjunto\n",
    "for i in frutas:\n",
    "    print(i)"
   ],
   "outputs": [],
   "execution_count": null
  },
  {
   "cell_type": "code",
   "id": "241494ec",
   "metadata": {},
   "source": [
    "# Para cambiar un elemento de un conjunto: eliminarlo y añadirlo o convertir a lista y de lista a conjunto\n",
    "\n",
    "frutas=list(frutas)\n",
    "frutas[2]=\"peras\"\n",
    "frutas=set(frutas)\n",
    "frutas"
   ],
   "outputs": [],
   "execution_count": null
  },
  {
   "cell_type": "code",
   "id": "8bf514f4",
   "metadata": {},
   "source": [
    "cadena=\"Esto es una cadena de caracteres\"\n",
    "\n",
    "lista=list(cadena)\n",
    "\n",
    "print(lista)"
   ],
   "outputs": [],
   "execution_count": null
  },
  {
   "cell_type": "code",
   "id": "06404313",
   "metadata": {},
   "source": [
    "diccionario13=dict([c,c] for c in cadena)\n",
    "print(diccionario13)"
   ],
   "outputs": [],
   "execution_count": null
  },
  {
   "cell_type": "code",
   "id": "c43910b8",
   "metadata": {},
   "source": [
    "conjunto2=set(cadena)\n",
    "conjunto2"
   ],
   "outputs": [],
   "execution_count": null
  },
  {
   "cell_type": "code",
   "id": "a8e660d2",
   "metadata": {},
   "source": [
    "tupla=tuple(cadena)\n",
    "tupla"
   ],
   "outputs": [],
   "execution_count": null
  },
  {
   "cell_type": "markdown",
   "id": "04f614d1",
   "metadata": {},
   "source": [
    "# Las tuplas (tuples)\n",
    "\n",
    "Son una estructura de datos que define un conjunto de elementos entre () y separados por comas. Tienen las siguientes características:\n",
    "- heterogéneas\n",
    "- no mutables\n",
    "- ordenadas \n",
    "\n"
   ]
  },
  {
   "cell_type": "code",
   "id": "abce9089",
   "metadata": {},
   "source": [
    "# Definir tuplas\n",
    "t1= (1,2,2,3,4,5)\n",
    "t1, type(t1)"
   ],
   "outputs": [],
   "execution_count": null
  },
  {
   "cell_type": "code",
   "id": "42a625b5",
   "metadata": {},
   "source": [
    "t2=tuple([\"cadena\",1,1.0,4+1j,[1,2,3,4,5]])\n",
    "t2"
   ],
   "outputs": [],
   "execution_count": null
  },
  {
   "cell_type": "code",
   "id": "7863833c",
   "metadata": {},
   "source": [
    "t3=\"un elemento\", 1, 2.0\n",
    "type(t3),t3"
   ],
   "outputs": [],
   "execution_count": null
  },
  {
   "cell_type": "code",
   "id": "f00dcad3",
   "metadata": {},
   "source": [
    "# operador asignación\n",
    "var1, var2 = 3, 4\n",
    "var1,var2\n",
    "\n",
    "# aquí estoy realizando un procesa llamado \"Unpacking\", o desempaquetar. "
   ],
   "outputs": [],
   "execution_count": null
  },
  {
   "cell_type": "code",
   "id": "72f337e6",
   "metadata": {},
   "source": [
    "t=(\"Cadena\", 1.0, \"María\", 2, [1,2,3,4,5])\n",
    "v1,v2,v3,v4,v5=t  # desempaquetar\n",
    "print(v1,v2,v3,v4,v5)\n",
    "\n"
   ],
   "outputs": [],
   "execution_count": null
  },
  {
   "cell_type": "code",
   "id": "0d0b240a",
   "metadata": {},
   "source": [
    "# _ bucle? -> descartar el valor producido por el bucle\n",
    "for _ in range(1:100):\n",
    "    print(\"Hola\")  "
   ],
   "outputs": [],
   "execution_count": null
  },
  {
   "cell_type": "code",
   "id": "0e3f2e61",
   "metadata": {},
   "source": [
    "# el número de elementos a desempaquetar tiene que coincidir con las variables que reciben los valores\n",
    "v1,v2=t"
   ],
   "outputs": [],
   "execution_count": null
  },
  {
   "cell_type": "code",
   "id": "4cda735c",
   "metadata": {},
   "source": [
    "# slicing? Sí, el slicing es aplicable a las tuplas\n",
    "v1,v2=t[0:2]\n",
    "v1,v2"
   ],
   "outputs": [],
   "execution_count": null
  },
  {
   "cell_type": "code",
   "id": "90fae1b0",
   "metadata": {},
   "source": [
    "# _ descartar valores de tuplas\n",
    "v1,v2,_,_,_ = t\n",
    "\n",
    "v1,v2\n"
   ],
   "outputs": [],
   "execution_count": null
  },
  {
   "cell_type": "code",
   "id": "a536f8f4",
   "metadata": {},
   "source": [
    "lista1=[i for i in range(100)]\n",
    "t2=tuple(lista1)\n",
    "t2"
   ],
   "outputs": [],
   "execution_count": null
  },
  {
   "cell_type": "code",
   "id": "da3d01be",
   "metadata": {},
   "source": [
    "_,v1,v2,*_ = t2\n",
    "v1,v2"
   ],
   "outputs": [],
   "execution_count": null
  },
  {
   "cell_type": "markdown",
   "id": "221040de",
   "metadata": {},
   "source": [
    "## Operaciones con tuplas (operadores)\n",
    "\n",
    "+ sumar dos tuplas\n",
    "* repetir tuplas\n"
   ]
  },
  {
   "cell_type": "code",
   "id": "facb6f56",
   "metadata": {},
   "source": [
    "t3=(1,2)\n",
    "t2+t3"
   ],
   "outputs": [],
   "execution_count": null
  },
  {
   "cell_type": "code",
   "id": "a4a1c1b9",
   "metadata": {},
   "source": [
    "len(t2*5)"
   ],
   "outputs": [],
   "execution_count": null
  },
  {
   "cell_type": "code",
   "id": "5c1966ae",
   "metadata": {},
   "source": [
    "# min(), max(), len()....\n",
    "min(t2),max(t2)"
   ],
   "outputs": [],
   "execution_count": null
  },
  {
   "cell_type": "code",
   "id": "0bf91dae",
   "metadata": {},
   "source": [
    "import numpy as np\n",
    "v=np.array([1,2,3,4,5,6,7,8])\n",
    "\n",
    "v.shape"
   ],
   "outputs": [],
   "execution_count": null
  },
  {
   "cell_type": "code",
   "id": "425f6dd8",
   "metadata": {},
   "source": [
    "tupla_1_elemento=(\"Cadena\")\n",
    "type(tupla_1_elemento)"
   ],
   "outputs": [],
   "execution_count": null
  },
  {
   "cell_type": "code",
   "id": "c956ff7d",
   "metadata": {},
   "source": [
    "tupla_1_elemento=(\"Cadena\",)\n",
    "type(tupla_1_elemento)"
   ],
   "outputs": [],
   "execution_count": null
  },
  {
   "cell_type": "code",
   "id": "9462ff58",
   "metadata": {},
   "source": [
    "tupla3=tuple(\"Cadena\")\n",
    "tuple3"
   ],
   "outputs": [],
   "execution_count": null
  },
  {
   "cell_type": "code",
   "id": "23401a96",
   "metadata": {},
   "source": [
    "tupla4=([\"cadena\"])\n",
    "type(tupla4)\n"
   ],
   "outputs": [],
   "execution_count": null
  },
  {
   "cell_type": "code",
   "id": "28520ef4",
   "metadata": {},
   "source": [
    "t5=(2)\n",
    "t6=(2,1)\n",
    "t7=(\"cadena\",2.0,[1,2,3,3,4])\n",
    "type(t5),type(t6),type(t7)"
   ],
   "outputs": [],
   "execution_count": null
  },
  {
   "cell_type": "code",
   "id": "f06d8d07",
   "metadata": {},
   "source": [
    "#bucles\n",
    "for i in t7:\n",
    "    print(i)\n",
    "    \n",
    "    "
   ],
   "outputs": [],
   "execution_count": null
  },
  {
   "cell_type": "code",
   "id": "8ea7bde8",
   "metadata": {},
   "source": [
    "# recorrido con además del elemento que saque su posición\n",
    "for i in range(len(t7)):\n",
    "    if type(t7[i]) is list:\n",
    "        for j in range(len(t7[i])):\n",
    "            print(i,t7[i],j,t7[i][j])\n",
    "    else:\n",
    "        print(i,t7[i])"
   ],
   "outputs": [],
   "execution_count": null
  },
  {
   "cell_type": "code",
   "id": "94feff04",
   "metadata": {},
   "source": [
    "# enumerate también existen en python base\n",
    "for i,j in enumerate(t7):\n",
    "    print(i,j)"
   ],
   "outputs": [],
   "execution_count": null
  },
  {
   "cell_type": "code",
   "id": "77ce0be4",
   "metadata": {},
   "source": [
    "# cómo comprobar si un elemento pertenece o no a una tupla\n",
    "\"cadena\" in t7"
   ],
   "outputs": [],
   "execution_count": null
  },
  {
   "cell_type": "code",
   "id": "e271007a",
   "metadata": {},
   "source": [
    "# Dada esta tupla, recorrerla con unpacking\n",
    "t8=(\"cereza\",\"roja\"),(\"kiwi\",\"verde\"),(\"manzana\",\"amarilla\")\n",
    "for x,y in t8:\n",
    "    print(x,\"es\",y)\n"
   ],
   "outputs": [],
   "execution_count": null
  },
  {
   "cell_type": "code",
   "id": "7873bac2",
   "metadata": {},
   "source": [
    "objetos=[\"portatil\",\"radio\",\"television\"]\n",
    "precios=[800,20,500]\n",
    "\n",
    "# la función zip me permite combinar dos o más listas generando tuplas de las mismas\n",
    "for x,y in zip(objetos,precios):\n",
    "    print(x,\"vale\",y)"
   ],
   "outputs": [],
   "execution_count": null
  },
  {
   "cell_type": "code",
   "id": "2822eef3",
   "metadata": {},
   "source": [
    "list(zip(objetos,precios))"
   ],
   "outputs": [],
   "execution_count": null
  },
  {
   "cell_type": "code",
   "id": "36a1b290",
   "metadata": {},
   "source": [
    "#Las tuplas no son mutables: sus elementos no se pueden modificar\n",
    "\n",
    "t7[0]=\"Cadena 1\""
   ],
   "outputs": [],
   "execution_count": null
  },
  {
   "cell_type": "code",
   "id": "3a7210f9",
   "metadata": {},
   "source": [
    "# para cambiar el valor de una tupla: tupla -> lista -> modificamos -> tupla (Operación de dudosa eficiencia)\n",
    "t7=list(t7)\n",
    "t7[0]=\"otra cadena\"\n",
    "t7=tuple(t7)\n",
    "t7"
   ],
   "outputs": [],
   "execution_count": null
  },
  {
   "cell_type": "code",
   "id": "5d2fe0ca",
   "metadata": {},
   "source": [
    "t8={\"alumno\":\"David\"},[1,2,3,45,5],t7\n",
    "t8"
   ],
   "outputs": [],
   "execution_count": null
  }
 ],
 "metadata": {
  "kernelspec": {
   "display_name": "Python 3 (ipykernel)",
   "language": "python",
   "name": "python3"
  },
  "language_info": {
   "codemirror_mode": {
    "name": "ipython",
    "version": 3
   },
   "file_extension": ".py",
   "mimetype": "text/x-python",
   "name": "python",
   "nbconvert_exporter": "python",
   "pygments_lexer": "ipython3",
   "version": "3.11.3"
  }
 },
 "nbformat": 4,
 "nbformat_minor": 5
}
