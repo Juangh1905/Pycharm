{
 "cells": [
  {
   "cell_type": "markdown",
   "metadata": {
    "id": "tFwm2WhMiR7F"
   },
   "source": [
    "# Tratamiento de Archivos en python: `txt` y `csv`"
   ]
  },
  {
   "cell_type": "markdown",
   "metadata": {
    "id": "YmXrRVwXkltU"
   },
   "source": [
    "## Leyendo el primer `txt`\n",
    "\n",
    "Vamos a crear un archivo `txt` con Text Editor que diga\n",
    "\n",
    "\"¡Qué ilusión! Vamos a cargar por primera vez un archivo `txt` con `Python`\"\n",
    "\n",
    "y lo guardaremos en la carpeta datasets con el nombre `first_read.txt`.\n",
    "\n",
    "A continuación, vamos a cargar el archivo que acabamos de crear en este mismo notebook. Para ello vamos a usar la función `open()` y los métodos `.read()` y `.close()`, para abrir, leer y cerrar, respectivamente, el archivo `txt`.\n"
   ]
  },
  {
   "cell_type": "code",
   "metadata": {
    "colab": {
     "base_uri": "https://localhost:8080/"
    },
    "id": "-aIoVSfoiMKP",
    "outputId": "e00a70c2-19bd-42b0-ddbf-fccdef2b1544"
   },
   "source": [
    "f = open(\"./first_read.txt\")\n",
    "print(f.read())\n",
    "f.close()"
   ],
   "outputs": [],
   "execution_count": null
  },
  {
   "cell_type": "markdown",
   "metadata": {
    "id": "1srvprWkpm6_"
   },
   "source": [
    "* La función `open()` abre el archivo indicado y nos permite acceder a él. Como parámetro necesita el path del archivo que queremos abrir.\n",
    "* El método `.read()` lo usamos para leer el contenido del output que nos proporciona la función `open()` al cual hemos llamado `f`\n",
    "* Cuando hayamos acabado de trabajar con el archivo `f`, hay que cerrarlo. Este proceso se lleva a cabo con el método `.close()`\n"
   ]
  },
  {
   "cell_type": "markdown",
   "metadata": {
    "id": "_4HZO2klqoQP"
   },
   "source": [
    "Otra forma de abrir el archivo y guardarlo en la variable `f` sería:"
   ]
  },
  {
   "cell_type": "code",
   "metadata": {
    "colab": {
     "base_uri": "https://localhost:8080/"
    },
    "id": "e7gNakACqv_Z",
    "outputId": "d71be9c0-d31d-40eb-a6fe-f1b4cf29dda3"
   },
   "source": [
    "with open(\"./first_read.txt\") as f:\n",
    "  print(f.read())"
   ],
   "outputs": [],
   "execution_count": null
  },
  {
   "cell_type": "markdown",
   "metadata": {
    "id": "joCOZWxaq8HP"
   },
   "source": [
    "**Observación.** Con esta nueva sintaxis ya no es necesario hacer uso del método `.close()` para cerrar el archivo `f`. El comando `with` garantiza que el objeto `file` precedente, `f`, se cerrará automáticamente después de salir del bloque de código."
   ]
  },
  {
   "cell_type": "markdown",
   "metadata": {
    "id": "zv6M-RO1qL_1"
   },
   "source": [
    "### Leyendo parcialmente un archivo\n",
    "\n",
    "Dado un archivo `txt` abierto con la función `open()`, no es necesario leerlo al completo. Si solamente nos interesase leer una parte, podríamos indicárselo por parámetro al método `.read()`\n",
    "\n",
    "En el siguiente chunk de código vamos a leer solamente los 7 primeros caracteres del archivo `f`"
   ]
  },
  {
   "cell_type": "code",
   "metadata": {
    "colab": {
     "base_uri": "https://localhost:8080/"
    },
    "id": "RBLgOCXBo4pj",
    "outputId": "f1cc1981-21e4-477c-f2e8-3d16bc5adbcf"
   },
   "source": [
    "f = open(\"./first_read.txt\") \n",
    "print(f.read(7))\n",
    "f.close()"
   ],
   "outputs": [],
   "execution_count": null
  },
  {
   "cell_type": "markdown",
   "metadata": {
    "id": "Xnys_msjrrrn"
   },
   "source": [
    "### Leyendo un archivo línea a línea\n",
    "\n",
    "El método `.readline()` hace que el archivo `f` sea leido línea a línea. \n",
    "\n",
    "* Si solamente llamamos una vez al método `.readline()` leeremos únicamente la primera línea del fichero.\n",
    "* Si llamamos dos veces al método, leeremos las dos primeras líneas del fichero.\n",
    "* Y así sucesivamente.\n",
    "\n",
    "En nuestro caso solo tenemos una línea, de modo que nos sirve una llamada al método `.readline()` para leer todo el fichero. Sin embargo, podemos probar con un archivo con más de una línea como el `first_read_multiline` que hemos creado para esta clase.\n"
   ]
  },
  {
   "cell_type": "code",
   "metadata": {
    "colab": {
     "base_uri": "https://localhost:8080/"
    },
    "id": "R6DQWAIMrJfb",
    "outputId": "d0d19277-2cbb-4330-910a-1fc3be2e28dd"
   },
   "source": [
    "with open(\"./first_read_multiline.txt\") as f:\n",
    "  print(f.readline())\n",
    "  print(f.readline())\n",
    "  print(f.readline())"
   ],
   "outputs": [],
   "execution_count": null
  },
  {
   "cell_type": "code",
   "metadata": {},
   "source": [
    "#Forma sencilla de leer un fichero entero, línea a línea, con un bucle\n",
    "with open(\"./first_read_multiline.txt\",\"rt\") as f:\n",
    "    linea=f.readline()\n",
    "    while linea!=\"\":\n",
    "        print(linea,end=\"\")\n",
    "        linea=f.readline()\n",
    "        "
   ],
   "outputs": [],
   "execution_count": null
  },
  {
   "cell_type": "markdown",
   "metadata": {
    "id": "Jsc7y-gosGs1"
   },
   "source": [
    "## Escribiendo un archivo `txt`\n",
    "\n",
    "Podemos crear y escribir un archivo `txt` desde este mismo notebook. \n",
    "\n",
    "Para ello, volveremos a usar la función `open()`, pero esta vez con un parámetro adicional: `mode = \"w\"`. Este nuevo parámetro nos permitirá acceder al archivo en modo escritura, mientras que si no indicásemos nada, por defecto accederíamos en modo lectura.\n",
    "\n",
    "Para escribir en el fichero, tendremos que usar el método `.write()` e indicarle el string que queremos plasmar en nuestro `txt`.\n",
    "\n",
    "Además, para crear un nuevo archivo `txt`, a la hora de introducir el path (que será el mismo que el del archivo `first_read.txt`), como nombre del archivo indicaremos `first_write.txt`."
   ]
  },
  {
   "cell_type": "code",
   "metadata": {
    "id": "cJLnAOpur3DJ"
   },
   "source": [
    "f = open(\"./first_write.txt\", mode = \"w\")\n",
    "f.write(\"Este es el primer archivo txt que escribimos\\ny lo estamos haciendo desde un notebook!\")\n",
    "f.close()"
   ],
   "outputs": [],
   "execution_count": null
  },
  {
   "cell_type": "markdown",
   "metadata": {
    "id": "a6vb53GMziFo"
   },
   "source": [
    "**¡Cuidado!** El archivo que creemos no debe existir. En caso de existir un archivo con el mismo nombre, lo estaríamos rescribiendo."
   ]
  },
  {
   "cell_type": "markdown",
   "metadata": {
    "id": "yOpnI4bXtrkX"
   },
   "source": [
    "Comprobamos que se ha guardado el nuevo archivo `txt` llamado `first_write` en nuestra carpeta datasets. \n",
    "\n",
    "Una vez comprobada la existencia de este archivo `txt`, podemos leerlo desde este notebook tal cuál hemos hecho en el apartado anterior"
   ]
  },
  {
   "cell_type": "code",
   "metadata": {
    "colab": {
     "base_uri": "https://localhost:8080/"
    },
    "id": "236zWdeovFin",
    "outputId": "5a42ce52-47ec-4e58-c057-0ccf3644bc6f"
   },
   "source": [
    "# Con el método .read()\n",
    "with open(\"./first_write.txt\") as f:\n",
    "  print(f.read())"
   ],
   "outputs": [],
   "execution_count": null
  },
  {
   "cell_type": "code",
   "metadata": {
    "colab": {
     "base_uri": "https://localhost:8080/"
    },
    "id": "14t8yagPtqmG",
    "outputId": "260d3556-ef32-4c23-9eb6-e6c08394b671"
   },
   "source": [
    "# Con el método .readline()\n",
    "with open(\"./first_write.txt\") as f:\n",
    "  print(f.readline())\n",
    "  print(f.readline())"
   ],
   "outputs": [],
   "execution_count": null
  },
  {
   "cell_type": "markdown",
   "metadata": {
    "id": "xEOA6W7QwKKo"
   },
   "source": [
    "Al haber más de una línea, también podemos leer todas ellas con un bucle:"
   ]
  },
  {
   "cell_type": "code",
   "metadata": {
    "colab": {
     "base_uri": "https://localhost:8080/"
    },
    "id": "CHPkqkmqwNej",
    "outputId": "72b53641-b892-49e6-cf6d-a552f5d4cdb0"
   },
   "source": [
    "with open(\"./first_write.txt\") as f:\n",
    "  for line in f:\n",
    "    print(line)"
   ],
   "outputs": [],
   "execution_count": null
  },
  {
   "cell_type": "markdown",
   "metadata": {
    "id": "Bon87AVIzJiT"
   },
   "source": [
    "### Creando un `txt` vacío\n",
    "\n",
    "Si queremos crear un `txt` vacío, indicamos `mode = \"x\"`.\n",
    "\n",
    "En este caso vamos a crear un `txt` vacío llamado `first_empty`"
   ]
  },
  {
   "cell_type": "code",
   "metadata": {
    "id": "6ABkigENzRZE"
   },
   "source": [
    "f = open(\"./first_empty.txt\", mode = \"x\")\n",
    "f.close()"
   ],
   "outputs": [],
   "execution_count": null
  },
  {
   "cell_type": "markdown",
   "metadata": {
    "id": "m0_Eg1Pfz56c"
   },
   "source": [
    "**¡Cuidado!** El archivo que creemos no debe existir. En caso de existir un archivo con el mismo nombre, nos saltaría error indicando que el archivo en cuestión ya existe."
   ]
  },
  {
   "cell_type": "markdown",
   "metadata": {
    "id": "ctH8rjZ1we5B"
   },
   "source": [
    "## Sobrescribiendo un archivo `txt` existente\n",
    "\n",
    "Al igual que podemos crear y escribir un archivo `txt` desde 0, podemos modificar un archivo `txt` ya existente.\n",
    "\n",
    "En este caso, el parámetro `mode` debe ser igualado a `\"a\"`.\n",
    "\n",
    "Vamos entonces a modificar el archivo `first_write` y vamos a añadirle al final la siguiente frase:\n",
    "\n",
    "\"\\nY esta última línea se ha añadido posteriormente.\"\n",
    "\n",
    "**Observación.** Añadimos el comando `\\n` al principio de la frase para que ésta se considere una nueva frase tras un salto de línea."
   ]
  },
  {
   "cell_type": "code",
   "metadata": {
    "id": "tHgcugydwpCZ"
   },
   "source": [
    "f = open(\"./first_write.txt\", mode = \"a\")\n",
    "f.write(\"\\nY esta última línea se ha añadido posteriormente.\")\n",
    "f.close()"
   ],
   "outputs": [],
   "execution_count": null
  },
  {
   "cell_type": "markdown",
   "metadata": {
    "id": "OYpglQ9fxpaJ"
   },
   "source": [
    "**¡Cuidado!** Cada vez que ejecutéis la celda anterior se añadirá el string indicado. Por tanto, no la ejecutéis más de una vez u os encontraréis con la frase en cuestión repetida múltiples veces!"
   ]
  },
  {
   "cell_type": "code",
   "metadata": {
    "colab": {
     "base_uri": "https://localhost:8080/"
    },
    "id": "_4rWBWyGxN8h",
    "outputId": "fbf32c24-61c1-4aea-eb5a-de7418fb602f"
   },
   "source": [
    "with open(\"./first_write.txt\") as f:\n",
    "  for line in f:\n",
    "    print(line)"
   ],
   "outputs": [],
   "execution_count": null
  },
  {
   "cell_type": "markdown",
   "metadata": {
    "id": "pu4-EH3Kx-3F"
   },
   "source": [
    "**¡Cuidado!** Si en vez de indicar `mode = \"a\"` indicáis `mode = \"w\"` eliminaréis el contenido del fichero y lo sobrescribiréis por completo por el string que indiquéis al método `.write()`"
   ]
  },
  {
   "cell_type": "code",
   "metadata": {
    "id": "5d1LXm_lx95n"
   },
   "source": [
    "f = open(\"./first_write.txt\", mode = \"w\")\n",
    "f.write(\"Ups! Todo lo anterior ha sido borrado!!!\\n\")\n",
    "f.write(\"Hay que ir con cuidado cuando queremos editar un archivo txt...\\n\")\n",
    "f.write(\"Hay que prestar mucha atención al método con el que accedemos al fichero!\")\n",
    "f.close()"
   ],
   "outputs": [],
   "execution_count": null
  },
  {
   "cell_type": "code",
   "metadata": {
    "colab": {
     "base_uri": "https://localhost:8080/"
    },
    "id": "jYky7eYQxQfY",
    "outputId": "a87d514e-b411-4e96-ccfe-fe2570d92d1d"
   },
   "source": [
    "with open(\"./first_write.txt\") as f:\n",
    "  for line in f:\n",
    "    print(line)"
   ],
   "outputs": [],
   "execution_count": null
  },
  {
   "cell_type": "markdown",
   "metadata": {
    "id": "jmkn_hic01rq"
   },
   "source": [
    "## Eliminando archivos\n",
    "\n",
    "En este caso vamos a tener que importar el módulo `os`"
   ]
  },
  {
   "cell_type": "code",
   "metadata": {
    "id": "V2UwpkF4yXK1"
   },
   "source": [
    "import os"
   ],
   "outputs": [],
   "execution_count": null
  },
  {
   "cell_type": "markdown",
   "metadata": {
    "id": "ousR2pWV08Yj"
   },
   "source": [
    "Para eliminar un archivo usaremos el método `.remove()` al que por parámetro indicaremos el path de dicho archivo."
   ]
  },
  {
   "cell_type": "code",
   "metadata": {
    "id": "lmWHNqcN1E_V"
   },
   "source": [
    "os.remove(\"./first_empty.txt\")"
   ],
   "outputs": [],
   "execution_count": null
  },
  {
   "cell_type": "markdown",
   "metadata": {
    "id": "HAkSYkwz1SLi"
   },
   "source": [
    "Podemos comprobar en la carpeta datasets que efectivamente ha dejado de existir el archivo `first_empty`.\n",
    "\n",
    "Para evitar errores, antes de proceder a la eliminación de un archivo, podemos comprobar su existencia con el método `.path.exists()`, al que por parámetro le indicamos el path del archivo en cuestión.\n",
    "\n",
    "Para realizar este ejemplo, vamos a volver a crear el `txt` `first_empty`. Luego comprobaremos su existencia y, de existir, lo eliminaremos. De no existir, lo indicaremos por pantalla."
   ]
  },
  {
   "cell_type": "code",
   "metadata": {
    "id": "tDoRyjP_1MKH"
   },
   "source": [
    "path = \"./first_empty.txt\"\n",
    "f = open(path, mode = \"x\")\n",
    "f.close()"
   ],
   "outputs": [],
   "execution_count": null
  },
  {
   "cell_type": "code",
   "metadata": {
    "id": "BVxKYJzH1w54"
   },
   "source": [
    "if os.path.exists(path):\n",
    "  os.remove(path)\n",
    "else:\n",
    "  print(\"El archivo que se quiere eliminar no existe\")"
   ],
   "outputs": [],
   "execution_count": null
  },
  {
   "cell_type": "markdown",
   "metadata": {
    "id": "ZPT41iyT1_2s"
   },
   "source": [
    "Si volvemos a ejecutar la celda anterior, puesto que el archivo `first_empty` se habrá eliminado, obtendremos el mensaje `\"El archivo que se quiere eliminar no existe\"`"
   ]
  },
  {
   "cell_type": "code",
   "metadata": {
    "colab": {
     "base_uri": "https://localhost:8080/"
    },
    "id": "YRWn4tCV1-Z6",
    "outputId": "42da8f85-49a3-4739-ce45-31eff6f96030"
   },
   "source": [
    "if os.path.exists(path):\n",
    "  os.remove(path)\n",
    "else:\n",
    "  print(\"El archivo que se quiere eliminar no existe\")"
   ],
   "outputs": [],
   "execution_count": null
  },
  {
   "cell_type": "markdown",
   "metadata": {
    "id": "J7oPjjyA2QBa"
   },
   "source": [
    "### Eliminando carpetas\n",
    "\n",
    "Si se deseara eliminar toda una carpeta, esto sería posible con el método `.rmdir()`.\n",
    "\n",
    "Para ver su funcionamiento, vamos a crear una carpeta dentro de la carpeta datasets. A esta nueva carpeta la llamaremos `carpeta_temporal` y estará vacía.\n",
    "\n",
    "**Observación.** Este métodosolo nos permite eliminar carpetas vacías."
   ]
  },
  {
   "cell_type": "code",
   "metadata": {
    "id": "FaCEggUn2P3S"
   },
   "source": [
    "path = \"./carpeta_temporal\"\n",
    "os.rmdir(path)"
   ],
   "outputs": [],
   "execution_count": null
  },
  {
   "cell_type": "markdown",
   "metadata": {
    "id": "GzLM_vnm2_eQ"
   },
   "source": [
    "Navegamos hasta la carpeta datasets de nuestro Google Drive y comprobamos que efectivamente, la carpeta vacía que acabábamos de crear, `carpeta_temporal`, ha sido eliminada."
   ]
  },
  {
   "cell_type": "markdown",
   "metadata": {
    "id": "WAolyfJ5B9vh"
   },
   "source": [
    "## Leyendo `csv` con `open()`"
   ]
  },
  {
   "cell_type": "markdown",
   "metadata": {
    "id": "K7bIwlR9DZpw"
   },
   "source": [
    "Además de usar la función `open()`, vamos a necesitar algunos métodos del módulo `csv`."
   ]
  },
  {
   "cell_type": "code",
   "metadata": {
    "id": "fLY_tAn728p-"
   },
   "source": [
    "import csv"
   ],
   "outputs": [],
   "execution_count": null
  },
  {
   "cell_type": "markdown",
   "metadata": {
    "id": "O0RQXJa-Diqz"
   },
   "source": [
    "Empezaremos mostrando como leer un `csv` haciendo uso del método `.reader()` del módulo `csv`.\n",
    "\n",
    "En este caso vamos a trabajar con el archivo `csv_example.csv`. Si abrimos el archivo, veremos que todos los valores están separados por comas y cada observación se encuentra en una línea diferente.\n",
    "\n",
    "Para leerlo, ejecutaremos el siguiente chunk de código:"
   ]
  },
  {
   "cell_type": "code",
   "metadata": {
    "colab": {
     "base_uri": "https://localhost:8080/"
    },
    "id": "4iuaRGD-DVDC",
    "outputId": "a7210dcc-cd89-455e-b6d5-4d0dd5e713bb"
   },
   "source": [
    "with open(\"./csv_example.csv\", \"r\") as f:\n",
    "    reader = csv.reader(f)\n",
    "    for row in reader:\n",
    "        print(row)"
   ],
   "outputs": [],
   "execution_count": null
  },
  {
   "cell_type": "markdown",
   "metadata": {
    "id": "nEbsKHyBGpx_"
   },
   "source": [
    "Con la función `open()` hemos accedido al archivo, al cuál hemos identificado por `f`. A continuación, hemos usado el método `.reader()` para leer el archivo `f`. Dicho método nos ha devuelto el iterable `reader`, del cuál hemos mostrado todas sus filas iterando con un bucle `for`. "
   ]
  },
  {
   "cell_type": "markdown",
   "metadata": {
    "id": "1upIrAGoNSBS"
   },
   "source": [
    "### Cambiando el separador\n",
    "\n",
    "Por defecto, los archivos `csv` tienen como delimitador la coma `,`. No obstante, algunos archivos `csv` usan otros delimitadores. Las alternativas más populares a la coma suelen ser `|` o `\\t`.\n",
    "\n",
    "Observemos el archivo `csv_delimiter_example.csv`, donde esta vez sus elementos están separados por tabuladores, `\\t`.\n",
    "\n",
    "El método `.reader()` nos permite configurar dicho separador con el parámetro `delimiter`."
   ]
  },
  {
   "cell_type": "code",
   "metadata": {
    "colab": {
     "base_uri": "https://localhost:8080/"
    },
    "id": "-81xMYHDHBUy",
    "outputId": "66fdce81-c56b-4cdd-ff4b-20ce51f52332"
   },
   "source": [
    "with open(\"./csv_delimiter_example.csv\", \"r\") as f:\n",
    "    reader = csv.reader(f, delimiter = \"|\")\n",
    "    for row in reader:\n",
    "        print(row)"
   ],
   "outputs": [],
   "execution_count": null
  },
  {
   "cell_type": "markdown",
   "metadata": {
    "id": "HLQbsecfgbk-"
   },
   "source": [
    "### Eliminando espacios adicionales\n",
    "\n",
    "A veces puede ocurrir que algunos `csv` tengan un espacio en blanco tras el delimitador, cosa que se ve reflejado al leer los datos.\n",
    "\n",
    "Para eliminar estos espacios en blanco adicionales, el método `.reader()` trae el parámetro `skipinitialspace`. Si lo igualamos a `True`, los espacios adicionales desaparecerán.\n",
    "\n",
    "Observemos que el archivo `csv_spaces_example.csv` tiene espacios en blanco adicionales tras el separador, que es la coma. Veamos la diferencia entre igualar el parámetro `skipinitialspace` a `True` o a `False`."
   ]
  },
  {
   "cell_type": "code",
   "metadata": {
    "colab": {
     "base_uri": "https://localhost:8080/"
    },
    "id": "T5yOgbYqgyjq",
    "outputId": "5bf5e25a-3611-47e8-a903-afb41a0366b6"
   },
   "source": [
    "# skipinitialspace = False (valor por defecto)\n",
    "with open(\"./csv_spaces_example.csv\", \"r\") as f:\n",
    "    reader = csv.reader(f, skipinitialspace = False)\n",
    "    for row in reader:\n",
    "        print(row)"
   ],
   "outputs": [],
   "execution_count": null
  },
  {
   "cell_type": "markdown",
   "metadata": {
    "id": "j410VTOpGNAy"
   },
   "source": [
    "**Observación.** Salvo la primera entrada de cada fila, todas tienen un espacio inicial adicional."
   ]
  },
  {
   "cell_type": "code",
   "metadata": {
    "colab": {
     "base_uri": "https://localhost:8080/"
    },
    "id": "fc4u7f2gGAAk",
    "outputId": "8197ac1c-6c21-478e-927a-e14b532d4933"
   },
   "source": [
    "# skipinitialspace = True\n",
    "with open(\"./csv_spaces_example.csv\", \"r\") as f:\n",
    "    reader = csv.reader(f, skipinitialspace = True)\n",
    "    for row in reader:\n",
    "        print(row)"
   ],
   "outputs": [],
   "execution_count": null
  },
  {
   "cell_type": "markdown",
   "metadata": {
    "id": "rWZoFO3rg_vY"
   },
   "source": [
    "### Comillas en las entradas\n",
    "\n",
    "Algunos archivos `csv` puede que tengan entradas entre comillas. Si no indicamos nada, por defecto aparecerán las comillas en las entradas tras haber leído el fichero.\n",
    "\n",
    "Si en cambio queremos deshacernos de ellas, disponemos del parámetro `quoting`, que admite diferentes valores:\n",
    "\n",
    "* `csv.QUOTE_ALL`: indica al objeto `reader` que todos los valores en el archivo `csv` están entre comillas\n",
    "* `csv.QUOTE_MINIMAL`: indica al objeto `reader` que los valores en el archivo `csv` que están entre comillas son entradas que contienen caracteres como el delimitador, comillas o cualquier caracter de terminación de línea\n",
    "* `csv.QUOTE_NONNUMERIC`: indica al objeto `reader` que los valores en el archivo `csv` que están entre comillas son entradas que contienen entradas no-numéricas\n",
    "* `csv.QUOTE_NONE`: indica al objeto `reader` que ninguno los valores en el archivo `csv` están entre comillas\n",
    "\n",
    "Observemos el archivo `csv_quotation_example.csv`, donde las observaciones entre comillas son aquellas que no tienen valores numéricos. En este caso, nos convendría usar la opción `csv.QUOTE_NONNUMERIC`"
   ]
  },
  {
   "cell_type": "code",
   "metadata": {
    "colab": {
     "base_uri": "https://localhost:8080/"
    },
    "id": "bewS5DP6BTPd",
    "outputId": "3d2e75dc-903d-4ebb-e465-35ddc475b56b"
   },
   "source": [
    "with open(\"./csv_quotation_example.csv\", \"r\") as f:\n",
    "    reader = csv.reader(f, quoting = csv.QUOTE_NONNUMERIC)\n",
    "    for row in reader:\n",
    "        print(row)"
   ],
   "outputs": [],
   "execution_count": null
  },
  {
   "cell_type": "markdown",
   "metadata": {
    "id": "GJtlP5ntHO5N"
   },
   "source": [
    "**Observación.** Las entradas numéricas han dejado de ser leídas como strings y han pasado a ser consideradas entradas de tipo `float`.\n",
    "\n",
    "Si en cambio hubiésemos usado la opción `csv.QUOTATE_ALL`, no hubiésemos obtenido ningún error, pero las entradas numéricas habrían sido tratadas como `string`."
   ]
  },
  {
   "cell_type": "code",
   "metadata": {
    "colab": {
     "base_uri": "https://localhost:8080/"
    },
    "id": "yBhgfqv0HHdZ",
    "outputId": "616b1cd2-0669-45cb-b3fa-cfedc06cefd0"
   },
   "source": [
    "with open(\"./csv_quotation_example.csv\", \"r\") as f:\n",
    "    reader = csv.reader(f, quoting = csv.QUOTE_ALL)\n",
    "    for row in reader:\n",
    "        print(row)"
   ],
   "outputs": [],
   "execution_count": null
  },
  {
   "cell_type": "markdown",
   "metadata": {
    "id": "2_Oi8GfUHqW2"
   },
   "source": [
    "### Dialectos\n",
    "\n",
    "Hasta ahora solamente hemos usado uno de los parámetros cada vez, pero podría darse el caso de que tuviésemos un csv con un delimitador distinto a la coma, con espacios adicionales y entradas entrecomilladas a causa de contener delimitadores o finales de línea.\n",
    "\n",
    "Una opción sería indicar todos los parámetros a la función, pero existe una alternativa que nos será muy útil en caso de no estar tratando con un solo archivo `csv` sino con múltiples con formatos similares. Es el caso de los dialectos.\n",
    "\n",
    "Los dialectos ayudan a agrupar patrones de formato específicos como el delimitador, las comillas, los espacios adicionales tras los delimitadores...\n",
    "\n",
    "En caso de querer usar nuestro dialecto personalizado, `.reader()` nos ofrece el parámetros `dialect` al cual podemos pasarle dicho dialecto.\n",
    "\n",
    "Consideremos el archivo `csv_dialect_example.csv`, el cual tiene el delimitador `|`, espacios adicionales y todos sus valores no numéricos entrecomillados.\n",
    "\n",
    "En vez de indicar todos esos parámetros al método `.reader()`, vamos a crear nuestro dialecto, `my_dialect`, con el método `.register_dialect()` y se lo vamos a pasar al parámetro `dialect` de `.reader()` "
   ]
  },
  {
   "cell_type": "code",
   "metadata": {
    "colab": {
     "base_uri": "https://localhost:8080/"
    },
    "id": "RanrowD-HmnL",
    "outputId": "23b89b7f-3aee-46ac-f1ea-55424e3421fe"
   },
   "source": [
    "csv.register_dialect(\"my_dialect\",\n",
    "                     delimiter = \"|\",\n",
    "                     skipinitialspace = True,\n",
    "                     quoting = csv.QUOTE_NONNUMERIC)\n",
    "\n",
    "with open(\"./csv_dialect_example.csv\", \"r\") as f:\n",
    "    reader = csv.reader(f, dialect = \"my_dialect\")\n",
    "    for row in reader:\n",
    "        print(row)"
   ],
   "outputs": [],
   "execution_count": null
  },
  {
   "cell_type": "markdown",
   "metadata": {
    "id": "-ITRLGReN7LU"
   },
   "source": [
    "Al método `.register_dialect()` en primer lugar le hemos dado un nombre en formato `string` y luego hemos configurado los parámetros `delimiter`, `skipinitialspace` y `quoting`. \n",
    "\n",
    "A continuación, al método `.reader()` le hemos pasado el nombre del dialecto, `my_dialect`, al parámetro `dialect` y se ha leído el archivo correctamente.\n",
    "\n",
    "Una vez creado el dialecto personalizado, podemos usarlo tantas veces como queramos para abrir y leer archivos `csv` con el mismo formato, en este caso, que `csv_dialect_example.csv`."
   ]
  },
  {
   "cell_type": "markdown",
   "metadata": {
    "id": "Owht-USeQFEe"
   },
   "source": [
    "### Diccionarios y `csv`\n",
    "\n",
    "En este caso vamos a trabajar de nuevo con el archivo `csv_example.csv`. \n",
    "\n",
    "Para leerlo, usaremos el método `.DictReader()` del módulo `csv`, lo que nos devolverá un objeto `OrderedDict`, que es iterable."
   ]
  },
  {
   "cell_type": "code",
   "metadata": {
    "colab": {
     "base_uri": "https://localhost:8080/"
    },
    "id": "xLdaWuOhN6zV",
    "outputId": "2772f64d-2e0d-4069-b8a7-32802a8a8356"
   },
   "source": [
    "with open(\"./csv_example.csv\", \"r\") as f:\n",
    "    reader = csv.DictReader(f)\n",
    "    for row in reader:\n",
    "        print(row)"
   ],
   "outputs": [],
   "execution_count": null
  },
  {
   "cell_type": "markdown",
   "metadata": {
    "id": "-s9I1zbXSmp3"
   },
   "source": [
    "**Observación.** Podríamos usar la función `dict()` dentro del `print()` para mostrar los objetos `OrderedDict` como diccionarios."
   ]
  },
  {
   "cell_type": "code",
   "metadata": {
    "colab": {
     "base_uri": "https://localhost:8080/"
    },
    "id": "a81P4VF8SmJd",
    "outputId": "a7749559-ed99-4fd1-eaad-49f2562dbea9"
   },
   "source": [
    "with open(\"./csv_example.csv\", \"r\") as f:\n",
    "    reader = csv.DictReader(f)\n",
    "    for row in reader:\n",
    "        print(dict(row))"
   ],
   "outputs": [],
   "execution_count": null
  },
  {
   "cell_type": "markdown",
   "metadata": {
    "id": "pojdRtgeS3W5"
   },
   "source": [
    "**Observación.** Si se usa una versión de `Python` 3.8 o superior, podría ser que no fuera necesario usar la función `dict()` pues el resultado de `.DictReader()` ya sería un diccionario."
   ]
  },
  {
   "cell_type": "markdown",
   "metadata": {
    "id": "nxCMVMr5Tu2n"
   },
   "source": [
    "## Escribiendo `csv`\n",
    "\n",
    "Para crear y escribir un `csv` usamos la función `open()` junto al método `csv.writer()`:"
   ]
  },
  {
   "cell_type": "code",
   "metadata": {
    "id": "W1itYXPiT9Ya"
   },
   "source": [
    "data = [[\"id\", \"Name\", \"City\", \"Age\"], \n",
    "        [1234, \"Arturo\", \"Madrid\", 22], \n",
    "        [2345, \"Beatriz\", \"Barcelona\", 25],\n",
    "        [3456, \"Carlos\", \"Sevilla\", 18], \n",
    "        [4567, \"Dolores\", \"Cuenca\", 34]]\n",
    "\n",
    "with open(\"./csv_write.csv\", \"w\") as f:\n",
    "  writer = csv.writer(f)\n",
    "  for row in data:\n",
    "    writer.writerow(row)\n"
   ],
   "outputs": [],
   "execution_count": null
  },
  {
   "cell_type": "markdown",
   "metadata": {
    "id": "ZOZcgLyJU6Ie"
   },
   "source": [
    "Si ahora vamos a la carpeta datasets, observaremos que ha aparecido un nuevo archivo llamado `csv_write.csv` el cual contiene como valores las entradas de la lista `data`, donde cada sublista corresponde a una fila del `csv` gracias al bucle `for` y al método `.writerow()`.\n",
    "\n",
    "Podríamos haber obtenido exactamente el mismo resultado sin haber usado un bucle, lo que para ello tendríamos que haber hecho uso del método `.writerows()`."
   ]
  },
  {
   "cell_type": "code",
   "metadata": {
    "id": "8cYxIh48Ux8n"
   },
   "source": [
    "with open(\"./csv_write_writerows.csv\", \"w\") as f:\n",
    "  writer = csv.writer(f)\n",
    "  writer.writerows(data)"
   ],
   "outputs": [],
   "execution_count": null
  },
  {
   "cell_type": "markdown",
   "metadata": {
    "id": "6XN12BkKVml3"
   },
   "source": [
    "Si ahora vamos a la carpeta datasets, observaremos que ha aparecido un nuevo archivo llamado `csv_write_writerows.csv` el cual contiene como valores las entradas de la lista `data`, donde cada sublista corresponde a una fila del `csv` gracias al método `.writerows()`."
   ]
  },
  {
   "cell_type": "markdown",
   "metadata": {
    "id": "v_F0HT-KWEF5"
   },
   "source": [
    "### Diccionarios y csv\n",
    "\n",
    "También podemos escribir un `csv` a partir de un diccionario. Para ello tendremos que usar el método `.DictWriter()`."
   ]
  },
  {
   "cell_type": "code",
   "metadata": {
    "id": "kf8Wh4e5VkoI"
   },
   "source": [
    "data = [{\"id\": 1234, \"Name\": \"Arturo\", \"City\": \"Madrid\", \"Age\": 22},\n",
    "        {\"id\": 2345, \"Name\": \"Beatriz\", \"City\": \"Barcelona\", \"Age\": 25},\n",
    "        {\"id\": 3456, \"Name\": \"Carlos\", \"City\": \"Sevilla\", \"Age\": 18},\n",
    "        {\"id\": 4567, \"Name\": \"Dolores\", \"City\": \"Cuenca\", \"Age\": 34}]\n",
    "\n",
    "# La cabecera es la lista de las keys de cualquiera de las entradas de data\n",
    "header = list(data[0].keys())"
   ],
   "outputs": [],
   "execution_count": null
  },
  {
   "cell_type": "code",
   "metadata": {
    "id": "57dv5P9EYinH"
   },
   "source": [
    "with open(\"./csv_write_dict.csv\", \"w\") as f:\n",
    "  writer = csv.DictWriter(f, fieldnames = header)\n",
    "  \n",
    "  writer.writeheader()\n",
    "  for d in data:\n",
    "    writer.writerow(d)"
   ],
   "outputs": [],
   "execution_count": null
  },
  {
   "cell_type": "markdown",
   "metadata": {
    "id": "DIgGBa8AXtcP"
   },
   "source": [
    "En este caso, los datos están guardado en una lista de diccionarios llamada `data`. A continuación guardamos la cabecera en la variable `header` como una lista de los nombres de las variables.\n",
    "\n",
    "Abrimos (y creamos) el archivo `csv_write_dict.csv` y creamos el objeto `writer` con el método `.DictWriter()` al cual le pasamos la cabecera `header` mediante el parámetro `fieldnames`.\n",
    "\n",
    "Finalmente, escribimos en primer lugar la cabecera con el método `.writeheader()` y luego, con la ayuda de un bucle `for`, cada observación, correspondiente a cada uno de los diccionarios de la lista `data`, en una fila diferente con el método `.writerow()`.\n",
    "\n",
    "Podríamos haber obtenido el mismo resultado sin usar ningún bucle, pero haciendo uso del método `.writerows()`f="
   ]
  },
  {
   "cell_type": "code",
   "metadata": {
    "id": "5kZkK50pW8lM"
   },
   "source": [
    "with open(\"./csv_write_dict_writerows.csv\", \"w\") as f:\n",
    "  writer = csv.DictWriter(f, fieldnames = header)\n",
    "  \n",
    "  writer.writeheader()\n",
    "  writer.writerows(data)"
   ],
   "outputs": [],
   "execution_count": null
  },
  {
   "cell_type": "markdown",
   "metadata": {
    "id": "ai7lAW71YqRJ"
   },
   "source": [
    "Observamos que efectivamente tanto el archivo `csv_write_dict.csv` como `csv_write_dict_writerows.csv` son idénticos."
   ]
  },
  {
   "cell_type": "markdown",
   "metadata": {},
   "source": [
    "# Tratamiento de fechas en Python\n"
   ]
  },
  {
   "cell_type": "markdown",
   "metadata": {},
   "source": [
    "## Tiempo con `datetime`\n",
    "\n",
    "Una fecha en `Python` no es un tipo de dato por si mismo, pero podemos trabajar con estos objetos tan peculiares con el módulo `datetime`"
   ]
  },
  {
   "cell_type": "code",
   "metadata": {},
   "source": [
    "import datetime as dt"
   ],
   "outputs": [],
   "execution_count": null
  },
  {
   "cell_type": "code",
   "metadata": {},
   "source": [],
   "outputs": [],
   "execution_count": null
  },
  {
   "cell_type": "markdown",
   "metadata": {
    "id": "A8L1zpPLyh7H"
   },
   "source": [
    "Para obtener la fecha y hora actual, podemos usar el método `.datetime.now()`"
   ]
  },
  {
   "cell_type": "code",
   "metadata": {
    "colab": {
     "base_uri": "https://localhost:8080/"
    },
    "id": "Fp8j0AWwyokh",
    "outputId": "feabae45-c0b7-4901-ccd9-bd672ecefeeb"
   },
   "source": [
    "today = dt.datetime.now()\n",
    "print(today)"
   ],
   "outputs": [],
   "execution_count": null
  },
  {
   "cell_type": "code",
   "metadata": {
    "colab": {
     "base_uri": "https://localhost:8080/"
    },
    "id": "Rflah-J1QMfC",
    "outputId": "979230b3-6a63-410a-cf58-1429d5b2d0ff"
   },
   "source": [
    "type(today)"
   ],
   "outputs": [],
   "execution_count": null
  },
  {
   "cell_type": "markdown",
   "metadata": {
    "id": "cDRbJUr__EXE"
   },
   "source": [
    "**Observación.** Dentro del módulo `datetime`, existe la clase `datetime`. Para evitar confusiones hemos renombrado al módulo `datetime` por `dt`"
   ]
  },
  {
   "cell_type": "markdown",
   "metadata": {
    "id": "VBVgL5rXy0Dv"
   },
   "source": [
    "En el resultado anterior vemos que se nos muestra el año, mes, día, hora, minuto, segundo e incluso microsegundo.\n",
    "\n",
    "Podemos acceder a toda esa información con los atributos\n",
    "\n",
    "* `.year`: año\n",
    "* `.month`: mes\n",
    "* `.day`: día\n",
    "* `.hour`: hora\n",
    "* `.minute`: minuto\n",
    "* `.second`: segundo\n"
   ]
  },
  {
   "cell_type": "code",
   "metadata": {
    "colab": {
     "base_uri": "https://localhost:8080/"
    },
    "id": "Xi-scNbzzuHE",
    "outputId": "51a925b5-6275-44d1-ee0f-0d71dde274d1"
   },
   "source": [
    "print(\"Año:\", today.year)\n",
    "print(\"Mes:\", today.month)\n",
    "print(\"Día:\", today.day)\n",
    "print(\"Hora:\", today.hour)\n",
    "print(\"Minuto:\", today.minute)\n",
    "print(\"Segundo:\", today.second)\n",
    "print(\"Microsegundo:\", today.microsecond)"
   ],
   "outputs": [],
   "execution_count": null
  },
  {
   "cell_type": "markdown",
   "metadata": {
    "id": "tRM8ssW20Ri3"
   },
   "source": [
    "### Creando objetos `datetime`\n",
    "\n",
    "Para crear objetos `datetime` podemos usar el método `.datetime()`. \n",
    "\n",
    "Este método toma como parámetros el año (`year`), mes (`month`), día (`day`), hora (`hour`), minuto (`minute`), segundo (`second`) y microsegundo (`microsecond`). Los 3 primeros, relacionados con la fecha, son parámetros obligatorios. Los parámetros restantes, los relacionados con el tiempo, son opcionales."
   ]
  },
  {
   "cell_type": "code",
   "metadata": {
    "colab": {
     "base_uri": "https://localhost:8080/"
    },
    "id": "YkxRIACo0j8C",
    "outputId": "d30be2dc-4d96-4f59-d2b1-fe57bd986e66"
   },
   "source": [
    "d = dt.datetime(2020, 9, 22, 12, 30)\n",
    "print(d)"
   ],
   "outputs": [],
   "execution_count": null
  },
  {
   "cell_type": "markdown",
   "metadata": {
    "id": "x4W4kbJE08lk"
   },
   "source": [
    "**Observación.** El método `.datetime()` toma un parámetro adicional, `tzinfo`, que también es opcional. A este parámetro se le suministra la zona horaria. Por defecto toma el valor `None`."
   ]
  },
  {
   "cell_type": "markdown",
   "metadata": {
    "id": "ueMgcpd43Rrl"
   },
   "source": [
    "### Formato\n",
    "\n",
    "El módulo `datetime` ofrece el método `.strftime()` para cambiar el formato en que mostramos la fecha y hora. En el parámetro `format` de este método podemos indicar alguna de las siguientes opciones\n",
    "\n",
    "| Código | Descripción |\n",
    "| :---: | :--- |\n",
    "| `%Y` | Año, versión completa |\n",
    "| `%y` | Año, versión abreviada (sin siglo) |\n",
    "| `%B` | Mes, versión completa (idioma inglés) |\n",
    "| `%b` | Mes, versión abreviada (idioma inglés) |\n",
    "| `%m` | Mes, versión numérica |\n",
    "| `%d` | Día del mes |\n",
    "| `%j` | Día del año, 001-366 |\n",
    "| `%A` | Día de la semana, versión completa (idioma inglés) |\n",
    "| `%a` | Día de la semana, versión abreviada (idioma inglés)|\n",
    "| `%w` | Día de la semana, versión numérica (0 = Domingo, 1 = Lunes, ..., 6 = Sábado) |\n",
    "| `%W` | Semana del año, con lunes como primer día |\n",
    "| `%U` | Semana del año, con domingo como primer día |\n",
    "| `%H` | Hora, 00-23 |\n",
    "| `%I` | Hora, 00-12 |\n",
    "| `%p` | AM / PM |\n",
    "| `%M` | Minuto, 00-59 |\n",
    "| `%S` | Segundo, 00-59 |\n",
    "| `%f` | Microsegundo, 000000-999999 |\n",
    "| `%Z` | Zona horaria |\n",
    "| `%z` | Offset de UTC |\n",
    "| `%c` | Versión local de fecha y hora |\n",
    "| `%x` | Versión local de fecha |\n",
    "| `%X` | Versión local de hora |\n",
    "| `%%` | Caracter `%` |\n",
    "| `%G` | Año ISO 8601 |\n",
    "| `%u` | Día de la semana ISO 8601 |\n",
    "| `%V` | Semana del año ISO 8601 |\n",
    "\n"
   ]
  },
  {
   "cell_type": "markdown",
   "metadata": {
    "id": "8OWnJ8_fCErL"
   },
   "source": [
    "**Observación.** Cuando decimos offset de UTC, nos referimos a la cantidad de horas a las que se encuentra la zona horaria del Tiempo Universal Coordinado (UTC)"
   ]
  },
  {
   "cell_type": "code",
   "metadata": {
    "id": "uvyx-P2r-Uul"
   },
   "source": [
    "d = dt.datetime(2020, 9, 22, 12, 30)"
   ],
   "outputs": [],
   "execution_count": null
  },
  {
   "cell_type": "code",
   "metadata": {
    "colab": {
     "base_uri": "https://localhost:8080/"
    },
    "id": "TECrBldK_eok",
    "outputId": "ef49c94d-945d-4f03-8a05-7c7e318f0599"
   },
   "source": [
    "print(d.strftime(\"%B %d, %Y\"))"
   ],
   "outputs": [],
   "execution_count": null
  },
  {
   "cell_type": "code",
   "metadata": {
    "colab": {
     "base_uri": "https://localhost:8080/"
    },
    "id": "Is4aOskI_lG_",
    "outputId": "e71264b8-0708-46bc-dfda-80653439f00c"
   },
   "source": [
    "print(d.strftime(\"%d/%m/%Y\"))"
   ],
   "outputs": [],
   "execution_count": null
  },
  {
   "cell_type": "code",
   "metadata": {
    "colab": {
     "base_uri": "https://localhost:8080/"
    },
    "id": "W0siMNI5_sds",
    "outputId": "ac91de2e-13fb-40c4-f477-213eb63286e2"
   },
   "source": [
    "print(d.strftime(\"%d %b %y\"))"
   ],
   "outputs": [],
   "execution_count": null
  },
  {
   "cell_type": "code",
   "metadata": {
    "colab": {
     "base_uri": "https://localhost:8080/"
    },
    "id": "2NFTGmZz_w-g",
    "outputId": "c9ddd6f2-ebe3-4cfb-c2fc-85250f9b6159"
   },
   "source": [
    "print(d.strftime(\"%d-%m-%Y %H:%M:%S\"))"
   ],
   "outputs": [],
   "execution_count": null
  },
  {
   "cell_type": "code",
   "metadata": {
    "colab": {
     "base_uri": "https://localhost:8080/"
    },
    "id": "kgN-bJBT_cUX",
    "outputId": "4afcee0f-ffc7-49b9-d122-06e2c0358b0a"
   },
   "source": [
    "print(d.strftime(\"%d %b %Y, %I:%M%p\"))"
   ],
   "outputs": [],
   "execution_count": null
  },
  {
   "cell_type": "markdown",
   "metadata": {
    "id": "m2yzepSO_-ki"
   },
   "source": [
    "Al hablar de formato de fechas, es importante estar familiarizados con el concepto ISO 8601, presente en la tabla anterior. Se trata de un estándar internacional para la representación de fechas y horas.\n",
    "\n",
    "`Python` consta de un método que genera rápidamente una fecha formateada con ISO 8601: el método `.isoformat()`"
   ]
  },
  {
   "cell_type": "code",
   "metadata": {
    "colab": {
     "base_uri": "https://localhost:8080/",
     "height": 35
    },
    "id": "gxys-PrvASzl",
    "outputId": "b9efecef-e42b-4c9c-de0c-105e16f59683"
   },
   "source": [
    "d.isoformat()"
   ],
   "outputs": [],
   "execution_count": null
  },
  {
   "cell_type": "markdown",
   "metadata": {
    "id": "0tDlGwoWAi1G"
   },
   "source": [
    "Es hora de hablar del método opuesto a `.strftime()`. Se trata del método `.strptime()`, que nos permite crear un objeto `datetime` a partir de un string. No obstante, como el string puede tener cualquier formato, habrá que indicarle por parámetro a `.strptime()` cuál estamos usando."
   ]
  },
  {
   "cell_type": "code",
   "metadata": {
    "colab": {
     "base_uri": "https://localhost:8080/"
    },
    "id": "En0lH69-A4SF",
    "outputId": "7e44d117-598d-4ad1-f7d2-1444335d49cb"
   },
   "source": [
    "dt.datetime.strptime(\"September 22, 2020\", \"%B %d, %Y\")"
   ],
   "outputs": [],
   "execution_count": null
  },
  {
   "cell_type": "code",
   "metadata": {
    "colab": {
     "base_uri": "https://localhost:8080/"
    },
    "id": "AZK-PSI2BAvk",
    "outputId": "30dc65ab-0046-414f-fccb-0ee7a66a8bdd"
   },
   "source": [
    "dt.datetime.strptime(\"22/09/2020\", \"%d/%m/%Y\")"
   ],
   "outputs": [],
   "execution_count": null
  },
  {
   "cell_type": "code",
   "metadata": {
    "colab": {
     "base_uri": "https://localhost:8080/"
    },
    "id": "AS41eRhNBA-5",
    "outputId": "97922d71-936e-4b5c-b261-d10a8a606084"
   },
   "source": [
    "dt.datetime.strptime(\"22 Sep 20\", \"%d %b %y\")"
   ],
   "outputs": [],
   "execution_count": null
  },
  {
   "cell_type": "code",
   "metadata": {
    "colab": {
     "base_uri": "https://localhost:8080/"
    },
    "id": "v3JxfoJ7BBMt",
    "outputId": "ab1eb40d-4e22-4f1e-e041-8b54a5d65ded"
   },
   "source": [
    "dt.datetime.strptime(\"22-09-2020 12:30:00\", \"%d-%m-%Y %H:%M:%S\")"
   ],
   "outputs": [],
   "execution_count": null
  },
  {
   "cell_type": "code",
   "metadata": {
    "colab": {
     "base_uri": "https://localhost:8080/"
    },
    "id": "la-sMiIbBBZr",
    "outputId": "0c203817-d157-4ad2-f5b2-4c5dd6445144"
   },
   "source": [
    "dt.datetime.strptime(\"22 Sep 2020, 12:30PM\", \"%d %b %Y, %I:%M%p\")"
   ],
   "outputs": [],
   "execution_count": null
  },
  {
   "cell_type": "markdown",
   "metadata": {
    "id": "z4fxkh7wBctw"
   },
   "source": [
    "**¡Cuidado!** El patrón debe coincidir a la perfección. Eso incluye las comas, los : y los espacios en blanco."
   ]
  },
  {
   "cell_type": "markdown",
   "metadata": {
    "id": "rD2UCx0zBoL6"
   },
   "source": [
    "### Zonas horarias\n",
    "\n",
    "Las [zonas horarias](https://www.timeanddate.com/time/map/) son un poco más complejas que lo que hemos visto hasta el momento sobre objetos `datetime`.\n",
    "\n",
    "Por defecto ya hemos visto que un objeto `datetime` no contiene información acerca de la zona horaria."
   ]
  },
  {
   "cell_type": "code",
   "metadata": {
    "colab": {
     "base_uri": "https://localhost:8080/"
    },
    "id": "Av6ItOdjCpNe",
    "outputId": "1f96ace4-d54e-4fc5-e953-3a3721f3bb88"
   },
   "source": [
    "print(today)"
   ],
   "outputs": [],
   "execution_count": null
  },
  {
   "cell_type": "markdown",
   "metadata": {
    "id": "cjLqRtvSCvP7"
   },
   "source": [
    "Para acceder específicamente a la información sobre la zona horaria de un objeto `datetime` podemos hacer uso del atributo `.tzinfo`"
   ]
  },
  {
   "cell_type": "code",
   "metadata": {
    "colab": {
     "base_uri": "https://localhost:8080/"
    },
    "id": "xLSbb7_aCtwH",
    "outputId": "58227dde-d9fe-4b37-854b-d40fafb6c158"
   },
   "source": [
    "print(today.tzinfo)"
   ],
   "outputs": [],
   "execution_count": null
  },
  {
   "cell_type": "markdown",
   "metadata": {
    "id": "aMKrMzQUC7Cb"
   },
   "source": [
    "Para indicarle a un objeto `datetime` la zona horaria o el offset de UTC, podemos hacer uso del módulo `pytz`."
   ]
  },
  {
   "cell_type": "code",
   "metadata": {
    "id": "hy3aIjE7F8hN"
   },
   "source": [
    "import pytz"
   ],
   "outputs": [],
   "execution_count": null
  },
  {
   "cell_type": "markdown",
   "metadata": {
    "id": "A7tHnQP-EXXP"
   },
   "source": [
    "Podemos obtener todas las zonas horarias con el atributo `.all_timezones`"
   ]
  },
  {
   "cell_type": "code",
   "metadata": {
    "colab": {
     "base_uri": "https://localhost:8080/"
    },
    "id": "7NIjwi85DD4Z",
    "outputId": "94a9266b-a8ab-4715-a83e-d607ab56c42d"
   },
   "source": [
    "pytz.all_timezones"
   ],
   "outputs": [],
   "execution_count": null
  },
  {
   "cell_type": "markdown",
   "metadata": {
    "id": "pdCRZm6uJdp1"
   },
   "source": [
    "El módulo `pytz` también tiene el atributo `.country_names`, que se trata de un diccionario que por claves tiene un código de 2 letras (Código ISO Alpha-2) de los paises disponibles, cuyo valor es el nombre completo."
   ]
  },
  {
   "cell_type": "code",
   "metadata": {
    "colab": {
     "base_uri": "https://localhost:8080/"
    },
    "id": "n-uiCZ-BJEjS",
    "outputId": "c2065801-e84f-4380-ca40-b69b71b0ca96"
   },
   "source": [
    "for key, value in pytz.country_names.items():\n",
    "  print(key, \"=\", value)"
   ],
   "outputs": [],
   "execution_count": null
  },
  {
   "cell_type": "markdown",
   "metadata": {
    "id": "iyvjKCDzKwp5"
   },
   "source": [
    "Por ejemplo, España se corresponde con el par de letras ES:"
   ]
  },
  {
   "cell_type": "code",
   "metadata": {
    "colab": {
     "base_uri": "https://localhost:8080/",
     "height": 35
    },
    "id": "Y8kNdfIeKzjb",
    "outputId": "5b5f348e-68f1-4520-a960-f6c926c8cf14"
   },
   "source": [
    "pytz.country_names[\"ES\"]"
   ],
   "outputs": [],
   "execution_count": null
  },
  {
   "cell_type": "markdown",
   "metadata": {
    "id": "LsTX7pukJ9gt"
   },
   "source": [
    "Luego también está el atributo `.country_timezones` que también es un diccionario que por clave tiene los países en código ISO Alpha-2 y por valor las zonas horarias para cada país clave."
   ]
  },
  {
   "cell_type": "code",
   "metadata": {
    "colab": {
     "base_uri": "https://localhost:8080/"
    },
    "id": "8w4MPyXaKNbI",
    "outputId": "dbaaa34b-c772-42f0-fa97-775a31b93f4f"
   },
   "source": [
    "for key, value in pytz.country_timezones.items():\n",
    "  print(key, \"=\", value)"
   ],
   "outputs": [],
   "execution_count": null
  },
  {
   "cell_type": "markdown",
   "metadata": {
    "id": "Q1bmfwJdKizZ"
   },
   "source": [
    "Por ejemplo, las zonas horarias disponibles para España (ES) son:"
   ]
  },
  {
   "cell_type": "code",
   "metadata": {
    "colab": {
     "base_uri": "https://localhost:8080/"
    },
    "id": "6ZDAhANlKh3Q",
    "outputId": "726d7053-0325-4241-b404-8896f2b9c3eb"
   },
   "source": [
    "print(pytz.country_timezones[\"ES\"])"
   ],
   "outputs": [],
   "execution_count": null
  },
  {
   "cell_type": "markdown",
   "metadata": {
    "id": "dhR03XIjPfP3"
   },
   "source": [
    "Para indicarle a un objeto `datetime` una zona horaria, usamos el método `.localize`"
   ]
  },
  {
   "cell_type": "code",
   "metadata": {
    "colab": {
     "base_uri": "https://localhost:8080/",
     "height": 35
    },
    "id": "IjPrXTuKPklw",
    "outputId": "4b913eaa-7f85-4b14-adac-219129854564"
   },
   "source": [
    "d_without_tz = dt.datetime(2020, 9, 22, 12, 30)\n",
    "tz_madrid = pytz.timezone(\"Europe/Madrid\")\n",
    "d_with_tz = tz_madrid.localize(d_without_tz)\n",
    "d_with_tz.strftime(\"%Z\")"
   ],
   "outputs": [],
   "execution_count": null
  },
  {
   "cell_type": "code",
   "metadata": {
    "colab": {
     "base_uri": "https://localhost:8080/",
     "height": 35
    },
    "id": "Cg46YrZSQCNo",
    "outputId": "78ee9212-0817-4393-f211-4e87edbbbebf"
   },
   "source": [
    "d_without_tz = dt.datetime(2020, 9, 22, 12, 30)\n",
    "tz_nyc = pytz.timezone(\"America/New_York\")\n",
    "d_with_tz = tz_nyc.localize(d_without_tz)\n",
    "d_with_tz.strftime(\"%Z\")"
   ],
   "outputs": [],
   "execution_count": null
  },
  {
   "cell_type": "markdown",
   "metadata": {
    "id": "TZGwfpaVRR1Z"
   },
   "source": [
    "### Series temporales con `matplotlib`"
   ]
  },
  {
   "cell_type": "markdown",
   "metadata": {
    "id": "nNiCRmKyRVOn"
   },
   "source": [
    "Ahora que ya sabemos como manipular las fechas, podemos hablar de cómo representar datos en función del tiempo.\n",
    "\n",
    "Para representar series temporales con `matplotlib.pyplot`, usamos el método [`.plot_date()`](https://matplotlib.org/3.1.1/api/_as_gen/matplotlib.pyplot.plot_date.html)"
   ]
  },
  {
   "cell_type": "code",
   "metadata": {
    "id": "WSj3bI1rS3AM"
   },
   "source": [
    "dates = [\"1/9/2020\", \"2/9/2020\", \"3/9/2020\", \"4/9/2020\", \"5/9/2020\",\n",
    "         \"6/9/2020\", \"7/9/2020\", \"8/9/2020\", \"9/9/2020\", \"10/9/2020\",\n",
    "         \"11/9/2020\", \"12/9/2020\", \"13/9/2020\", \"14/9/2020\", \"15/9/2020\",\n",
    "         \"16/9/2020\", \"17/9/2020\", \"18/9/2020\", \"19/9/2020\", \"20/9/2020\",\n",
    "         \"21/9/2020\", \"22/9/2020\", \"23/9/2020\", \"24/9/2020\", \"25/9/2020\",\n",
    "         \"26/9/2020\", \"27/9/2020\", \"28/9/2020\", \"29/9/2020\", \"30/9/2020\"]\n",
    "\n",
    "x = [dt.datetime.strptime(d, \"%d/%m/%Y\").date() for d in dates]\n",
    "y = np.random.randint(10000, 20000, len(x))"
   ],
   "outputs": [],
   "execution_count": null
  },
  {
   "cell_type": "code",
   "metadata": {
    "colab": {
     "base_uri": "https://localhost:8080/",
     "height": 343
    },
    "id": "cfQVXIWoT8J_",
    "outputId": "46432258-0cad-44d3-84c3-20f22be2de08"
   },
   "source": [
    "plt.title(\"Total Ventas en Septiembre 2020\")\n",
    "plt.xlabel(\"Día del mes\")\n",
    "plt.xticks(rotation = 90)\n",
    "plt.ylabel(\"Total ventas\")\n",
    "plt.plot_date(x, y, c = \"blue\", ls = \"--\", lw = 2, tz = \"Europe/Madrid\")\n",
    "plt.show()"
   ],
   "outputs": [],
   "execution_count": null
  },
  {
   "cell_type": "markdown",
   "metadata": {
    "id": "ukeX6tp_JoXo"
   },
   "source": [
    "# Errores y excepciones"
   ]
  },
  {
   "cell_type": "markdown",
   "metadata": {
    "id": "sKlg1lPdJsCO"
   },
   "source": [
    "Ahora vamos a aprender sobre los diferentes tipos de errores y excepciones que existen en `Python`. Tanto los errores como las excepciones saltan cuando el intérprete de `Python` encuentra algún error.\n",
    "\n",
    "Es completamente normal cometer ciertos errores mientras se escribe un programa. Estos fallos conducen a errores cuando tratamos de ejecutar dicho programa. La ejecución termina al instante de encontrar alguno de esos fallos, que pueden ser de dos tipos:\n",
    "\n",
    "1. Error de sintaxis\n",
    "2. Excepción (error de lógica)"
   ]
  },
  {
   "cell_type": "markdown",
   "metadata": {
    "id": "a90lR8YaKeYS"
   },
   "source": [
    "## Errores de sintaxis\n",
    "\n",
    "**Error de sintaxis.** Ocurre cuando no se sigue la sintaxis correcta del lenguaje.\n",
    "\n",
    "Un error de sintaxis ocurre cuando nos dejamos un paréntesis sin cerrar, los dos puntos tras la condición de un operador de decisión o iteración..."
   ]
  },
  {
   "cell_type": "code",
   "metadata": {
    "colab": {
     "base_uri": "https://localhost:8080/",
     "height": 131
    },
    "id": "b1P7O_6cI31b",
    "outputId": "427925db-ec8f-4ec9-fed7-d4ea390c9582"
   },
   "source": [
    "a = 2\n",
    "if (a > 3 : \n",
    "    print(a)"
   ],
   "outputs": [],
   "execution_count": null
  },
  {
   "cell_type": "markdown",
   "metadata": {
    "id": "1N5GRmOXLMpw"
   },
   "source": [
    "Como podemos observar, ha saltado un error de sintaxis, `SintaxError`, debido a que nos hemos olvidado del paréntesis de cierre. Además, el propio error nos indica a qué es debido y dónde tenemos que modificar el código para corregir el fallo."
   ]
  },
  {
   "cell_type": "markdown",
   "metadata": {
    "id": "AS6Vd1RTLiKp"
   },
   "source": [
    "## Excepciones\n",
    "\n",
    "**Excepción.** Una vez superado el test de sintaxis, si la ejecución del programa es interrumpida, entonces estamos ante una excepción o error de lógica.\n",
    "\n",
    "Una excepción puede deberse a intentar llamar a una variable que no ha sido declarada (`NameError`), intentar abrir un archivo que no se encuentra en la dirección indicada (`FileNotFoundError`), intentar dividir un número entre cero (`ZeroDivisionError`)... Siempre que se da alguna de estas situaciones, `Python` crea un objeto excepción. Si no es manejado correctamente, imprime un rastreo del error junto a algunos detalles sobre qué ha causado dicho error."
   ]
  },
  {
   "cell_type": "code",
   "metadata": {
    "colab": {
     "base_uri": "https://localhost:8080/",
     "height": 201
    },
    "id": "40_Es241LJSF",
    "outputId": "5d19f355-70a1-4e98-accc-0dc6fb47c25e"
   },
   "source": [
    "a = 2\n",
    "if (b > 3) : \n",
    "    print(b)"
   ],
   "outputs": [],
   "execution_count": null
  },
  {
   "cell_type": "markdown",
   "metadata": {
    "id": "B88PCh4-M5wr"
   },
   "source": [
    "Como podemos observar, ha saltado una excepción, `NameError`, debido a que nos hemos llamado a una variable que no existe. Además, el propio error nos indica a qué es debido y dónde tenemos que modificar el código para corregir el fallo."
   ]
  },
  {
   "cell_type": "markdown",
   "metadata": {
    "id": "n4t4g7_rNHYh"
   },
   "source": [
    "### Excepciones de `Python`\n",
    "\n",
    "Existen múltiples excepciones en `Python` que se nos muestran cuando se dan los errores correspondientes. Podemos mostrar por pantalla todas las excepciones de `Python` usando la función `locals()` tal y como se muestra a continuación"
   ]
  },
  {
   "cell_type": "code",
   "metadata": {
    "colab": {
     "base_uri": "https://localhost:8080/"
    },
    "id": "C8a5IDhjM3GR",
    "outputId": "413b0457-abf1-4188-adce-f54ce5af2b65"
   },
   "source": [
    "    for i in dir(locals()['__builtins__']):\n",
    "      print(i)"
   ],
   "outputs": [],
   "execution_count": null
  },
  {
   "cell_type": "markdown",
   "metadata": {
    "id": "68tXszg4NwXL"
   },
   "source": [
    "`locals[\"__builtins__\"]` nos devuelve el módulo con las excepciones, funciones y atributos de `Python`. La función `dir()` nos permite listar todos esos elementos como strings.\n",
    "\n",
    "Algunas de las excepciones de `Python` más comunes al programar son:\n",
    "\n",
    "| Excepción | Causa |\n",
    "| :---: | :--- |\n",
    "| `ArithmeticError` | Cuando falla una operación numérica |\n",
    "| `AssertionError` | Cuando falla una declaración `assert` |\n",
    "| `AtributeError` | Cuando falla una asignación de atributo o referencia |\n",
    "| `EOFError` | Cuando la función `input()` llega a la condición fin de archivo (end-of-file) |\n",
    "| `FloatingPointError` | Cuando falla una operación en coma flotante |\n",
    "| `ImportError` | Cuando un módulo importando no es encontrado |\n",
    "| `IndentationError` | Cuando la indentación no es correcta |\n",
    "| `IndexError` | Cuando el índice de una secuencia se sale del rango |\n",
    "| `KeyError` | Cuando una clave de un diccionario no es encontrada |\n",
    "| `KeyboardInterrupt` | Cuando el usuario pulsa la tecla de interrupción |\n",
    "| `LookupError` | Cuando el error no puede ser encontrado |\n",
    "| `MemoryError` | Cuando una operación se queda sin memoria |\n",
    "| `NameError` | Cuando se llama a una variable que no se encuentra a nivel global ni local |\n",
    "| `NotImplementedError` | Cuando un método abstracto requiere de una clase heredada para sobreescribir el método |\n",
    "| `OverflowError` | Cuando el resultado de una operación aritmética es demasiado grande para ser representado |\n",
    "| `RuntimeError` | Cuando un error no entra dentro de ninguna categoría |\n",
    "| `TabError` | Cuando la indentación consiste de tabulaciones y espacios en blanco inconsistentes |\n",
    "| `TypeError` | Cuando a una función u operación se le suministra un objeto de tipo incorrecto |\n",
    "| `ValueError` | Cuando una función obtiene un argumento del tipo correcto pero de valor incorrecto |\n",
    "| `ZeroDivisionError` | Cuando el divisor de una división es 0 |"
   ]
  },
  {
   "cell_type": "markdown",
   "metadata": {
    "id": "r3Z3jQpARUTD"
   },
   "source": [
    "### Manejo de excepciones\n",
    "\n",
    "Como programadores, necesitamos ser lo más específicos posible. Esto implica ser conscientes de los errores que podrían ocurrir. Por suerte, `Python` permite a los programadores tratar con errores de forma eficiente.\n",
    "\n",
    "Podemos manejar excepciones usando 5 sentencias:\n",
    "\n",
    "1. `try / except`\n",
    "2. `try / finally`\n",
    "3. `assert`\n",
    "4. `raise`\n",
    "5. `with / as`\n",
    " "
   ]
  },
  {
   "cell_type": "markdown",
   "metadata": {
    "id": "6wKPuigWTrns"
   },
   "source": [
    "#### 1. `try / except`\n",
    "\n",
    "* El bloque `try` permite comprobar si hay errores de código.\n",
    "* El bloque `except` permite manejar el error.\n",
    "\n",
    "En el siguiente chunk, en caso de que ocurra el error, imprimimos un mensaje por pantalla:"
   ]
  },
  {
   "cell_type": "code",
   "metadata": {
    "colab": {
     "base_uri": "https://localhost:8080/"
    },
    "id": "nF0S2g29NfIN",
    "outputId": "67367795-5946-4148-c472-b99a1a3a9580"
   },
   "source": [
    "a, b = 5, 0\n",
    "\n",
    "try:\n",
    "  print(a / b)\n",
    "except ZeroDivisionError:\n",
    "  print(\"¡Has querido dividir entre 0!\")"
   ],
   "outputs": [],
   "execution_count": null
  },
  {
   "cell_type": "markdown",
   "metadata": {
    "id": "hnlfw_CuaRHX"
   },
   "source": [
    "En el siguiente chunk, en caso de que ocurra el error, imprimimos el mensaje de la excepción correspondiente por pantalla:"
   ]
  },
  {
   "cell_type": "code",
   "metadata": {
    "colab": {
     "base_uri": "https://localhost:8080/"
    },
    "id": "Ndx1275gUAOy",
    "outputId": "f1a7f908-9be7-4d22-92c3-f82c78ac6662"
   },
   "source": [
    "a, b = 5, 0\n",
    "\n",
    "try:\n",
    "  print(a / b)\n",
    "except ZeroDivisionError as message:\n",
    "  print(message)"
   ],
   "outputs": [],
   "execution_count": null
  },
  {
   "cell_type": "markdown",
   "metadata": {
    "id": "OXu9RFwQah22"
   },
   "source": [
    "Sin `try /except`, hubiéramos obtenido"
   ]
  },
  {
   "cell_type": "code",
   "metadata": {
    "colab": {
     "base_uri": "https://localhost:8080/",
     "height": 184
    },
    "id": "4d8QwNHKabab",
    "outputId": "be3a95d2-f733-4e56-f043-8d0a988671de"
   },
   "source": [
    "a, b = 5, 0\n",
    "print(a / b)"
   ],
   "outputs": [],
   "execution_count": null
  },
  {
   "cell_type": "markdown",
   "metadata": {
    "id": "CCmyhNBjbIIS"
   },
   "source": [
    "Podríamos poner más de un bloque `except`"
   ]
  },
  {
   "cell_type": "code",
   "metadata": {
    "colab": {
     "base_uri": "https://localhost:8080/"
    },
    "id": "wVl_1LkAbNZK",
    "outputId": "6c83dd84-0ddc-49f2-9936-5897df4841cd"
   },
   "source": [
    "a, b = \"a\", 0\n",
    "\n",
    "try:\n",
    "  print(a / b)\n",
    "except ZeroDivisionError:\n",
    "  print(\"¡Has querido dividir entre 0!\")\n",
    "except:\n",
    "  print(\"Algo más ha salido mal\")"
   ],
   "outputs": [],
   "execution_count": null
  },
  {
   "cell_type": "markdown",
   "metadata": {
    "id": "IyyeNwfbbcTd"
   },
   "source": [
    "En el chunk anterior hemos intentado dividir un string entre 0. Por tanto, la execpción ya no se debe a intentar dividir entre 0, sino a otro motivo: que un string no puede ser el dividendo de la división.\n",
    "\n",
    "También podemos combinar `try / except` con `else`:"
   ]
  },
  {
   "cell_type": "code",
   "metadata": {
    "colab": {
     "base_uri": "https://localhost:8080/"
    },
    "id": "irtyJa16kC8o",
    "outputId": "1c3b4f5c-2fd3-4411-936a-ed5d33de6f2c"
   },
   "source": [
    "a, b = 5, 2\n",
    "\n",
    "try:\n",
    "  print(a / b)\n",
    "except ZeroDivisionError:\n",
    "  print(\"¡Has querido dividir entre 0!\")\n",
    "else:\n",
    "  print(\"Nada ha salido mal\")"
   ],
   "outputs": [],
   "execution_count": null
  },
  {
   "cell_type": "markdown",
   "metadata": {
    "id": "xHZcoeitkCX8"
   },
   "source": [
    "El bloque `else` se ejecutará siempre y cuando no haya excepciones, junto al bloque `try`, tal cual ocurre en el ejemplo anterior."
   ]
  },
  {
   "cell_type": "markdown",
   "metadata": {
    "id": "8BRyLExNawBK"
   },
   "source": [
    "#### 2. `try / finally`\n",
    "\n",
    "* El bloque `try` permite comprobar si hay errores de código.\n",
    "* El bloque `finally` permite ejecutar el código a pesar del resultado de los bloques `try` y `except`."
   ]
  },
  {
   "cell_type": "code",
   "metadata": {
    "colab": {
     "base_uri": "https://localhost:8080/"
    },
    "id": "2M-DO6p3aoxH",
    "outputId": "409a53d1-d218-412d-e6c4-becf6852e2be"
   },
   "source": [
    "a, b = 5, 0\n",
    "\n",
    "try:\n",
    "  print(a / b)\n",
    "except:\n",
    "  print(\"Algo ha salido mal\")\n",
    "finally:\n",
    "  print(\"El proceso try / except ha finalizado\")"
   ],
   "outputs": [],
   "execution_count": null
  },
  {
   "cell_type": "code",
   "metadata": {
    "colab": {
     "base_uri": "https://localhost:8080/"
    },
    "id": "61hdKj0jkkHI",
    "outputId": "2334c0f3-771e-4dec-e66b-011062795c51"
   },
   "source": [
    "a, b = 5, 2\n",
    "\n",
    "try:\n",
    "  print(a / b)\n",
    "except:\n",
    "  print(\"Algo ha salido mal\")\n",
    "finally:\n",
    "  print(\"El proceso try / except ha finalizado\")"
   ],
   "outputs": [],
   "execution_count": null
  },
  {
   "cell_type": "markdown",
   "metadata": {
    "id": "hvmEEv96kp4F"
   },
   "source": [
    "Sea cual sea el caso, el bloque `finally` siempre se ejecuta. \n",
    "\n",
    "El bloque `finally` puede ser útil para cerrar objetos y limpiar recursos."
   ]
  },
  {
   "cell_type": "markdown",
   "metadata": {
    "id": "qIg2D8D1leqc"
   },
   "source": [
    "#### 3. `assert`\n",
    "\n",
    "La palabra reservada `assert` se utiliza para depurar (debug) el código. Nos permite comprobar si una condición en nuestro código devuelve `True`. De lo contrario, el programa nos devolverá un `AssertionError`\n"
   ]
  },
  {
   "cell_type": "code",
   "metadata": {
    "id": "oEOI3QiZoHlC"
   },
   "source": [
    "x = \"Hola\"\n",
    "\n",
    "# Si la condición devuelve True, no ocurre nada\n",
    "assert x == \"Hola\""
   ],
   "outputs": [],
   "execution_count": null
  },
  {
   "cell_type": "code",
   "metadata": {
    "colab": {
     "base_uri": "https://localhost:8080/",
     "height": 184
    },
    "id": "Pa4XJmrPoUmg",
    "outputId": "14b3328e-7672-48bd-a452-b8ae2689cd9b"
   },
   "source": [
    "# Si la condición devuelve False, salta un AssertionError\n",
    "assert x == \"Adiós\""
   ],
   "outputs": [],
   "execution_count": null
  },
  {
   "cell_type": "markdown",
   "metadata": {
    "id": "M7Lc_TCYoUB-"
   },
   "source": [
    "En el caso de que la condición devuelva `False`, podríamos indicar un mensaje del siguiente modo:"
   ]
  },
  {
   "cell_type": "code",
   "metadata": {
    "colab": {
     "base_uri": "https://localhost:8080/",
     "height": 184
    },
    "id": "LE3YMIAAoiPp",
    "outputId": "5591e741-c207-4342-8d2b-de456aa2fdb2"
   },
   "source": [
    "# Si la condición devuelve False, salta un AssertionError\n",
    "assert x == \"Adiós\", \"x debería de contener 'Hola'\""
   ],
   "outputs": [],
   "execution_count": null
  },
  {
   "cell_type": "code",
   "metadata": {
    "colab": {
     "base_uri": "https://localhost:8080/"
    },
    "id": "EGrIj57SccDk",
    "outputId": "5a4cbd2a-222e-40c0-e020-5c453fbff2d8"
   },
   "source": [
    "import math\n",
    "x = 7.5\n",
    "assert x > 0, \"El valor de x debe ser positivo para calcular un logaritmo\"\n",
    "math.log(x)"
   ],
   "outputs": [],
   "execution_count": null
  },
  {
   "cell_type": "markdown",
   "metadata": {
    "id": "clsssFjyliMl"
   },
   "source": [
    "#### 4. `raise`\n",
    "\n",
    "Como programadores, podemos elegir cuando mostrar una excepción dada una condición. Para mostrar excepciones, usamos la palabra reservada `raise`\n"
   ]
  },
  {
   "cell_type": "code",
   "metadata": {
    "colab": {
     "base_uri": "https://localhost:8080/",
     "height": 201
    },
    "id": "_I5x5jY-mCtV",
    "outputId": "a57b1039-8048-4fee-a5e8-cb4f690e6217"
   },
   "source": [
    "radius = -7\n",
    "if radius < 0:\n",
    "  raise Exception(\"El radio no puede tomar valores menores a 0\")"
   ],
   "outputs": [],
   "execution_count": null
  },
  {
   "cell_type": "markdown",
   "metadata": {
    "id": "YvxGWK-HmQDx"
   },
   "source": [
    "En el chunk anterior hemos usado `raise` para mostrar una excepción. No obstante, podemos elegir qué tipo de excepción mostrar y el texto que imprimir al usuario:"
   ]
  },
  {
   "cell_type": "code",
   "metadata": {
    "colab": {
     "base_uri": "https://localhost:8080/",
     "height": 236
    },
    "id": "5mzBJ3D7mcfy",
    "outputId": "9e6a974e-82b2-4259-f686-ab3b7ad507d5"
   },
   "source": [
    "radius = \"-5\"\n",
    "\n",
    "if not type(radius) is int and not type(radius) is float:\n",
    "  raise TypeError(\"El radio debe ser de tipo numérico (int o float)\")\n",
    "elif radius < 0:\n",
    "  raise Exception(\"El radio no puede tomar valores menores a 0\")"
   ],
   "outputs": [],
   "execution_count": null
  },
  {
   "cell_type": "markdown",
   "metadata": {
    "id": "DNDAQ__Aln7C"
   },
   "source": [
    "#### 5. `with / as`\n",
    "\n",
    "La palabra reservada `with` se utiliza para manejar excepciones y conseguir así un código más limpio y legible. Simplifica el manejo de recursos comunes tales como flujos de archivos.\n",
    "\n",
    "En el siguiente chunk  no utilizamos la palabra reservada `with`"
   ]
  },
  {
   "cell_type": "code",
   "metadata": {
    "id": "c78k4VOYlJSs"
   },
   "source": [
    "file = open(\"path_del_archivo\", \"w\")\n",
    "try: \n",
    "    file.write(\"¡Hola, caracola!\") \n",
    "finally: \n",
    "    file.close() "
   ],
   "outputs": [],
   "execution_count": null
  },
  {
   "cell_type": "markdown",
   "metadata": {
    "id": "TWDtSKxVrV6c"
   },
   "source": [
    "Mientras que en el siguiente sí que utilizamos `with / as` y observamos que el código queda mucho más limpio y legible."
   ]
  },
  {
   "cell_type": "code",
   "metadata": {
    "id": "nFH7CE-brJWT"
   },
   "source": [
    "with open(\"path_del_archivo\", \"w\") as file: \n",
    "    file.write(\"¡Hola, caracola!\") "
   ],
   "outputs": [],
   "execution_count": null
  },
  {
   "cell_type": "markdown",
   "metadata": {
    "id": "Bj0tsBPBrrWJ"
   },
   "source": [
    "Ambos chunks de código darían el mismo resultado. No obstante, el segundo tiene menos líneas de código, pues entre otras cosas no le hace falta la línea `file.close()`, tal cual vimos en el tema anterior. \n",
    "\n",
    "La palabra reservada `with` se asegura la adquisición y liberación adecuadas de recursos. "
   ]
  }
 ],
 "metadata": {
  "colab": {
   "collapsed_sections": [],
   "provenance": [],
   "toc_visible": true
  },
  "kernelspec": {
   "display_name": "Python 3 (ipykernel)",
   "language": "python",
   "name": "python3"
  },
  "language_info": {
   "codemirror_mode": {
    "name": "ipython",
    "version": 3
   },
   "file_extension": ".py",
   "mimetype": "text/x-python",
   "name": "python",
   "nbconvert_exporter": "python",
   "pygments_lexer": "ipython3",
   "version": "3.9.13"
  }
 },
 "nbformat": 4,
 "nbformat_minor": 1
}
