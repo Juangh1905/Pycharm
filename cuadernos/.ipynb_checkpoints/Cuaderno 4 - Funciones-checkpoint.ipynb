{
 "cells": [
  {
   "cell_type": "markdown",
   "id": "3b51ccc1",
   "metadata": {},
   "source": [
    "# Funciones\n",
    "\n",
    "Una función en un concepto matemático, que podríamos traducirlo al mundo de la programación como un conjunto de instrucciones con un nombre o identificador. Siempre el mismo conjunto de instrucciones. \n",
    "Ese identificador de la función sigue las mismas reglas de nomenclatura que las variables en python.\n",
    "\n",
    "La función puede adaptar y cambiar su comportamiento a partir de parámetros. Parámetros formales y parámetros actuales.\n",
    "\n",
    "\n"
   ]
  },
  {
   "cell_type": "code",
   "id": "e991f43c",
   "metadata": {},
   "source": [
    "# Para definir una función utilizamos la palabra reservada def\n",
    "\n",
    "def suma(a, b):\n",
    "    c=a+b\n",
    "    return c\n",
    "\n",
    "suma(10,20)\n"
   ],
   "outputs": [],
   "execution_count": null
  },
  {
   "cell_type": "markdown",
   "id": "5a63285f",
   "metadata": {},
   "source": [
    "## Llamadas a funciones\n",
    "\n",
    "La llamada a la función se hace a través del identificador. Y entre parénterisis vamos a especificar los parámetros actuales. Por ejemplo:"
   ]
  },
  {
   "cell_type": "code",
   "id": "347691f3",
   "metadata": {},
   "source": [
    "def es_primo(a):  #a es un parámetro formal\n",
    "    for i in range(2,a):\n",
    "        if a % i == 0:   # a división entera entre i -> resto \n",
    "            return False\n",
    "    return True\n",
    "   \n",
    "    \n",
    "print(7,es_primo(7))   # 7 es un parámetro actual.\n",
    "print(8,es_primo(8))\n",
    "\n",
    "lista=[2,7,10,15,23,91]\n",
    "for i in lista:\n",
    "    print(i,es_primo(i))\n",
    "\n",
    "\n",
    "a=es_primo(49)\n",
    "\n",
    "print(a)"
   ],
   "outputs": [],
   "execution_count": null
  },
  {
   "cell_type": "markdown",
   "id": "54b2d79f",
   "metadata": {},
   "source": [
    "## Tipos de parámetros\n",
    "\n",
    "Por una lado los parámetros que se incorporan en la definición de la función son los parámetros formales, \n",
    "y los parámetros que se incorporar en la llamada a la función son parámetros actuales. El mecanismo de funcionamiento es que cuando se hace la llamada a una función, esa función va a crear tantas variables como parámetros formales tenga, y se van a copiar los parámetros actuales a esas variables\n",
    "\n",
    "### Hay dos formas de paso de parámetros\n",
    "\n",
    "- Paso de parámetros por valor: Se copia el valor del parámetro actual en el formal. -> Si yo modifico el parámetro formal en la ejecución de la función, el parámetro actual no se ve afectado.\n",
    "\n",
    "- Paso de parámetros por referencia: Se copia una referencia (y no el valor). En este caso, el objeto que se envía como parámetro puede resultar modificado dentro de la función\n"
   ]
  },
  {
   "cell_type": "code",
   "id": "cfbd4402",
   "metadata": {},
   "source": [
    "# El objetivo de esta función es mostrar la diferencia entre paso por valor y por referencia\n",
    "\n",
    "def modifica(a, b):\n",
    "    print(\"Dentro de la función, a vale\",a,\" y b vale\",b )\n",
    "    a=5\n",
    "    b=10\n",
    "    print(\"Dentro de la función, a vale\",a,\" y b vale\",b )\n",
    "    \n",
    "\n",
    "x=27\n",
    "y=30\n",
    "modifica(x,y)\n",
    "print(x,y) #¿Qué valor tiene?    "
   ],
   "outputs": [],
   "execution_count": null
  },
  {
   "cell_type": "markdown",
   "id": "ae1f4d2a",
   "metadata": {},
   "source": [
    "### ¿Qué ha pasado aquí?\n",
    "\n",
    "La característica de python en el paso de parámetros es la siguiente:\n",
    "- Si un parámetro es de tipo simple -> paso de parámetros por valor\n",
    "- Si un parámetro es de tipo compuesto (lista, diccionario, objeto...) -> paso de parámetros por referencia\n",
    "\n",
    "En el ejemplo anterior, los parámetros actuales, son de tipo simple, por tanto se copian sin más en el parámetro formal\n",
    "\n",
    "27 -> x (parámetro formal)\n",
    "30 -> y (\"\")\n",
    "\n",
    "    dentro de modifica\n",
    "         se crean las variables a y b\n",
    "         se copia el valor de x e y en las variables a y b\n",
    "         modifica el valor de las variables a y b\n",
    "         \n",
    "\n",
    "\n"
   ]
  },
  {
   "cell_type": "code",
   "id": "6ed3da79",
   "metadata": {},
   "source": [
    "# vacia lista recibe un objeto \"compuesto\" por lo que su paso a parámetro formal se hace a través de una referencia\n",
    "def vacia_lista(l):\n",
    "    l.clear()\n",
    "\n",
    "    \n",
    "lista = [1,2,3,4,5,6,7]\n",
    "vacia_lista(lista)\n",
    "print(lista)\n"
   ],
   "outputs": [],
   "execution_count": null
  },
  {
   "cell_type": "code",
   "id": "9d6d500f",
   "metadata": {},
   "source": [
    "# EJEMPLO: Crea una función que intercambie el valor de dos variables de tipo entero -> intercambia\n",
    "def intercambia(a:int, b:int)->None:\n",
    "    pass  #implementa tu esta función\n",
    "\n",
    "a=7\n",
    "b=5\n",
    "intercambia(a,b)\n",
    "# en este caso, intercambia nunca modificará los valores de a y b\n",
    "print(a,b)\n",
    "\n",
    "# reprograma intercambia para intercambiar los valores de estas variables\n",
    "a=[7]\n",
    "b=[5]\n",
    "def intercambia(a:int, b:int)->None:\n",
    "    pass\n",
    "\n",
    "\n",
    "intercambia(a,b)\n",
    "# en este caso, la función intercambia si podrá modificar los parámetros actuales\n",
    "print(a,b)\n"
   ],
   "outputs": [],
   "execution_count": null
  },
  {
   "cell_type": "code",
   "id": "8f866700",
   "metadata": {},
   "source": [
    "# el reto es.... \"Crea una función intercambia que cambie los elementos de una lista por los de otra\"\n",
    "def intercambia(lista1, lista2):\n",
    "    pass\n",
    "\n",
    "\n",
    "\n",
    "l1 = [1, 2, 3, 4]\n",
    "l2 = [5, 6, 7, 8]\n",
    "print(\"antes: \", l1, l2)\n",
    "intercambia(l1, l2)\n",
    "print(\"después: \", l1, l2)\n",
    "print(\"x vale\",x)\n"
   ],
   "outputs": [],
   "execution_count": null
  },
  {
   "cell_type": "markdown",
   "id": "4f866b0c",
   "metadata": {},
   "source": [
    "### El valor de retorno de las funciones\n",
    "\n",
    "Originalmente una función sólo puede retornar un valor, por ejemplo\n",
    "\n",
    "sumaTotal=suma(10,20,20,30,40)\n",
    "\n",
    "en Python, podemos retornar tuplas de valores y esas tuplas desempaquetarlas sobre un conjunto de variables"
   ]
  },
  {
   "cell_type": "code",
   "id": "3017c86d",
   "metadata": {},
   "source": [
    "# Función que devuelva la división euclídea div(a,b) -> c,r\n",
    "\n",
    "#div(5,2) -> c=2, r=1\n",
    "\n",
    "def division_euclidea(a,b):\n",
    "    cociente=a//b\n",
    "    resto=a%b\n",
    "    return cociente,resto\n",
    "\n",
    "c,r=division_euclidea(5,2)\n",
    "print(c,r)\n"
   ],
   "outputs": [],
   "execution_count": null
  },
  {
   "cell_type": "markdown",
   "id": "2ab35672",
   "metadata": {},
   "source": [
    "### Múltiples parámetros de una función\n",
    "\n",
    "Una función puede recibir n parámetros de diferentes tipos, todos con identificador (cada parámetro formal lleva su identificador)\n",
    "\n"
   ]
  },
  {
   "cell_type": "code",
   "id": "12b11940",
   "metadata": {},
   "source": [
    "# puedo definir múltiples parámetros de diferentes tipos y además, con valores por defecto\n",
    "\n",
    "# inicialmente, los parámetros actuales se copian en orden en los parámetros formales\n",
    "def funcion1(a, b, c, d=20, e=\"Hola\", f=[10,20], g=4+2j):\n",
    "    print(a,b,c,d,e,f,g)\n",
    "    \n",
    "\n",
    "funcion1({\"alumno\":\"Pedro\",\"apellido\":\"Martínez\"}, 10, 17.2)\n"
   ],
   "outputs": [],
   "execution_count": null
  },
  {
   "cell_type": "code",
   "id": "4a9b9336",
   "metadata": {},
   "source": [
    "# La copia en orden se puede modificar:\n",
    "\n",
    "def imprime_datos(nombre, apellido, edad, DNI):\n",
    "    print(\"Nombre\",nombre)\n",
    "    print(\"apellidos\",apellido)\n",
    "    print(\"edad\",str(edad))\n",
    "    print(\"DNI\",str(DNI))\n",
    "    \n",
    "    \n",
    "imprime_datos(\"Paco\",\"Jimenez\",25,\"X94858757\")"
   ],
   "outputs": [],
   "execution_count": null
  },
  {
   "cell_type": "code",
   "id": "7a80bf79",
   "metadata": {},
   "source": [
    "imprime_datos(apellido=\"Fernández\",DNI=\"5757575757X\",nombre=\"Paco\",10)"
   ],
   "outputs": [],
   "execution_count": null
  },
  {
   "cell_type": "code",
   "id": "29583576",
   "metadata": {},
   "source": [
    "# Hay varios tipos de \"argumentos\". Los primeros en orden, son los parámetros posicionales, \n",
    "# luego los posicionales opcionales\n",
    "# luego se indican los parámetros indefinidos (*), cualquier número de parámetros, \n",
    "# finalmente vienen los keyword (**), es decir, argumentos que se pasan a través de un diccionario\n",
    "\n",
    "def imprime_nombre(nombre, apellido1, edad, * otros_apellidos):\n",
    "    apellido2, *_, apellido3= otros_apellidos\n",
    "    print(nombre, apellido1,edad,apellido2,apellido3)\n",
    "    \n",
    "    \n",
    "imprime_nombre(\"iván\",\"Pérez\",27,\"Martinez\",\"López\",\"Sánchez\",\"Aranburu\")\n",
    "\n"
   ],
   "outputs": [],
   "execution_count": null
  },
  {
   "cell_type": "code",
   "id": "1842a953",
   "metadata": {},
   "source": [
    "def suma(a,b,*c):\n",
    "    aux=sum(c)\n",
    "    return a+b+aux\n",
    "\n",
    "suma(2,3,5,6,7,78,8,8,8,8,8,9,9,9,6,5,1,4,23,2,2)"
   ],
   "outputs": [],
   "execution_count": null
  },
  {
   "cell_type": "code",
   "id": "800a990a",
   "metadata": {},
   "source": [
    "# podemos añadir a la función argumentos keywords **\n",
    "def imprime_datos(** datos):\n",
    "    print(\"el nombre del alumno es \", datos[\"nombre\"])\n",
    "    print(\"el apellido del alumno es\", datos[\"apellido\"])\n",
    "    print(\"la edad del alumno es \",str(datos[\"edad\"]))\n",
    "    \n",
    "    \n",
    "imprime_datos(nombre=\"Pedro\",apellido=\"pérez\",edad=20)"
   ],
   "outputs": [],
   "execution_count": null
  },
  {
   "cell_type": "code",
   "id": "4e85761b",
   "metadata": {},
   "source": [
    "def imprime_datos(nombre, apellidos, * notas, **extras ):\n",
    "    print(\"el nombre es\",nombre)\n",
    "    print(\"el apellido es\",apellidos)\n",
    "    print(notas)\n",
    "    print(extras)\n",
    "    \n",
    "    \n",
    "imprime_datos(\"Francisco\",\"Suarez Peña\",7,8,9,10,4,5,7,profesor1=\"Alicia\",profesor2=\"Pedro\",profesor3=\"Iván\")"
   ],
   "outputs": [],
   "execution_count": null
  },
  {
   "cell_type": "markdown",
   "id": "cdc1540a",
   "metadata": {},
   "source": [
    "## Documentación de funciones\n",
    "\n",
    "En python existen las llamados docstrings, es decir, cadenas de caracteres para documentar cualquier objeto de python (librería, función, variable...)\n",
    "\n"
   ]
  },
  {
   "cell_type": "code",
   "id": "82d4ae17",
   "metadata": {},
   "source": [
    "print.__doc__"
   ],
   "outputs": [],
   "execution_count": null
  },
  {
   "cell_type": "code",
   "id": "e3663848",
   "metadata": {},
   "source": [
    "def es_primo(a) -> int:  #a es un parámetro formal\n",
    "    \"\"\"\n",
    "    Esta función sirve para calcular si un número es o no es primo\n",
    "    recibe los parámetros: \n",
    "    \n",
    "    a -- entero a comprobar\n",
    "    \n",
    "    retorna, True or False \n",
    "    \"\"\"\n",
    "    for i in range(2,a):\n",
    "        if a % i == 0:   # a división entera entre i -> resto \n",
    "            return False\n",
    "    return True"
   ],
   "outputs": [],
   "execution_count": null
  },
  {
   "cell_type": "code",
   "id": "74c36012",
   "metadata": {},
   "source": [
    "es_primo.__doc__"
   ],
   "outputs": [],
   "execution_count": null
  },
  {
   "cell_type": "markdown",
   "id": "c61c2aab",
   "metadata": {},
   "source": [
    "# Las variables locales y el alcance (scope)\n",
    "\n",
    "Hay 4 alcances para variables:\n",
    "1. Built in - Nativo de python por ejemplo: print, __doc__,  __name__\n",
    "2. Global - contiene todas las variables globales de un script\n",
    "3. Non local - en funciones anidadas\n",
    "4. Local - contiene todas las variables declaradas en una función\n"
   ]
  },
  {
   "cell_type": "code",
   "id": "26affbc7",
   "metadata": {},
   "source": [
    "a=7\n",
    "b=8\n",
    "\n",
    "def f1():\n",
    "    global a\n",
    "    a=10\n",
    "    global b\n",
    "    b=15\n",
    "    print(\"dentro de f1\",a,b)\n",
    "    \n",
    "print(\"fuera de f1\",a,b)\n",
    "f1()\n",
    "print(\"Tras llamar a f1\",a,b)\n",
    "    \n",
    "    \n"
   ],
   "outputs": [],
   "execution_count": null
  },
  {
   "cell_type": "markdown",
   "id": "d0e3a702",
   "metadata": {},
   "source": [
    "# Recursividad\n",
    "\n",
    "La capacidad de un lenguaje de programación de efectuar llamadas a una función en la definición de la misma función\n",
    "\n"
   ]
  },
  {
   "cell_type": "code",
   "id": "09a1a1e3",
   "metadata": {},
   "source": [
    "def potencia(a, b)->int:\n",
    "    \"\"\"\n",
    "    Esta función devuelve a^b\n",
    "    \"\"\"\n",
    "    print(\"potencia(\",a,b,\")\")\n",
    "    if b==0:\n",
    "        return 1    #condición de salida!\n",
    "    else:\n",
    "        return a*potencia(a,b-1)   #llamada recursiva\n",
    "    \n",
    "\n",
    "potencia(2,4)"
   ],
   "outputs": [],
   "execution_count": null
  },
  {
   "cell_type": "code",
   "id": "99a93b2d",
   "metadata": {},
   "source": [
    "#¿Cuántas veces se ha ejecutado la función potencia?\n",
    "# -> 5 veces"
   ],
   "outputs": [],
   "execution_count": null
  },
  {
   "cell_type": "code",
   "id": "8b631354",
   "metadata": {},
   "source": [
    "def fibonacci1(a):\n",
    "    if a==1:\n",
    "        return 1\n",
    "    elif a==2:\n",
    "        return 1\n",
    "    else:\n",
    "        return fibonacci1(a-1)+fibonacci1(a-2)\n",
    "    \n",
    "    \n"
   ],
   "outputs": [],
   "execution_count": null
  },
  {
   "cell_type": "code",
   "id": "13bed214",
   "metadata": {},
   "source": [
    "# versión de fibonacci en programación dinámica\n",
    "def fibonacci(a,dicc):\n",
    "    \n",
    "    if a==1:\n",
    "        dicc[a]=1\n",
    "        return dicc[a]\n",
    "    \n",
    "    elif a==2:\n",
    "        dicc[a]=1\n",
    "        return dicc[a]\n",
    "    \n",
    "    else:\n",
    "        if a-1 in dicc:\n",
    "            valor1=dicc[a-1]\n",
    "        else:\n",
    "            valor1=fibonacci(a-1,dicc)\n",
    "            dicc[a-1]=valor1\n",
    "        \n",
    "        if a-2 in dicc:\n",
    "            valor2=dicc[a-2]\n",
    "        else:\n",
    "            valor2=fibonacci(a-2,dicc)\n",
    "        \n",
    "        return valor1+valor2\n",
    "    \n",
    "miDiccionario={}\n",
    "resultado=fibonacci(40,miDiccionario)\n",
    "print(resultado,miDiccionario)"
   ],
   "outputs": [],
   "execution_count": null
  },
  {
   "cell_type": "code",
   "id": "708f9a95",
   "metadata": {},
   "source": [
    "fibonacci(50,miDiccionario)"
   ],
   "outputs": [],
   "execution_count": null
  },
  {
   "cell_type": "code",
   "id": "a2ed407c",
   "metadata": {},
   "source": [
    "# podemos medir el tiempo de ejecución de un programa con la librería time\n",
    "\n",
    "import time\n",
    "\n",
    "comienzo=time.time()\n",
    "fibonacci1(100)\n",
    "end=time.time()\n",
    "print(end-comienzo)"
   ],
   "outputs": [],
   "execution_count": null
  },
  {
   "cell_type": "code",
   "id": "9b5f5c3f",
   "metadata": {},
   "source": [
    "import time\n",
    "\n",
    "comienzo=time.time()\n",
    "fibonacci(100,{})\n",
    "end=time.time()\n",
    "print(end-comienzo)"
   ],
   "outputs": [],
   "execution_count": null
  },
  {
   "cell_type": "markdown",
   "id": "a4bd8eab",
   "metadata": {},
   "source": [
    "## Funciones lambda\n",
    "\n",
    "Funciones en una sola línea. Su característica principal es que son muy sencillas. \n",
    "Se utilizan sobre todo como apoyo en la ejecución de otras funciones\n",
    "\n"
   ]
  },
  {
   "cell_type": "code",
   "id": "56736714",
   "metadata": {},
   "source": [
    "sumar1= lambda x: x+1\n"
   ],
   "outputs": [],
   "execution_count": null
  },
  {
   "cell_type": "code",
   "id": "a0b2bb69",
   "metadata": {},
   "source": [
    "print(sumar1(10))"
   ],
   "outputs": [],
   "execution_count": null
  },
  {
   "cell_type": "code",
   "id": "47d42f03",
   "metadata": {},
   "source": [
    "# función lambda que reciba dos parámetros\n",
    "suma= lambda x,y: x+y\n",
    "\n",
    "suma(10,20)"
   ],
   "outputs": [],
   "execution_count": null
  },
  {
   "cell_type": "code",
   "id": "a8c1204f",
   "metadata": {},
   "source": [
    "# función que devuelve si un número es o no es par\n",
    "par= lambda x: x%2==0\n",
    "\n",
    "\n",
    "if par(2): \n",
    "    print(\" 2 es par\")"
   ],
   "outputs": [],
   "execution_count": null
  },
  {
   "cell_type": "code",
   "id": "0bc1a424",
   "metadata": {},
   "source": [
    "# Sirven para apoyo a otras funciones: por ejemplo, sorted\n",
    "\n",
    "# sorted, ordena una lista de elementos proporcionados en un iterable\n",
    "# firma o prototipo: sorted(iterable, /, *, key=None, reverse=False)\n",
    "\n",
    "lista=[('David',8),('Alberto',6),('Javier',9),('Lucía',5)]\n",
    "\n",
    "# ponerle nombre a la lambda\n",
    "tomaNota=lambda x: x[1]\n",
    "lista_ordenada=sorted(lista, key= tomaNota)\n",
    "lista_ordenada"
   ],
   "outputs": [],
   "execution_count": null
  },
  {
   "cell_type": "code",
   "id": "ae52f9ba",
   "metadata": {},
   "source": [
    "# sin nombre (lambda anónima)\n",
    "lista_ordenada=sorted(lista, key= lambda x: x[1],reverse=True)\n",
    "lista_ordenada"
   ],
   "outputs": [],
   "execution_count": null
  },
  {
   "cell_type": "markdown",
   "id": "b3af4360",
   "metadata": {},
   "source": [
    "###### Funciones filter, map y reduce\n",
    "\n",
    "Son una terna de funciones, filter y map pertenecen a las built-in de python y reduce que pertenece al paquete functools.\n",
    "\n",
    "- filter (iterable, fun(x)) -> Recorre un iterable aplicando una función (por ejemplo, una lambda) a cada elemento, y devuelve un iterable con aquellos elementos a los que aplicando la función, retornan True\n",
    "\n",
    "- map (iterable, fun(x) -> Recorre un iterable y aplica una función (por ejemplo, una lambda) a cada elemento del iterable\n",
    "\n",
    "- reduce (iterable, fun(x,y)) -> Recorre el iterable y aplica la función la lambda sobre el primer elemento y el segundo elemento."
   ]
  },
  {
   "cell_type": "code",
   "id": "68b6c1c2",
   "metadata": {},
   "source": [
    "# ejemplo con la función filter\n",
    "\n",
    "lista = [ 2,6,7,10,11,13]\n",
    "\n",
    "lista_nueva=list(filter(par,lista))\n",
    "lista_nueva\n"
   ],
   "outputs": [],
   "execution_count": null
  },
  {
   "cell_type": "code",
   "id": "96599ff0",
   "metadata": {},
   "source": [
    "# ejemplo con la función map\n",
    "cuadrados=lambda x: x*x\n",
    "lista = [ 2,6,7,10,11,13]\n",
    "lista_nueva=list(map(cuadrados,lista))\n",
    "lista_nueva\n"
   ],
   "outputs": [],
   "execution_count": null
  },
  {
   "cell_type": "code",
   "id": "2933d42e",
   "metadata": {},
   "source": [
    "from functools import reduce\n",
    "#ejemplo con la función reduce\n",
    "lista=[ 2,3,10,27,9,8,4]\n",
    "\n",
    "resultado=reduce(lambda x,y: x if x>y else y,lista)\n",
    "resultado"
   ],
   "outputs": [],
   "execution_count": null
  },
  {
   "cell_type": "code",
   "id": "d660eaa2",
   "metadata": {},
   "source": [
    "# con reduce, la suma de los elementos de una lista\n",
    "from functools import reduce\n",
    "lista=[ 2,3,10,27,9,8,4]\n",
    "\n",
    "resultado=reduce(lambda x,y: x+y,lista)\n",
    "resultado"
   ],
   "outputs": [],
   "execution_count": null
  }
 ],
 "metadata": {
  "kernelspec": {
   "display_name": "Python 3 (ipykernel)",
   "language": "python",
   "name": "python3"
  },
  "language_info": {
   "codemirror_mode": {
    "name": "ipython",
    "version": 3
   },
   "file_extension": ".py",
   "mimetype": "text/x-python",
   "name": "python",
   "nbconvert_exporter": "python",
   "pygments_lexer": "ipython3",
   "version": "3.11.3"
  }
 },
 "nbformat": 4,
 "nbformat_minor": 5
}
